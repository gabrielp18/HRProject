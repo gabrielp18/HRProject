{
  "nbformat": 4,
  "nbformat_minor": 0,
  "metadata": {
    "colab": {
      "name": "Projeto RH 2.0.ipynb",
      "provenance": [],
      "collapsed_sections": [
        "kWyseUJyZc1U"
      ]
    },
    "kernelspec": {
      "name": "python3",
      "display_name": "Python 3"
    },
    "language_info": {
      "name": "python"
    }
  },
  "cells": [
    {
      "cell_type": "markdown",
      "source": [
        "#Starting ou analysis"
      ],
      "metadata": {
        "id": "c_oErYTicvmq"
      }
    },
    {
      "cell_type": "code",
      "execution_count": 1,
      "metadata": {
        "id": "s-8iv2dswkQs"
      },
      "outputs": [],
      "source": [
        "#importing the necessary libraries\n",
        "\n",
        "import pandas as pd\n",
        "import numpy as np\n",
        "import seaborn as sns\n",
        "import matplotlib.pyplot as plt\n",
        "from sklearn.preprocessing import MinMaxScaler\n",
        "import scipy.stats as stats\n",
        "import pylab\n",
        "from scipy.stats import chi2_contingency\n",
        "from scipy.stats import chi2\n",
        "import scipy.stats as stats\n",
        "from scipy.stats import skew, kurtosis"
      ]
    },
    {
      "cell_type": "code",
      "source": [
        "#reading the file and creating a DataFrame\n",
        "\n",
        "df = pd.read_csv('HR.csv')\n",
        "df.head()"
      ],
      "metadata": {
        "id": "74U4R6OkwxK4",
        "colab": {
          "base_uri": "https://localhost:8080/",
          "height": 206
        },
        "outputId": "b4de2e26-d10f-4fb1-8070-45428adcfa5f"
      },
      "execution_count": 2,
      "outputs": [
        {
          "output_type": "execute_result",
          "data": {
            "text/html": [
              "\n",
              "  <div id=\"df-9f540315-5e90-4145-8ffc-739c86dec95c\">\n",
              "    <div class=\"colab-df-container\">\n",
              "      <div>\n",
              "<style scoped>\n",
              "    .dataframe tbody tr th:only-of-type {\n",
              "        vertical-align: middle;\n",
              "    }\n",
              "\n",
              "    .dataframe tbody tr th {\n",
              "        vertical-align: top;\n",
              "    }\n",
              "\n",
              "    .dataframe thead th {\n",
              "        text-align: right;\n",
              "    }\n",
              "</style>\n",
              "<table border=\"1\" class=\"dataframe\">\n",
              "  <thead>\n",
              "    <tr style=\"text-align: right;\">\n",
              "      <th></th>\n",
              "      <th>satisfaction_level</th>\n",
              "      <th>last_evaluation</th>\n",
              "      <th>number_project</th>\n",
              "      <th>average_montly_hours</th>\n",
              "      <th>time_spend_company</th>\n",
              "      <th>Work_accident</th>\n",
              "      <th>left</th>\n",
              "      <th>promotion_last_5years</th>\n",
              "      <th>Department</th>\n",
              "      <th>salary</th>\n",
              "    </tr>\n",
              "  </thead>\n",
              "  <tbody>\n",
              "    <tr>\n",
              "      <th>0</th>\n",
              "      <td>0.38</td>\n",
              "      <td>0.53</td>\n",
              "      <td>2</td>\n",
              "      <td>157</td>\n",
              "      <td>3</td>\n",
              "      <td>0</td>\n",
              "      <td>1</td>\n",
              "      <td>0</td>\n",
              "      <td>sales</td>\n",
              "      <td>low</td>\n",
              "    </tr>\n",
              "    <tr>\n",
              "      <th>1</th>\n",
              "      <td>0.80</td>\n",
              "      <td>0.86</td>\n",
              "      <td>5</td>\n",
              "      <td>262</td>\n",
              "      <td>6</td>\n",
              "      <td>0</td>\n",
              "      <td>1</td>\n",
              "      <td>0</td>\n",
              "      <td>sales</td>\n",
              "      <td>medium</td>\n",
              "    </tr>\n",
              "    <tr>\n",
              "      <th>2</th>\n",
              "      <td>0.11</td>\n",
              "      <td>0.88</td>\n",
              "      <td>7</td>\n",
              "      <td>272</td>\n",
              "      <td>4</td>\n",
              "      <td>0</td>\n",
              "      <td>1</td>\n",
              "      <td>0</td>\n",
              "      <td>sales</td>\n",
              "      <td>medium</td>\n",
              "    </tr>\n",
              "    <tr>\n",
              "      <th>3</th>\n",
              "      <td>0.72</td>\n",
              "      <td>0.87</td>\n",
              "      <td>5</td>\n",
              "      <td>223</td>\n",
              "      <td>5</td>\n",
              "      <td>0</td>\n",
              "      <td>1</td>\n",
              "      <td>0</td>\n",
              "      <td>sales</td>\n",
              "      <td>low</td>\n",
              "    </tr>\n",
              "    <tr>\n",
              "      <th>4</th>\n",
              "      <td>0.37</td>\n",
              "      <td>0.52</td>\n",
              "      <td>2</td>\n",
              "      <td>159</td>\n",
              "      <td>3</td>\n",
              "      <td>0</td>\n",
              "      <td>1</td>\n",
              "      <td>0</td>\n",
              "      <td>sales</td>\n",
              "      <td>low</td>\n",
              "    </tr>\n",
              "  </tbody>\n",
              "</table>\n",
              "</div>\n",
              "      <button class=\"colab-df-convert\" onclick=\"convertToInteractive('df-9f540315-5e90-4145-8ffc-739c86dec95c')\"\n",
              "              title=\"Convert this dataframe to an interactive table.\"\n",
              "              style=\"display:none;\">\n",
              "        \n",
              "  <svg xmlns=\"http://www.w3.org/2000/svg\" height=\"24px\"viewBox=\"0 0 24 24\"\n",
              "       width=\"24px\">\n",
              "    <path d=\"M0 0h24v24H0V0z\" fill=\"none\"/>\n",
              "    <path d=\"M18.56 5.44l.94 2.06.94-2.06 2.06-.94-2.06-.94-.94-2.06-.94 2.06-2.06.94zm-11 1L8.5 8.5l.94-2.06 2.06-.94-2.06-.94L8.5 2.5l-.94 2.06-2.06.94zm10 10l.94 2.06.94-2.06 2.06-.94-2.06-.94-.94-2.06-.94 2.06-2.06.94z\"/><path d=\"M17.41 7.96l-1.37-1.37c-.4-.4-.92-.59-1.43-.59-.52 0-1.04.2-1.43.59L10.3 9.45l-7.72 7.72c-.78.78-.78 2.05 0 2.83L4 21.41c.39.39.9.59 1.41.59.51 0 1.02-.2 1.41-.59l7.78-7.78 2.81-2.81c.8-.78.8-2.07 0-2.86zM5.41 20L4 18.59l7.72-7.72 1.47 1.35L5.41 20z\"/>\n",
              "  </svg>\n",
              "      </button>\n",
              "      \n",
              "  <style>\n",
              "    .colab-df-container {\n",
              "      display:flex;\n",
              "      flex-wrap:wrap;\n",
              "      gap: 12px;\n",
              "    }\n",
              "\n",
              "    .colab-df-convert {\n",
              "      background-color: #E8F0FE;\n",
              "      border: none;\n",
              "      border-radius: 50%;\n",
              "      cursor: pointer;\n",
              "      display: none;\n",
              "      fill: #1967D2;\n",
              "      height: 32px;\n",
              "      padding: 0 0 0 0;\n",
              "      width: 32px;\n",
              "    }\n",
              "\n",
              "    .colab-df-convert:hover {\n",
              "      background-color: #E2EBFA;\n",
              "      box-shadow: 0px 1px 2px rgba(60, 64, 67, 0.3), 0px 1px 3px 1px rgba(60, 64, 67, 0.15);\n",
              "      fill: #174EA6;\n",
              "    }\n",
              "\n",
              "    [theme=dark] .colab-df-convert {\n",
              "      background-color: #3B4455;\n",
              "      fill: #D2E3FC;\n",
              "    }\n",
              "\n",
              "    [theme=dark] .colab-df-convert:hover {\n",
              "      background-color: #434B5C;\n",
              "      box-shadow: 0px 1px 3px 1px rgba(0, 0, 0, 0.15);\n",
              "      filter: drop-shadow(0px 1px 2px rgba(0, 0, 0, 0.3));\n",
              "      fill: #FFFFFF;\n",
              "    }\n",
              "  </style>\n",
              "\n",
              "      <script>\n",
              "        const buttonEl =\n",
              "          document.querySelector('#df-9f540315-5e90-4145-8ffc-739c86dec95c button.colab-df-convert');\n",
              "        buttonEl.style.display =\n",
              "          google.colab.kernel.accessAllowed ? 'block' : 'none';\n",
              "\n",
              "        async function convertToInteractive(key) {\n",
              "          const element = document.querySelector('#df-9f540315-5e90-4145-8ffc-739c86dec95c');\n",
              "          const dataTable =\n",
              "            await google.colab.kernel.invokeFunction('convertToInteractive',\n",
              "                                                     [key], {});\n",
              "          if (!dataTable) return;\n",
              "\n",
              "          const docLinkHtml = 'Like what you see? Visit the ' +\n",
              "            '<a target=\"_blank\" href=https://colab.research.google.com/notebooks/data_table.ipynb>data table notebook</a>'\n",
              "            + ' to learn more about interactive tables.';\n",
              "          element.innerHTML = '';\n",
              "          dataTable['output_type'] = 'display_data';\n",
              "          await google.colab.output.renderOutput(dataTable, element);\n",
              "          const docLink = document.createElement('div');\n",
              "          docLink.innerHTML = docLinkHtml;\n",
              "          element.appendChild(docLink);\n",
              "        }\n",
              "      </script>\n",
              "    </div>\n",
              "  </div>\n",
              "  "
            ],
            "text/plain": [
              "   satisfaction_level  last_evaluation  ...  Department  salary\n",
              "0                0.38             0.53  ...       sales     low\n",
              "1                0.80             0.86  ...       sales  medium\n",
              "2                0.11             0.88  ...       sales  medium\n",
              "3                0.72             0.87  ...       sales     low\n",
              "4                0.37             0.52  ...       sales     low\n",
              "\n",
              "[5 rows x 10 columns]"
            ]
          },
          "metadata": {},
          "execution_count": 2
        }
      ]
    },
    {
      "cell_type": "markdown",
      "source": [
        "#Exploratory Data Analysis"
      ],
      "metadata": {
        "id": "kWyseUJyZc1U"
      }
    },
    {
      "cell_type": "code",
      "source": [
        "#creating some functions to see some informations of our dataset\n",
        "\n",
        "def shape (data):\n",
        "  print(\"The shape of the dataset is:\")\n",
        "  print(\"•Number of rows: {}\\n•Number of columns: {}\".format(data.shape[0],data.shape[1]))\n",
        "  print('----------------------------------------')\n",
        "\n",
        "  return None\n",
        "\n",
        "def info (data):\n",
        "  print(\"\\nThe information about the dataset is:\")\n",
        "  print(data.info())\n",
        "  print('----------------------------------------')\n",
        "\n",
        "  return None\n",
        "\n",
        "def null_values (data):\n",
        "  print('Is there any null values?')\n",
        "  print(data.isnull().sum())\n",
        "  print('----------------------------------------')\n",
        "\n",
        "  return None\n",
        "\n",
        "def describe (data):\n",
        "  print('The descriptive analysis of the data set:',data.describe().T)\n",
        "  print('----------------------------------------')\n",
        "  return None\n",
        "\n",
        "def columns (data):\n",
        "  print('The features presents in the dataset is\\n',data.columns.tolist())\n",
        "  print('----------------------------------------')\n",
        "  return None\n",
        "\n",
        "def unique (data):\n",
        "  cols = ['satisfaction_level', 'last_evaluation', 'number_project', 'left', 'promotion_last_5years', 'Work_accident', 'Department', 'salary']\n",
        "  for col in cols:\n",
        "    uniq = np.sort(data[col].unique())\n",
        "    print('The feature',col,'has the unique values of:',uniq)\n",
        "  print('----------------------------------------')\n",
        "  return None\n",
        "\n",
        "if __name__ == '__main__':\n",
        "    \n",
        "    shape(df)\n",
        "    info(df)\n",
        "    null_values(df)\n",
        "    describe(df)\n",
        "    columns(df)\n",
        "    unique(df)"
      ],
      "metadata": {
        "colab": {
          "base_uri": "https://localhost:8080/"
        },
        "id": "wkPOBMhyOD_C",
        "outputId": "1641bb41-1279-4c7c-8f0a-80b5199c688a"
      },
      "execution_count": 3,
      "outputs": [
        {
          "output_type": "stream",
          "name": "stdout",
          "text": [
            "The shape of the dataset is:\n",
            "•Number of rows: 14999\n",
            "•Number of columns: 10\n",
            "----------------------------------------\n",
            "\n",
            "The information about the dataset is:\n",
            "<class 'pandas.core.frame.DataFrame'>\n",
            "RangeIndex: 14999 entries, 0 to 14998\n",
            "Data columns (total 10 columns):\n",
            " #   Column                 Non-Null Count  Dtype  \n",
            "---  ------                 --------------  -----  \n",
            " 0   satisfaction_level     14999 non-null  float64\n",
            " 1   last_evaluation        14999 non-null  float64\n",
            " 2   number_project         14999 non-null  int64  \n",
            " 3   average_montly_hours   14999 non-null  int64  \n",
            " 4   time_spend_company     14999 non-null  int64  \n",
            " 5   Work_accident          14999 non-null  int64  \n",
            " 6   left                   14999 non-null  int64  \n",
            " 7   promotion_last_5years  14999 non-null  int64  \n",
            " 8   Department             14999 non-null  object \n",
            " 9   salary                 14999 non-null  object \n",
            "dtypes: float64(2), int64(6), object(2)\n",
            "memory usage: 1.1+ MB\n",
            "None\n",
            "----------------------------------------\n",
            "Is there any null values?\n",
            "satisfaction_level       0\n",
            "last_evaluation          0\n",
            "number_project           0\n",
            "average_montly_hours     0\n",
            "time_spend_company       0\n",
            "Work_accident            0\n",
            "left                     0\n",
            "promotion_last_5years    0\n",
            "Department               0\n",
            "salary                   0\n",
            "dtype: int64\n",
            "----------------------------------------\n",
            "The descriptive analysis of the data set:                          count        mean        std  ...     50%     75%    max\n",
            "satisfaction_level     14999.0    0.612834   0.248631  ...    0.64    0.82    1.0\n",
            "last_evaluation        14999.0    0.716102   0.171169  ...    0.72    0.87    1.0\n",
            "number_project         14999.0    3.803054   1.232592  ...    4.00    5.00    7.0\n",
            "average_montly_hours   14999.0  201.050337  49.943099  ...  200.00  245.00  310.0\n",
            "time_spend_company     14999.0    3.498233   1.460136  ...    3.00    4.00   10.0\n",
            "Work_accident          14999.0    0.144610   0.351719  ...    0.00    0.00    1.0\n",
            "left                   14999.0    0.238083   0.425924  ...    0.00    0.00    1.0\n",
            "promotion_last_5years  14999.0    0.021268   0.144281  ...    0.00    0.00    1.0\n",
            "\n",
            "[8 rows x 8 columns]\n",
            "----------------------------------------\n",
            "The features presents in the dataset is\n",
            " ['satisfaction_level', 'last_evaluation', 'number_project', 'average_montly_hours', 'time_spend_company', 'Work_accident', 'left', 'promotion_last_5years', 'Department', 'salary']\n",
            "----------------------------------------\n",
            "The feature satisfaction_level has the unique values of: [0.09 0.1  0.11 0.12 0.13 0.14 0.15 0.16 0.17 0.18 0.19 0.2  0.21 0.22\n",
            " 0.23 0.24 0.25 0.26 0.27 0.28 0.29 0.3  0.31 0.32 0.33 0.34 0.35 0.36\n",
            " 0.37 0.38 0.39 0.4  0.41 0.42 0.43 0.44 0.45 0.46 0.47 0.48 0.49 0.5\n",
            " 0.51 0.52 0.53 0.54 0.55 0.56 0.57 0.58 0.59 0.6  0.61 0.62 0.63 0.64\n",
            " 0.65 0.66 0.67 0.68 0.69 0.7  0.71 0.72 0.73 0.74 0.75 0.76 0.77 0.78\n",
            " 0.79 0.8  0.81 0.82 0.83 0.84 0.85 0.86 0.87 0.88 0.89 0.9  0.91 0.92\n",
            " 0.93 0.94 0.95 0.96 0.97 0.98 0.99 1.  ]\n",
            "The feature last_evaluation has the unique values of: [0.36 0.37 0.38 0.39 0.4  0.41 0.42 0.43 0.44 0.45 0.46 0.47 0.48 0.49\n",
            " 0.5  0.51 0.52 0.53 0.54 0.55 0.56 0.57 0.58 0.59 0.6  0.61 0.62 0.63\n",
            " 0.64 0.65 0.66 0.67 0.68 0.69 0.7  0.71 0.72 0.73 0.74 0.75 0.76 0.77\n",
            " 0.78 0.79 0.8  0.81 0.82 0.83 0.84 0.85 0.86 0.87 0.88 0.89 0.9  0.91\n",
            " 0.92 0.93 0.94 0.95 0.96 0.97 0.98 0.99 1.  ]\n",
            "The feature number_project has the unique values of: [2 3 4 5 6 7]\n",
            "The feature left has the unique values of: [0 1]\n",
            "The feature promotion_last_5years has the unique values of: [0 1]\n",
            "The feature Work_accident has the unique values of: [0 1]\n",
            "The feature Department has the unique values of: ['IT' 'RandD' 'accounting' 'hr' 'management' 'marketing' 'product_mng'\n",
            " 'sales' 'support' 'technical']\n",
            "The feature salary has the unique values of: ['high' 'low' 'medium']\n",
            "----------------------------------------\n"
          ]
        }
      ]
    },
    {
      "cell_type": "markdown",
      "source": [
        "#Hypothesis test"
      ],
      "metadata": {
        "id": "40vFWlJ8M0F-"
      }
    },
    {
      "cell_type": "code",
      "source": [
        "def normalization1(data, feature):\n",
        "  data['satisfaction_level_normalized']=1/data[feature]\n",
        "  return 'satisfaction_level_normalized'\n",
        "\n",
        "def normalization2(data, feature):\n",
        "  data['time_spend_company_normalized']=np.log(data[feature])\n",
        "  return 'time_spend_company_normalized'\n",
        "\n",
        "def normality(data,feature):\n",
        "    plt.figure(figsize=(10,5))\n",
        "    plt.subplot(1,2,1)\n",
        "    sns.kdeplot(data[feature])\n",
        "    plt.subplot(1,2,2)\n",
        "    stats.probplot(data[feature],plot=pylab)\n",
        "    plt.show()\n",
        "\n",
        "normalization1(df,'satisfaction_level')\n",
        "normalization2(df, 'time_spend_company')\n",
        "normality(df,'time_spend_company')\n",
        "normality(df,'satisfaction_level_normalized')\n",
        "normality(df,'satisfaction_level')\n",
        "normality(df,'time_spend_company_normalized')"
      ],
      "metadata": {
        "colab": {
          "base_uri": "https://localhost:8080/",
          "height": 1000
        },
        "id": "Qzd7ClRS5ua_",
        "outputId": "912dbd79-bff1-4d59-d1e1-b9ce668ed115"
      },
      "execution_count": 4,
      "outputs": [
        {
          "output_type": "display_data",
          "data": {
            "image/png": "[encoded data removed]",
            "text/plain": [
              "<Figure size 720x360 with 2 Axes>"
            ]
          },
          "metadata": {
            "needs_background": "light"
          }
        },
        {
          "output_type": "display_data",
          "data": {
            "image/png": "[encoded data removed]",
            "text/plain": [
              "<Figure size 720x360 with 2 Axes>"
            ]
          },
          "metadata": {
            "needs_background": "light"
          }
        },
        {
          "output_type": "display_data",
          "data": {
            "image/png": "[encoded data removed]",
            "text/plain": [
              "<Figure size 720x360 with 2 Axes>"
            ]
          },
          "metadata": {
            "needs_background": "light"
          }
        },
        {
          "output_type": "display_data",
          "data": {
            "image/png": "[encoded data removed]",
            "text/plain": [
              "<Figure size 720x360 with 2 Axes>"
            ]
          },
          "metadata": {
            "needs_background": "light"
          }
        }
      ]
    },
    {
      "cell_type": "code",
      "source": [
        "def chisquare1():\n",
        "  # contingency table\n",
        "  table = df.drop(['satisfaction_level', 'last_evaluation', 'number_project',\n",
        "        'average_montly_hours', 'time_spend_company', 'Work_accident',\n",
        "        'promotion_last_5years', 'Department', 'salary', 'satisfaction_level_normalized'], axis=1)\n",
        "  stat, p, dof, expected = chi2_contingency(table)\n",
        "  # interpret test-statistic\n",
        "  prob = 0.95\n",
        "  critical = chi2.ppf(prob, dof)\n",
        "  print('Chi Square teste between Satisfaction Level (normalized) and Left')\n",
        "  print('Probability = %.3f \\nCritical = %.3f \\nStat = %.3f' % (prob, critical, stat))\n",
        "  if abs(stat) >= critical:\n",
        "    print('Dependent (Reject H0)')\n",
        "  else:\n",
        "    print('Independent (Fail to reject H0)')\n",
        "  # interpret p-value\n",
        "  alpha = 1.0 - prob\n",
        "  print('Significance = %.3f \\np-value = %.3f' % (alpha, p))\n",
        "  if p <= alpha:\n",
        "    print('Dependent (Reject H0)')\n",
        "  else:\n",
        "    print('Independent (Fail to reject H0)')\n",
        "\n",
        "  print('-------------------------------')\n",
        "  return None\n",
        "\n",
        "def chisquare2():\n",
        "  # chi-squared test with similar proportions\n",
        "  from scipy.stats import chi2_contingency\n",
        "  from scipy.stats import chi2\n",
        "  # contingency table\n",
        "  table2 = df.drop(['satisfaction_level', 'last_evaluation', 'number_project',\n",
        "        'average_montly_hours', 'time_spend_company', 'Work_accident',\n",
        "        'promotion_last_5years', 'Department', 'salary', 'time_spend_company_normalized'], axis=1)\n",
        "  stat, p, dof, expected = chi2_contingency(table2)\n",
        "  # interpret test-statistic\n",
        "  prob = 0.95\n",
        "  critical2 = chi2.ppf(prob, dof)\n",
        "  print('Chi Square teste between Time Spent in the company (normalized) and Left')\n",
        "  print('Probability = %.3f \\nCritical = %.3f \\nStat = %.3f' % (prob, critical2, stat))\n",
        "  if abs(stat) >= critical2:\n",
        "    print('Dependent (Reject H0)')\n",
        "  else:\n",
        "    print('Independent (Fail to reject H0)')\n",
        "  # interpret p-value\n",
        "  alpha = 1.0 - prob\n",
        "  print('Significance = %.3f \\np-value = %.3f' % (alpha, p))\n",
        "  if p <= alpha:\n",
        "    print('Dependent (Reject H0)')\n",
        "  else:\n",
        "    print('Independent (Fail to reject H0)')\n",
        "  \n",
        "  return None\n",
        "\n",
        "chisquare1()\n",
        "chisquare2()"
      ],
      "metadata": {
        "colab": {
          "base_uri": "https://localhost:8080/"
        },
        "id": "UBB-KWY9HM32",
        "outputId": "dd3c696b-c279-4ba9-dca1-b8403c079cb5"
      },
      "execution_count": 5,
      "outputs": [
        {
          "output_type": "stream",
          "name": "stdout",
          "text": [
            "Chi Square teste between Satisfaction Level (normalized) and Left\n",
            "Probability = 0.950 \n",
            "Critical = 15284.011 \n",
            "Stat = 6844.420\n",
            "Independent (Fail to reject H0)\n",
            "Significance = 0.050 \n",
            "p-value = 1.000\n",
            "Independent (Fail to reject H0)\n",
            "-------------------------------\n",
            "Chi Square teste between Time Spent in the company (normalized) and Left\n",
            "Probability = 0.950 \n",
            "Critical = 15284.011 \n",
            "Stat = 8143.782\n",
            "Independent (Fail to reject H0)\n",
            "Significance = 0.050 \n",
            "p-value = 1.000\n",
            "Independent (Fail to reject H0)\n"
          ]
        }
      ]
    },
    {
      "cell_type": "code",
      "source": [
        "def pearsongraph(data):\n",
        "  corr = data.corr()\n",
        "  plt.figure(figsize=(12,12))\n",
        "  plt.title('Correlation between features and target', fontsize=14)\n",
        "  sns.heatmap(corr, annot=True)\n",
        "  return None\n",
        "\n",
        "pearsongraph(df)"
      ],
      "metadata": {
        "colab": {
          "base_uri": "https://localhost:8080/",
          "height": 876
        },
        "id": "DZQg9C5UELcz",
        "outputId": "35eb0dd2-2533-4ca5-b84a-ef58c068738a"
      },
      "execution_count": 6,
      "outputs": [
        {
          "output_type": "display_data",
          "data": {
            "image/png": "[encoded data removed]",
            "text/plain": [
              "<Figure size 864x864 with 2 Axes>"
            ]
          },
          "metadata": {
            "needs_background": "light"
          }
        }
      ]
    },
    {
      "cell_type": "markdown",
      "source": [
        "#Making new variables"
      ],
      "metadata": {
        "id": "9HrgVby0ZzVT"
      }
    },
    {
      "cell_type": "code",
      "source": [
        "#subtraction between the last evaluation and the most recent evaluation\n",
        "\n",
        "df['dif_between_tests'] = df['satisfaction_level'] - df['last_evaluation']\n",
        "df.head()"
      ],
      "metadata": {
        "colab": {
          "base_uri": "https://localhost:8080/",
          "height": 270
        },
        "id": "TcKmkBMpPXvm",
        "outputId": "e1f5c369-fd8f-4a4c-8f70-9828f1d35661"
      },
      "execution_count": 7,
      "outputs": [
        {
          "output_type": "execute_result",
          "data": {
            "text/html": [
              "\n",
              "  <div id=\"df-c7f5c002-8a5b-43d7-ae4b-d1d6a2c33e28\">\n",
              "    <div class=\"colab-df-container\">\n",
              "      <div>\n",
              "<style scoped>\n",
              "    .dataframe tbody tr th:only-of-type {\n",
              "        vertical-align: middle;\n",
              "    }\n",
              "\n",
              "    .dataframe tbody tr th {\n",
              "        vertical-align: top;\n",
              "    }\n",
              "\n",
              "    .dataframe thead th {\n",
              "        text-align: right;\n",
              "    }\n",
              "</style>\n",
              "<table border=\"1\" class=\"dataframe\">\n",
              "  <thead>\n",
              "    <tr style=\"text-align: right;\">\n",
              "      <th></th>\n",
              "      <th>satisfaction_level</th>\n",
              "      <th>last_evaluation</th>\n",
              "      <th>number_project</th>\n",
              "      <th>average_montly_hours</th>\n",
              "      <th>time_spend_company</th>\n",
              "      <th>Work_accident</th>\n",
              "      <th>left</th>\n",
              "      <th>promotion_last_5years</th>\n",
              "      <th>Department</th>\n",
              "      <th>salary</th>\n",
              "      <th>satisfaction_level_normalized</th>\n",
              "      <th>time_spend_company_normalized</th>\n",
              "      <th>dif_between_tests</th>\n",
              "    </tr>\n",
              "  </thead>\n",
              "  <tbody>\n",
              "    <tr>\n",
              "      <th>0</th>\n",
              "      <td>0.38</td>\n",
              "      <td>0.53</td>\n",
              "      <td>2</td>\n",
              "      <td>157</td>\n",
              "      <td>3</td>\n",
              "      <td>0</td>\n",
              "      <td>1</td>\n",
              "      <td>0</td>\n",
              "      <td>sales</td>\n",
              "      <td>low</td>\n",
              "      <td>2.631579</td>\n",
              "      <td>1.098612</td>\n",
              "      <td>-0.15</td>\n",
              "    </tr>\n",
              "    <tr>\n",
              "      <th>1</th>\n",
              "      <td>0.80</td>\n",
              "      <td>0.86</td>\n",
              "      <td>5</td>\n",
              "      <td>262</td>\n",
              "      <td>6</td>\n",
              "      <td>0</td>\n",
              "      <td>1</td>\n",
              "      <td>0</td>\n",
              "      <td>sales</td>\n",
              "      <td>medium</td>\n",
              "      <td>1.250000</td>\n",
              "      <td>1.791759</td>\n",
              "      <td>-0.06</td>\n",
              "    </tr>\n",
              "    <tr>\n",
              "      <th>2</th>\n",
              "      <td>0.11</td>\n",
              "      <td>0.88</td>\n",
              "      <td>7</td>\n",
              "      <td>272</td>\n",
              "      <td>4</td>\n",
              "      <td>0</td>\n",
              "      <td>1</td>\n",
              "      <td>0</td>\n",
              "      <td>sales</td>\n",
              "      <td>medium</td>\n",
              "      <td>9.090909</td>\n",
              "      <td>1.386294</td>\n",
              "      <td>-0.77</td>\n",
              "    </tr>\n",
              "    <tr>\n",
              "      <th>3</th>\n",
              "      <td>0.72</td>\n",
              "      <td>0.87</td>\n",
              "      <td>5</td>\n",
              "      <td>223</td>\n",
              "      <td>5</td>\n",
              "      <td>0</td>\n",
              "      <td>1</td>\n",
              "      <td>0</td>\n",
              "      <td>sales</td>\n",
              "      <td>low</td>\n",
              "      <td>1.388889</td>\n",
              "      <td>1.609438</td>\n",
              "      <td>-0.15</td>\n",
              "    </tr>\n",
              "    <tr>\n",
              "      <th>4</th>\n",
              "      <td>0.37</td>\n",
              "      <td>0.52</td>\n",
              "      <td>2</td>\n",
              "      <td>159</td>\n",
              "      <td>3</td>\n",
              "      <td>0</td>\n",
              "      <td>1</td>\n",
              "      <td>0</td>\n",
              "      <td>sales</td>\n",
              "      <td>low</td>\n",
              "      <td>2.702703</td>\n",
              "      <td>1.098612</td>\n",
              "      <td>-0.15</td>\n",
              "    </tr>\n",
              "  </tbody>\n",
              "</table>\n",
              "</div>\n",
              "      <button class=\"colab-df-convert\" onclick=\"convertToInteractive('df-c7f5c002-8a5b-43d7-ae4b-d1d6a2c33e28')\"\n",
              "              title=\"Convert this dataframe to an interactive table.\"\n",
              "              style=\"display:none;\">\n",
              "        \n",
              "  <svg xmlns=\"http://www.w3.org/2000/svg\" height=\"24px\"viewBox=\"0 0 24 24\"\n",
              "       width=\"24px\">\n",
              "    <path d=\"M0 0h24v24H0V0z\" fill=\"none\"/>\n",
              "    <path d=\"M18.56 5.44l.94 2.06.94-2.06 2.06-.94-2.06-.94-.94-2.06-.94 2.06-2.06.94zm-11 1L8.5 8.5l.94-2.06 2.06-.94-2.06-.94L8.5 2.5l-.94 2.06-2.06.94zm10 10l.94 2.06.94-2.06 2.06-.94-2.06-.94-.94-2.06-.94 2.06-2.06.94z\"/><path d=\"M17.41 7.96l-1.37-1.37c-.4-.4-.92-.59-1.43-.59-.52 0-1.04.2-1.43.59L10.3 9.45l-7.72 7.72c-.78.78-.78 2.05 0 2.83L4 21.41c.39.39.9.59 1.41.59.51 0 1.02-.2 1.41-.59l7.78-7.78 2.81-2.81c.8-.78.8-2.07 0-2.86zM5.41 20L4 18.59l7.72-7.72 1.47 1.35L5.41 20z\"/>\n",
              "  </svg>\n",
              "      </button>\n",
              "      \n",
              "  <style>\n",
              "    .colab-df-container {\n",
              "      display:flex;\n",
              "      flex-wrap:wrap;\n",
              "      gap: 12px;\n",
              "    }\n",
              "\n",
              "    .colab-df-convert {\n",
              "      background-color: #E8F0FE;\n",
              "      border: none;\n",
              "      border-radius: 50%;\n",
              "      cursor: pointer;\n",
              "      display: none;\n",
              "      fill: #1967D2;\n",
              "      height: 32px;\n",
              "      padding: 0 0 0 0;\n",
              "      width: 32px;\n",
              "    }\n",
              "\n",
              "    .colab-df-convert:hover {\n",
              "      background-color: #E2EBFA;\n",
              "      box-shadow: 0px 1px 2px rgba(60, 64, 67, 0.3), 0px 1px 3px 1px rgba(60, 64, 67, 0.15);\n",
              "      fill: #174EA6;\n",
              "    }\n",
              "\n",
              "    [theme=dark] .colab-df-convert {\n",
              "      background-color: #3B4455;\n",
              "      fill: #D2E3FC;\n",
              "    }\n",
              "\n",
              "    [theme=dark] .colab-df-convert:hover {\n",
              "      background-color: #434B5C;\n",
              "      box-shadow: 0px 1px 3px 1px rgba(0, 0, 0, 0.15);\n",
              "      filter: drop-shadow(0px 1px 2px rgba(0, 0, 0, 0.3));\n",
              "      fill: #FFFFFF;\n",
              "    }\n",
              "  </style>\n",
              "\n",
              "      <script>\n",
              "        const buttonEl =\n",
              "          document.querySelector('#df-c7f5c002-8a5b-43d7-ae4b-d1d6a2c33e28 button.colab-df-convert');\n",
              "        buttonEl.style.display =\n",
              "          google.colab.kernel.accessAllowed ? 'block' : 'none';\n",
              "\n",
              "        async function convertToInteractive(key) {\n",
              "          const element = document.querySelector('#df-c7f5c002-8a5b-43d7-ae4b-d1d6a2c33e28');\n",
              "          const dataTable =\n",
              "            await google.colab.kernel.invokeFunction('convertToInteractive',\n",
              "                                                     [key], {});\n",
              "          if (!dataTable) return;\n",
              "\n",
              "          const docLinkHtml = 'Like what you see? Visit the ' +\n",
              "            '<a target=\"_blank\" href=https://colab.research.google.com/notebooks/data_table.ipynb>data table notebook</a>'\n",
              "            + ' to learn more about interactive tables.';\n",
              "          element.innerHTML = '';\n",
              "          dataTable['output_type'] = 'display_data';\n",
              "          await google.colab.output.renderOutput(dataTable, element);\n",
              "          const docLink = document.createElement('div');\n",
              "          docLink.innerHTML = docLinkHtml;\n",
              "          element.appendChild(docLink);\n",
              "        }\n",
              "      </script>\n",
              "    </div>\n",
              "  </div>\n",
              "  "
            ],
            "text/plain": [
              "   satisfaction_level  ...  dif_between_tests\n",
              "0                0.38  ...              -0.15\n",
              "1                0.80  ...              -0.06\n",
              "2                0.11  ...              -0.77\n",
              "3                0.72  ...              -0.15\n",
              "4                0.37  ...              -0.15\n",
              "\n",
              "[5 rows x 13 columns]"
            ]
          },
          "metadata": {},
          "execution_count": 7
        }
      ]
    },
    {
      "cell_type": "code",
      "source": [
        "#average of evaluations\n",
        "def average(): \n",
        "  df2 = df.copy()\n",
        "  df2['satisfaction_level_mean'] = df2['satisfaction_level'].mean()\n",
        "  df2['last_evaluation_mean'] = df2['last_evaluation'].mean()\n",
        "  df2['dif_between_tests_mean'] = df2['dif_between_tests'].mean()\n",
        "  df_mean = df2.loc[0, ['satisfaction_level_mean',\t'last_evaluation_mean',\t'dif_between_tests_mean']]\n",
        "  df_mean = pd.DataFrame(df_mean)\n",
        "  return df_mean.head()\n",
        "\n",
        "average()"
      ],
      "metadata": {
        "colab": {
          "base_uri": "https://localhost:8080/",
          "height": 144
        },
        "id": "gnTQPun2Qsy9",
        "outputId": "d15221e3-52da-4568-d46b-76648e5877be"
      },
      "execution_count": 8,
      "outputs": [
        {
          "output_type": "execute_result",
          "data": {
            "text/html": [
              "\n",
              "  <div id=\"df-0f7e46a0-1e50-49c4-bffb-9621e4aaab86\">\n",
              "    <div class=\"colab-df-container\">\n",
              "      <div>\n",
              "<style scoped>\n",
              "    .dataframe tbody tr th:only-of-type {\n",
              "        vertical-align: middle;\n",
              "    }\n",
              "\n",
              "    .dataframe tbody tr th {\n",
              "        vertical-align: top;\n",
              "    }\n",
              "\n",
              "    .dataframe thead th {\n",
              "        text-align: right;\n",
              "    }\n",
              "</style>\n",
              "<table border=\"1\" class=\"dataframe\">\n",
              "  <thead>\n",
              "    <tr style=\"text-align: right;\">\n",
              "      <th></th>\n",
              "      <th>0</th>\n",
              "    </tr>\n",
              "  </thead>\n",
              "  <tbody>\n",
              "    <tr>\n",
              "      <th>satisfaction_level_mean</th>\n",
              "      <td>0.612834</td>\n",
              "    </tr>\n",
              "    <tr>\n",
              "      <th>last_evaluation_mean</th>\n",
              "      <td>0.716102</td>\n",
              "    </tr>\n",
              "    <tr>\n",
              "      <th>dif_between_tests_mean</th>\n",
              "      <td>-0.103268</td>\n",
              "    </tr>\n",
              "  </tbody>\n",
              "</table>\n",
              "</div>\n",
              "      <button class=\"colab-df-convert\" onclick=\"convertToInteractive('df-0f7e46a0-1e50-49c4-bffb-9621e4aaab86')\"\n",
              "              title=\"Convert this dataframe to an interactive table.\"\n",
              "              style=\"display:none;\">\n",
              "        \n",
              "  <svg xmlns=\"http://www.w3.org/2000/svg\" height=\"24px\"viewBox=\"0 0 24 24\"\n",
              "       width=\"24px\">\n",
              "    <path d=\"M0 0h24v24H0V0z\" fill=\"none\"/>\n",
              "    <path d=\"M18.56 5.44l.94 2.06.94-2.06 2.06-.94-2.06-.94-.94-2.06-.94 2.06-2.06.94zm-11 1L8.5 8.5l.94-2.06 2.06-.94-2.06-.94L8.5 2.5l-.94 2.06-2.06.94zm10 10l.94 2.06.94-2.06 2.06-.94-2.06-.94-.94-2.06-.94 2.06-2.06.94z\"/><path d=\"M17.41 7.96l-1.37-1.37c-.4-.4-.92-.59-1.43-.59-.52 0-1.04.2-1.43.59L10.3 9.45l-7.72 7.72c-.78.78-.78 2.05 0 2.83L4 21.41c.39.39.9.59 1.41.59.51 0 1.02-.2 1.41-.59l7.78-7.78 2.81-2.81c.8-.78.8-2.07 0-2.86zM5.41 20L4 18.59l7.72-7.72 1.47 1.35L5.41 20z\"/>\n",
              "  </svg>\n",
              "      </button>\n",
              "      \n",
              "  <style>\n",
              "    .colab-df-container {\n",
              "      display:flex;\n",
              "      flex-wrap:wrap;\n",
              "      gap: 12px;\n",
              "    }\n",
              "\n",
              "    .colab-df-convert {\n",
              "      background-color: #E8F0FE;\n",
              "      border: none;\n",
              "      border-radius: 50%;\n",
              "      cursor: pointer;\n",
              "      display: none;\n",
              "      fill: #1967D2;\n",
              "      height: 32px;\n",
              "      padding: 0 0 0 0;\n",
              "      width: 32px;\n",
              "    }\n",
              "\n",
              "    .colab-df-convert:hover {\n",
              "      background-color: #E2EBFA;\n",
              "      box-shadow: 0px 1px 2px rgba(60, 64, 67, 0.3), 0px 1px 3px 1px rgba(60, 64, 67, 0.15);\n",
              "      fill: #174EA6;\n",
              "    }\n",
              "\n",
              "    [theme=dark] .colab-df-convert {\n",
              "      background-color: #3B4455;\n",
              "      fill: #D2E3FC;\n",
              "    }\n",
              "\n",
              "    [theme=dark] .colab-df-convert:hover {\n",
              "      background-color: #434B5C;\n",
              "      box-shadow: 0px 1px 3px 1px rgba(0, 0, 0, 0.15);\n",
              "      filter: drop-shadow(0px 1px 2px rgba(0, 0, 0, 0.3));\n",
              "      fill: #FFFFFF;\n",
              "    }\n",
              "  </style>\n",
              "\n",
              "      <script>\n",
              "        const buttonEl =\n",
              "          document.querySelector('#df-0f7e46a0-1e50-49c4-bffb-9621e4aaab86 button.colab-df-convert');\n",
              "        buttonEl.style.display =\n",
              "          google.colab.kernel.accessAllowed ? 'block' : 'none';\n",
              "\n",
              "        async function convertToInteractive(key) {\n",
              "          const element = document.querySelector('#df-0f7e46a0-1e50-49c4-bffb-9621e4aaab86');\n",
              "          const dataTable =\n",
              "            await google.colab.kernel.invokeFunction('convertToInteractive',\n",
              "                                                     [key], {});\n",
              "          if (!dataTable) return;\n",
              "\n",
              "          const docLinkHtml = 'Like what you see? Visit the ' +\n",
              "            '<a target=\"_blank\" href=https://colab.research.google.com/notebooks/data_table.ipynb>data table notebook</a>'\n",
              "            + ' to learn more about interactive tables.';\n",
              "          element.innerHTML = '';\n",
              "          dataTable['output_type'] = 'display_data';\n",
              "          await google.colab.output.renderOutput(dataTable, element);\n",
              "          const docLink = document.createElement('div');\n",
              "          docLink.innerHTML = docLinkHtml;\n",
              "          element.appendChild(docLink);\n",
              "        }\n",
              "      </script>\n",
              "    </div>\n",
              "  </div>\n",
              "  "
            ],
            "text/plain": [
              "                                0\n",
              "satisfaction_level_mean  0.612834\n",
              "last_evaluation_mean     0.716102\n",
              "dif_between_tests_mean  -0.103268"
            ]
          },
          "metadata": {},
          "execution_count": 8
        }
      ]
    },
    {
      "cell_type": "code",
      "source": [
        "# distribution about the evaluations\n",
        "def distevaluations1():\n",
        "\n",
        "  plt.figure(figsize = (12,6))\n",
        "  sns.histplot(data=df, x='satisfaction_level')\n",
        "  plt.title('Satisfaction Level Distribution', fontsize=14)\n",
        "  plt.xlabel('Satisfaction records', fontsize=12)\n",
        "  plt.ylabel('Count', fontsize=12)\n",
        "\n",
        "  plt.show()\n",
        "\n",
        "  print('The Satisfaction records distribution has a skewness of: {}'.format(skew(df.satisfaction_level, bias=False)))\n",
        "  print('The Satisfaction records distribution has a kurtosis of: {}'.format(kurtosis(df.satisfaction_level)))\n",
        "  print('The mean values for this feature is: {}'.format(df.satisfaction_level.mean()))\n",
        "  print('The standard variation for this feature is: {}'.format(df.satisfaction_level.std()))\n",
        "  print('------------------------------------------')\n",
        "\n",
        "  return None\n",
        "\n",
        "def distevaluations2():\n",
        "\n",
        "  plt.figure(figsize = (12,6))\n",
        "\n",
        "  sns.histplot(data=df, x='last_evaluation')\n",
        "  plt.title('Last Evaluation  Distribution', fontsize=14)\n",
        "  plt.xlabel('Last Evaluation records', fontsize=12)\n",
        "  plt.ylabel('Count', fontsize=12)\n",
        "\n",
        "  plt.show()\n",
        "\n",
        "  print('The Last Evaluation records distribution has a skewness of: {}'.format(skew(df.last_evaluation, bias=False)))\n",
        "  print('The Last Evaluation records distribution has a kurtosis of: {}'.format(kurtosis(df.last_evaluation)))\n",
        "  print('The mean values for this feature is: {}'.format(df.last_evaluation.mean()))\n",
        "  print('The standard variation for this feature is: {}'.format(df.last_evaluation.std()))\n",
        "\n",
        "  return None\n",
        "\n",
        "distevaluations1()\n",
        "distevaluations2()"
      ],
      "metadata": {
        "colab": {
          "base_uri": "https://localhost:8080/",
          "height": 954
        },
        "id": "21KzuK7Nakx7",
        "outputId": "3bc57072-679b-42a4-fa4d-4e0ed6464841"
      },
      "execution_count": 9,
      "outputs": [
        {
          "output_type": "display_data",
          "data": {
            "image/png": "[encoded data removed]",
            "text/plain": [
              "<Figure size 864x432 with 1 Axes>"
            ]
          },
          "metadata": {
            "needs_background": "light"
          }
        },
        {
          "output_type": "stream",
          "name": "stdout",
          "text": [
            "The Satisfaction records distribution has a skewness of: -0.47636034128396443\n",
            "The Satisfaction records distribution has a kurtosis of: -0.6710350084807528\n",
            "The mean values for this feature is: 0.6128335222348166\n",
            "The standard variation for this feature is: 0.2486306510611418\n",
            "------------------------------------------\n"
          ]
        },
        {
          "output_type": "display_data",
          "data": {
            "image/png": "[encoded data removed]",
            "text/plain": [
              "<Figure size 864x432 with 1 Axes>"
            ]
          },
          "metadata": {
            "needs_background": "light"
          }
        },
        {
          "output_type": "stream",
          "name": "stdout",
          "text": [
            "The Last Evaluation records distribution has a skewness of: -0.026621749863760855\n",
            "The Last Evaluation records distribution has a kurtosis of: -1.2390272795182624\n",
            "The mean values for this feature is: 0.7161017401159978\n",
            "The standard variation for this feature is: 0.17116911062327592\n"
          ]
        }
      ]
    },
    {
      "cell_type": "markdown",
      "source": [
        "#Analysis of the churn"
      ],
      "metadata": {
        "id": "-JzcijL6Z_QO"
      }
    },
    {
      "cell_type": "code",
      "source": [
        "# employees quantity\n",
        "num_employee = len(df)\n",
        "\n",
        "a = df.query('left == 0').shape[0]\n",
        "b = df.query('left == 1').shape[0]\n",
        "print('Based on the data, {0} employees left and {1} did not.'.format(a, b))\n",
        "\n",
        "c = df.query('left == 0').shape[0]/num_employee*100\n",
        "d = df.query('left == 1').shape[0]/num_employee*100\n",
        "print('Based on the data, {0:,.2f}% employees left and {1:,.2f}% did not.'.format(c, d))"
      ],
      "metadata": {
        "colab": {
          "base_uri": "https://localhost:8080/"
        },
        "id": "Ka70NKCaP93j",
        "outputId": "acc647fa-8ebb-46b6-bb18-f03ea146f16a"
      },
      "execution_count": 10,
      "outputs": [
        {
          "output_type": "stream",
          "name": "stdout",
          "text": [
            "Based on the data, 11428 employees left and 3571 did not.\n",
            "Based on the data, 76.19% employees left and 23.81% did not.\n"
          ]
        }
      ]
    },
    {
      "cell_type": "code",
      "source": [
        "# grouping the features to understand the influence in churn\n",
        "df.groupby('left').mean()\n",
        "\n",
        "# ploting satisfaction_level\n",
        "df.groupby('left')['satisfaction_level'].mean().plot(kind='bar')"
      ],
      "metadata": {
        "colab": {
          "base_uri": "https://localhost:8080/",
          "height": 297
        },
        "id": "dubzU3z-xkC-",
        "outputId": "b2b8534e-40f6-42c5-987c-8b6b6b8327e2"
      },
      "execution_count": 11,
      "outputs": [
        {
          "output_type": "execute_result",
          "data": {
            "text/plain": [
              "<matplotlib.axes._subplots.AxesSubplot at 0x7fb9a5149150>"
            ]
          },
          "metadata": {},
          "execution_count": 11
        },
        {
          "output_type": "display_data",
          "data": {
            "image/png": "[encoded data removed]",
            "text/plain": [
              "<Figure size 432x288 with 1 Axes>"
            ]
          },
          "metadata": {
            "needs_background": "light"
          }
        }
      ]
    },
    {
      "cell_type": "code",
      "source": [
        " df[df['salary'] == 'low'].groupby('left').count().iloc[1,0]"
      ],
      "metadata": {
        "colab": {
          "base_uri": "https://localhost:8080/"
        },
        "id": "HT-BVKKxrnvy",
        "outputId": "405afca3-3b99-4a00-d2b6-0645ff57ff18"
      },
      "execution_count": 12,
      "outputs": [
        {
          "output_type": "execute_result",
          "data": {
            "text/plain": [
              "2172"
            ]
          },
          "metadata": {},
          "execution_count": 12
        }
      ]
    },
    {
      "cell_type": "code",
      "source": [
        "# vizualization of salary and churn\n",
        "def salartychurn():\n",
        "  plt.figure(figsize=(10,7))\n",
        "  ax=sns.countplot(data=df, x='salary', hue='left')\n",
        "  plt.ylabel('Salary distribution', fontsize=12, labelpad=15)\n",
        "  plt.xlabel('Salarys', fontsize=12, labelpad=15)\n",
        "  plt.title('Relation between salary and churn',color = 'black',fontsize=20, pad=20)\n",
        "  plt.legend(title='Churn', loc='upper right', labels=['Stayed', 'Left'])\n",
        "  total = len(df)\n",
        "  for p in ax.patches:\n",
        "          ax.annotate('{:.1f}%'.format(100*p.get_height()/total), (p.get_x()+0.1, p.get_height()+100))\n",
        "  plt.show()\n",
        "\n",
        "  return None\n",
        "\n",
        "def values():\n",
        "  df_salary_low = df[df['salary'] == 'low'].groupby('left').count()\n",
        "  df_salary_medium = df[df['salary'] == 'medium'].groupby('left').count()\n",
        "  df_salary_high = df[df['salary'] == 'high'].groupby('left').count()\n",
        "\n",
        "  print('\\nThe quantity of employes with low salary and has left the companys is {} and those whose stayed is {}.'.format(df_salary_low.iloc[0,0], df_salary_low.iloc[1,0]))\n",
        "  print('The quantity of employes with medium salary and has left the companys is {} and those whose stayed is {}'.format(df_salary_medium.iloc[0,0], df_salary_medium.iloc[1,0]))\n",
        "  print('The quantity of employes with high salary and has left the companys is {} and those whose stayed is {}'.format(df_salary_high.iloc[0,0], df_salary_high.iloc[1,0]))\n",
        "  return None\n",
        "\n",
        "salartychurn()\n",
        "values()"
      ],
      "metadata": {
        "colab": {
          "base_uri": "https://localhost:8080/",
          "height": 560
        },
        "id": "PLyZOP0ByPiX",
        "outputId": "8b0425f7-f6e6-4901-ebd8-74798eec5dfd"
      },
      "execution_count": 13,
      "outputs": [
        {
          "output_type": "display_data",
          "data": {
            "image/png": "[encoded data removed]",
            "text/plain": [
              "<Figure size 720x504 with 1 Axes>"
            ]
          },
          "metadata": {
            "needs_background": "light"
          }
        },
        {
          "output_type": "stream",
          "name": "stdout",
          "text": [
            "\n",
            "The quantity of employes with low salary and has left the companys is 5144 and those whose stayed is 2172.\n",
            "The quantity of employes with medium salary and has left the companys is 5129 and those whose stayed is 1317\n",
            "The quantity of employes with high salary and has left the companys is 1155 and those whose stayed is 82\n"
          ]
        }
      ]
    },
    {
      "cell_type": "code",
      "source": [
        "def boxplotscaled():\n",
        "  scaler = MinMaxScaler()\n",
        "  scaled = scaler.fit_transform(df.drop(['Department', 'salary', 'promotion_last_5years', 'left', 'Work_accident'], axis=1))\n",
        "\n",
        "  plt.figure(figsize=(8,6))\n",
        "  sns.boxplot(data=scaled)\n",
        "  plt.title('Boxplot for continuos features', fontsize=14)\n",
        "  plt.xlabel('Continuos Features', fontsize=12)\n",
        "  plt.ylabel('Range', fontsize=12)\n",
        "  plt.xticks([0, 1, 2, 3, 4], ['Satisfaction Level', 'Last Evaluation', 'Number of Projects', 'Average Montly Hours', 'Time Spent in the Company'], rotation=90)\n",
        "  plt.show()\n",
        "  return None\n",
        "\n",
        "def status():\n",
        "\n",
        "  print('\\nThe mean, medium, and quartiles for Satisfaction Level is: {}'.format(df.satisfaction_level.mean()))\n",
        "  print('The medium, and quartiles for Satisfaction Level is: {}'.format(df.satisfaction_level.median()))\n",
        "  print('The quartiles for Satisfaction Level is: {}'.format(df.satisfaction_level.quantile([0.25,0.5,0.75]).values))\n",
        "\n",
        "  print('\\nThe mean, medium, and quartiles for Last Evaluation is: {}'.format(df.last_evaluation.mean()))\n",
        "  print('The medium, and quartiles for Last Evaluation is: {}'.format(df.last_evaluation.median()))\n",
        "  print('The quartiles for Last Evaluation is: {}'.format(df.last_evaluation.quantile([0.25,0.5,0.75]).values))\n",
        "\n",
        "  print('\\nThe mean, medium, and quartiles for Number of Projects is: {}'.format(df.number_project.mean()))\n",
        "  print('The medium, and quartiles for Number of Projects is: {}'.format(df.number_project.median()))\n",
        "  print('The quartiles for Number of Projects is: {}'.format(df.number_project.quantile([0.25,0.5,0.75]).values))\n",
        "\n",
        "  print('\\nThe mean, medium, and quartiles for Average Montly Hoursl is: {}'.format(df.average_montly_hours.mean()))\n",
        "  print('The medium, and quartiles for Average Montly Hours is: {}'.format(df.average_montly_hours.median()))\n",
        "  print('The quartiles for Average Montly Hours is: {}'.format(df.average_montly_hours.quantile([0.25,0.5,0.75]).values))\n",
        "\n",
        "  print('\\nThe mean, medium, and quartiles for Time Spent in the Company is: {}'.format(df.time_spend_company.mean()))\n",
        "  print('The medium, and quartiles for Time Spent in the Company is: {}'.format(df.time_spend_company.median()))\n",
        "  print('The quartiles for Time Spent in the Company is: {}'.format(df.time_spend_company.quantile([0.25,0.5,0.75]).values))\n",
        "  return None\n",
        "\n",
        "boxplotscaled()\n",
        "status()"
      ],
      "metadata": {
        "colab": {
          "base_uri": "https://localhost:8080/",
          "height": 884
        },
        "id": "SQ6Z8MP1cYf0",
        "outputId": "16c1698b-7599-42af-c4cf-0817c43c9b8e"
      },
      "execution_count": 14,
      "outputs": [
        {
          "output_type": "display_data",
          "data": {
            "image/png": "[encoded data removed]",
            "text/plain": [
              "<Figure size 576x432 with 1 Axes>"
            ]
          },
          "metadata": {
            "needs_background": "light"
          }
        },
        {
          "output_type": "stream",
          "name": "stdout",
          "text": [
            "\n",
            "The mean, medium, and quartiles for Satisfaction Level is: 0.6128335222348166\n",
            "The medium, and quartiles for Satisfaction Level is: 0.64\n",
            "The quartiles for Satisfaction Level is: [0.44 0.64 0.82]\n",
            "\n",
            "The mean, medium, and quartiles for Last Evaluation is: 0.7161017401159978\n",
            "The medium, and quartiles for Last Evaluation is: 0.72\n",
            "The quartiles for Last Evaluation is: [0.56 0.72 0.87]\n",
            "\n",
            "The mean, medium, and quartiles for Number of Projects is: 3.80305353690246\n",
            "The medium, and quartiles for Number of Projects is: 4.0\n",
            "The quartiles for Number of Projects is: [3. 4. 5.]\n",
            "\n",
            "The mean, medium, and quartiles for Average Montly Hoursl is: 201.0503366891126\n",
            "The medium, and quartiles for Average Montly Hours is: 200.0\n",
            "The quartiles for Average Montly Hours is: [156. 200. 245.]\n",
            "\n",
            "The mean, medium, and quartiles for Time Spent in the Company is: 3.498233215547703\n",
            "The medium, and quartiles for Time Spent in the Company is: 3.0\n",
            "The quartiles for Time Spent in the Company is: [3. 3. 4.]\n"
          ]
        }
      ]
    },
    {
      "cell_type": "code",
      "source": [
        "# vizualization of department and churn\n",
        "def churn1():\n",
        "  plt.figure(figsize=(14,10))\n",
        "  sns.countplot(data=df, y='Department', hue='left', order=df.Department.value_counts().index)\n",
        "  plt.ylabel('Employees per department', fontsize=12, labelpad=15)\n",
        "  plt.xlabel('Department', fontsize=12, labelpad=15)\n",
        "  plt.title('Relation between churn and department',color = 'black',fontsize=20, pad=20)\n",
        "  plt.legend(title='Churn', loc='lower right', labels=['Stayed', 'Left'])\n",
        "  plt.xticks(rotation=45)\n",
        "  plt.show()\n",
        "  return None\n",
        "\n",
        "\n",
        "def values1():\n",
        "  df_dp1 = df[df['Department'] == 'sales'].groupby('left').count()\n",
        "  df_dp2 = df[df['Department'] == 'technical'].groupby('left').count()\n",
        "  df_dp3 = df[df['Department'] == 'support'].groupby('left').count()\n",
        "  df_dp4 = df[df['Department'] == 'IT'].groupby('left').count()\n",
        "  df_dp5 = df[df['Department'] == 'product_mng'].groupby('left').count()\n",
        "  df_dp6 = df[df['Department'] == 'marketing'].groupby('left').count()\n",
        "  df_dp7 = df[df['Department'] == 'RandD'].groupby('left').count()\n",
        "  df_dp8 = df[df['Department'] == 'accounting'].groupby('left').count()\n",
        "  df_dp9 = df[df['Department'] == 'hr'].groupby('left').count()\n",
        "  df_dp10 = df[df['Department'] == 'management'].groupby('left').count()\n",
        "\n",
        "\n",
        "  print('\\nThe quantity of employes in the sales department and has left the companys is {} and those whose stayed is {}.'\n",
        "  .format(df_dp1.iloc[0,0], df_dp1.iloc[1,0]))\n",
        "  print('The quantity of employes in technical department and has left the companys is {} and those whose stayed is {}'\n",
        "  .format(df_dp2.iloc[0,0], df_dp2.iloc[1,0]))\n",
        "  print('The quantity of employes support department and has left the companys is {} and those whose stayed is {}'\n",
        "  .format(df_dp3.iloc[0,0], df_dp3.iloc[1,0]))\n",
        "  print('The quantity of employes in the IT department and has left the companys is {} and those whose stayed is {}.'\n",
        "  .format(df_dp4.iloc[0,0], df_dp4.iloc[1,0]))\n",
        "  print('The quantity of employes in product management department and has left the companys is {} and those whose stayed is {}'\n",
        "  .format(df_dp5.iloc[0,0], df_dp5.iloc[1,0]))\n",
        "  print('The quantity of employes marketing department and has left the companys is {} and those whose stayed is {}'\n",
        "  .format(df_dp6.iloc[0,0], df_dp6.iloc[1,0]))\n",
        "  print('The quantity of employes in the rand department and has left the companys is {} and those whose stayed is {}.'\n",
        "  .format(df_dp7.iloc[0,0], df_dp7.iloc[1,0]))\n",
        "  print('The quantity of employes in accounting department and has left the companys is {} and those whose stayed is {}'\n",
        "  .format(df_dp8.iloc[0,0], df_dp8.iloc[1,0]))\n",
        "  print('The quantity of employes HR department and has left the companys is {} and those whose stayed is {}'\n",
        "  .format(df_dp9.iloc[0,0], df_dp9.iloc[1,0]))\n",
        "  print('The quantity of employes management department and has left the companys is {} and those whose stayed is {}'\n",
        "  .format(df_dp10.iloc[0,0], df_dp10.iloc[1,0]))\n",
        "  return None\n",
        "\n",
        "churn1()\n",
        "values1()"
      ],
      "metadata": {
        "colab": {
          "base_uri": "https://localhost:8080/",
          "height": 860
        },
        "id": "Hcl1329_y1Vj",
        "outputId": "76982455-4657-45e7-8356-11b186eebb02"
      },
      "execution_count": 15,
      "outputs": [
        {
          "output_type": "display_data",
          "data": {
            "image/png": "[encoded data removed]",
            "text/plain": [
              "<Figure size 1008x720 with 1 Axes>"
            ]
          },
          "metadata": {
            "needs_background": "light"
          }
        },
        {
          "output_type": "stream",
          "name": "stdout",
          "text": [
            "\n",
            "The quantity of employes in the sales department and has left the companys is 3126 and those whose stayed is 1014.\n",
            "The quantity of employes in technical department and has left the companys is 2023 and those whose stayed is 697\n",
            "The quantity of employes support department and has left the companys is 1674 and those whose stayed is 555\n",
            "The quantity of employes in the IT department and has left the companys is 954 and those whose stayed is 273.\n",
            "The quantity of employes in product management department and has left the companys is 704 and those whose stayed is 198\n",
            "The quantity of employes marketing department and has left the companys is 655 and those whose stayed is 203\n",
            "The quantity of employes in the rand department and has left the companys is 666 and those whose stayed is 121.\n",
            "The quantity of employes in accounting department and has left the companys is 563 and those whose stayed is 204\n",
            "The quantity of employes HR department and has left the companys is 524 and those whose stayed is 215\n",
            "The quantity of employes management department and has left the companys is 539 and those whose stayed is 91\n"
          ]
        }
      ]
    },
    {
      "cell_type": "code",
      "source": [
        "def acdchurn():\n",
        "  plt.figure(figsize=(10,7))\n",
        "  ax1=sns.countplot(data=df, x='Work_accident', hue='left')\n",
        "  for p in ax1.patches:\n",
        "    ax1.annotate(format(str((p.get_height()))), \n",
        "                      (p.get_x() + p.get_width()/2, p.get_height()),\n",
        "                      ha='center', \n",
        "                      va='center', \n",
        "                      xytext=(0,6),\n",
        "                      textcoords='offset points')\n",
        "  plt.ylabel('Distribution of employees that suffered accident', fontsize=12, labelpad=15)\n",
        "  plt.xlabel('Accident', fontsize=12, labelpad=15)\n",
        "  plt.title('Relation between accidents and churn',color = 'black',fontsize=20, pad=20)\n",
        "  plt.legend(title='Churn', loc='upper right', labels=['Stayed', 'Left'])\n",
        "  plt.show()\n",
        "  return None\n",
        "\n",
        "def projectchurn():\n",
        "  plt.figure(figsize=(10,7))\n",
        "  ax1=sns.countplot(data=df, x='number_project', hue='left', order=df.number_project.value_counts().index)\n",
        "  for p in ax1.patches:\n",
        "    ax1.annotate(format(str((p.get_height()))), \n",
        "                        (p.get_x() + p.get_width()/2, p.get_height()),\n",
        "                        ha='center', \n",
        "                        va='center', \n",
        "                        xytext=(0,6),\n",
        "                        textcoords='offset points')\n",
        "  plt.ylabel('Projects quantity distribution', fontsize=12, labelpad=15)\n",
        "  plt.xlabel('Projects done by person', fontsize=12, labelpad=15)\n",
        "  plt.title('Relation between number of projects and churn',color = 'black',fontsize=20, pad=20)\n",
        "  plt.legend(title='Churn', loc='upper right', labels=['Stayed', 'Left'])\n",
        "  plt.show()\n",
        "  return None\n",
        "\n",
        "\n",
        "acdchurn()\n",
        "projectchurn()"
      ],
      "metadata": {
        "colab": {
          "base_uri": "https://localhost:8080/",
          "height": 965
        },
        "id": "gGgSitdzag8C",
        "outputId": "4c3ff1f4-a8a4-4aa0-843f-55f568d44ee6"
      },
      "execution_count": 25,
      "outputs": [
        {
          "output_type": "display_data",
          "data": {
            "image/png": "[encoded data removed]",
            "text/plain": [
              "<Figure size 720x504 with 1 Axes>"
            ]
          },
          "metadata": {
            "needs_background": "light"
          }
        },
        {
          "output_type": "display_data",
          "data": {
            "image/png": "[encoded data removed]",
            "text/plain": [
              "<Figure size 720x504 with 1 Axes>"
            ]
          },
          "metadata": {
            "needs_background": "light"
          }
        }
      ]
    },
    {
      "cell_type": "code",
      "source": [
        "df_moreprojects=df[df['number_project'] >= 5]\n",
        "df_lessprojects=df[df['number_project'] <= 3]\n",
        "\n",
        "def moreprojects():\n",
        "\n",
        "  plt.figure(figsize=(12,8))\n",
        "  plt.suptitle('Analyzis for employee with more than 5 projects', fontsize=20)\n",
        "\n",
        "  plt.subplot(121)\n",
        "  ax1=sns.countplot(x='salary', data=df_moreprojects)\n",
        "  for p in ax1.patches:\n",
        "    ax1.annotate(format(str((p.get_height()))), \n",
        "                          (p.get_x() + p.get_width()/2, p.get_height()),\n",
        "                          ha='center', \n",
        "                          va='center', \n",
        "                          xytext=(0,6),\n",
        "                          textcoords='offset points')\n",
        "  plt.title('Salary analyzis', fontsize=16)\n",
        "  plt.xlabel('Salary', fontsize=12)\n",
        "  plt.ylabel('Count', fontsize=12)\n",
        "\n",
        "  plt.subplot(122)\n",
        "  ax2=sns.countplot(x='left', data=df_moreprojects)\n",
        "  for p in ax2.patches:\n",
        "    ax2.annotate(format(str((p.get_height()))), \n",
        "                          (p.get_x() + p.get_width()/2, p.get_height()),\n",
        "                          ha='center', \n",
        "                          va='center', \n",
        "                          xytext=(0,6),\n",
        "                          textcoords='offset points')\n",
        "  plt.title('Churn analyzis', fontsize=16)\n",
        "  plt.xlabel('Churn', fontsize=12)\n",
        "  plt.ylabel('Count', fontsize=12)\n",
        "  plt.xticks([0, 1], ['Stayed', 'Left'])\n",
        "  plt.show()\n",
        "  return None\n",
        "\n",
        "\n",
        "def lessprojects():\n",
        "\n",
        "  plt.figure(figsize=(12,8))\n",
        "  plt.suptitle('Analyzis for employee with less than 3 projects', fontsize=20)\n",
        "\n",
        "  plt.subplot(121)\n",
        "  ax1=sns.countplot(x='salary', data=df_lessprojects)\n",
        "  for p in ax1.patches:\n",
        "    ax1.annotate(format(str((p.get_height()))), \n",
        "                          (p.get_x() + p.get_width()/2, p.get_height()),\n",
        "                          ha='center', \n",
        "                          va='center', \n",
        "                          xytext=(0,6),\n",
        "                          textcoords='offset points')\n",
        "  plt.title('Salary analyzis', fontsize=16)\n",
        "  plt.xlabel('Salary', fontsize=12)\n",
        "  plt.ylabel('Count', fontsize=12)\n",
        "\n",
        "  plt.subplot(122)\n",
        "  ax2=sns.countplot(x='left', data=df_lessprojects)\n",
        "  for p in ax2.patches:\n",
        "    ax2.annotate(format(str((p.get_height()))), \n",
        "                          (p.get_x() + p.get_width()/2, p.get_height()),\n",
        "                          ha='center', \n",
        "                          va='center', \n",
        "                          xytext=(0,6),\n",
        "                          textcoords='offset points')\n",
        "  plt.title('Churn analyzis', fontsize=16)\n",
        "  plt.xlabel('Churn', fontsize=12)\n",
        "  plt.ylabel('Count', fontsize=12)\n",
        "  plt.xticks([0, 1], ['Stayed', 'Left'])\n",
        "  plt.show()\n",
        "  return None\n",
        "\n",
        "moreprojects()\n",
        "print('\\n')\n",
        "lessprojects()"
      ],
      "metadata": {
        "colab": {
          "base_uri": "https://localhost:8080/",
          "height": 1000
        },
        "id": "PsoG6WOHoOMf",
        "outputId": "07ec3967-4b32-464e-e852-5331abd810ff"
      },
      "execution_count": 281,
      "outputs": [
        {
          "output_type": "display_data",
          "data": {
            "image/png": "[encoded data removed]",
            "text/plain": [
              "<Figure size 864x576 with 2 Axes>"
            ]
          },
          "metadata": {
            "needs_background": "light"
          }
        },
        {
          "output_type": "stream",
          "name": "stdout",
          "text": [
            "\n",
            "\n"
          ]
        },
        {
          "output_type": "display_data",
          "data": {
            "image/png": "[encoded data removed]",
            "text/plain": [
              "<Figure size 864x576 with 2 Axes>"
            ]
          },
          "metadata": {
            "needs_background": "light"
          }
        }
      ]
    },
    {
      "cell_type": "code",
      "source": [
        "df.quantile([0.25, 0.50, 0.75])"
      ],
      "metadata": {
        "colab": {
          "base_uri": "https://localhost:8080/",
          "height": 208
        },
        "id": "tDgeSnbspULC",
        "outputId": "cad96b11-0bf4-47b4-e87b-9b5ef67061fc"
      },
      "execution_count": 39,
      "outputs": [
        {
          "output_type": "execute_result",
          "data": {
            "text/html": [
              "\n",
              "  <div id=\"df-24ed5e7c-09c0-45a9-b4ea-87193deffb67\">\n",
              "    <div class=\"colab-df-container\">\n",
              "      <div>\n",
              "<style scoped>\n",
              "    .dataframe tbody tr th:only-of-type {\n",
              "        vertical-align: middle;\n",
              "    }\n",
              "\n",
              "    .dataframe tbody tr th {\n",
              "        vertical-align: top;\n",
              "    }\n",
              "\n",
              "    .dataframe thead th {\n",
              "        text-align: right;\n",
              "    }\n",
              "</style>\n",
              "<table border=\"1\" class=\"dataframe\">\n",
              "  <thead>\n",
              "    <tr style=\"text-align: right;\">\n",
              "      <th></th>\n",
              "      <th>satisfaction_level</th>\n",
              "      <th>last_evaluation</th>\n",
              "      <th>number_project</th>\n",
              "      <th>average_montly_hours</th>\n",
              "      <th>time_spend_company</th>\n",
              "      <th>Work_accident</th>\n",
              "      <th>left</th>\n",
              "      <th>promotion_last_5years</th>\n",
              "      <th>satisfaction_level_normalized</th>\n",
              "      <th>time_spend_company_normalized</th>\n",
              "      <th>dif_between_tests</th>\n",
              "    </tr>\n",
              "  </thead>\n",
              "  <tbody>\n",
              "    <tr>\n",
              "      <th>0.25</th>\n",
              "      <td>0.44</td>\n",
              "      <td>0.56</td>\n",
              "      <td>3.0</td>\n",
              "      <td>156.0</td>\n",
              "      <td>3.0</td>\n",
              "      <td>0.0</td>\n",
              "      <td>0.0</td>\n",
              "      <td>0.0</td>\n",
              "      <td>1.219512</td>\n",
              "      <td>1.098612</td>\n",
              "      <td>-0.23</td>\n",
              "    </tr>\n",
              "    <tr>\n",
              "      <th>0.50</th>\n",
              "      <td>0.64</td>\n",
              "      <td>0.72</td>\n",
              "      <td>4.0</td>\n",
              "      <td>200.0</td>\n",
              "      <td>3.0</td>\n",
              "      <td>0.0</td>\n",
              "      <td>0.0</td>\n",
              "      <td>0.0</td>\n",
              "      <td>1.562500</td>\n",
              "      <td>1.098612</td>\n",
              "      <td>-0.08</td>\n",
              "    </tr>\n",
              "    <tr>\n",
              "      <th>0.75</th>\n",
              "      <td>0.82</td>\n",
              "      <td>0.87</td>\n",
              "      <td>5.0</td>\n",
              "      <td>245.0</td>\n",
              "      <td>4.0</td>\n",
              "      <td>0.0</td>\n",
              "      <td>0.0</td>\n",
              "      <td>0.0</td>\n",
              "      <td>2.272727</td>\n",
              "      <td>1.386294</td>\n",
              "      <td>0.08</td>\n",
              "    </tr>\n",
              "  </tbody>\n",
              "</table>\n",
              "</div>\n",
              "      <button class=\"colab-df-convert\" onclick=\"convertToInteractive('df-24ed5e7c-09c0-45a9-b4ea-87193deffb67')\"\n",
              "              title=\"Convert this dataframe to an interactive table.\"\n",
              "              style=\"display:none;\">\n",
              "        \n",
              "  <svg xmlns=\"http://www.w3.org/2000/svg\" height=\"24px\"viewBox=\"0 0 24 24\"\n",
              "       width=\"24px\">\n",
              "    <path d=\"M0 0h24v24H0V0z\" fill=\"none\"/>\n",
              "    <path d=\"M18.56 5.44l.94 2.06.94-2.06 2.06-.94-2.06-.94-.94-2.06-.94 2.06-2.06.94zm-11 1L8.5 8.5l.94-2.06 2.06-.94-2.06-.94L8.5 2.5l-.94 2.06-2.06.94zm10 10l.94 2.06.94-2.06 2.06-.94-2.06-.94-.94-2.06-.94 2.06-2.06.94z\"/><path d=\"M17.41 7.96l-1.37-1.37c-.4-.4-.92-.59-1.43-.59-.52 0-1.04.2-1.43.59L10.3 9.45l-7.72 7.72c-.78.78-.78 2.05 0 2.83L4 21.41c.39.39.9.59 1.41.59.51 0 1.02-.2 1.41-.59l7.78-7.78 2.81-2.81c.8-.78.8-2.07 0-2.86zM5.41 20L4 18.59l7.72-7.72 1.47 1.35L5.41 20z\"/>\n",
              "  </svg>\n",
              "      </button>\n",
              "      \n",
              "  <style>\n",
              "    .colab-df-container {\n",
              "      display:flex;\n",
              "      flex-wrap:wrap;\n",
              "      gap: 12px;\n",
              "    }\n",
              "\n",
              "    .colab-df-convert {\n",
              "      background-color: #E8F0FE;\n",
              "      border: none;\n",
              "      border-radius: 50%;\n",
              "      cursor: pointer;\n",
              "      display: none;\n",
              "      fill: #1967D2;\n",
              "      height: 32px;\n",
              "      padding: 0 0 0 0;\n",
              "      width: 32px;\n",
              "    }\n",
              "\n",
              "    .colab-df-convert:hover {\n",
              "      background-color: #E2EBFA;\n",
              "      box-shadow: 0px 1px 2px rgba(60, 64, 67, 0.3), 0px 1px 3px 1px rgba(60, 64, 67, 0.15);\n",
              "      fill: #174EA6;\n",
              "    }\n",
              "\n",
              "    [theme=dark] .colab-df-convert {\n",
              "      background-color: #3B4455;\n",
              "      fill: #D2E3FC;\n",
              "    }\n",
              "\n",
              "    [theme=dark] .colab-df-convert:hover {\n",
              "      background-color: #434B5C;\n",
              "      box-shadow: 0px 1px 3px 1px rgba(0, 0, 0, 0.15);\n",
              "      filter: drop-shadow(0px 1px 2px rgba(0, 0, 0, 0.3));\n",
              "      fill: #FFFFFF;\n",
              "    }\n",
              "  </style>\n",
              "\n",
              "      <script>\n",
              "        const buttonEl =\n",
              "          document.querySelector('#df-24ed5e7c-09c0-45a9-b4ea-87193deffb67 button.colab-df-convert');\n",
              "        buttonEl.style.display =\n",
              "          google.colab.kernel.accessAllowed ? 'block' : 'none';\n",
              "\n",
              "        async function convertToInteractive(key) {\n",
              "          const element = document.querySelector('#df-24ed5e7c-09c0-45a9-b4ea-87193deffb67');\n",
              "          const dataTable =\n",
              "            await google.colab.kernel.invokeFunction('convertToInteractive',\n",
              "                                                     [key], {});\n",
              "          if (!dataTable) return;\n",
              "\n",
              "          const docLinkHtml = 'Like what you see? Visit the ' +\n",
              "            '<a target=\"_blank\" href=https://colab.research.google.com/notebooks/data_table.ipynb>data table notebook</a>'\n",
              "            + ' to learn more about interactive tables.';\n",
              "          element.innerHTML = '';\n",
              "          dataTable['output_type'] = 'display_data';\n",
              "          await google.colab.output.renderOutput(dataTable, element);\n",
              "          const docLink = document.createElement('div');\n",
              "          docLink.innerHTML = docLinkHtml;\n",
              "          element.appendChild(docLink);\n",
              "        }\n",
              "      </script>\n",
              "    </div>\n",
              "  </div>\n",
              "  "
            ],
            "text/plain": [
              "      satisfaction_level  ...  dif_between_tests\n",
              "0.25                0.44  ...              -0.23\n",
              "0.50                0.64  ...              -0.08\n",
              "0.75                0.82  ...               0.08\n",
              "\n",
              "[3 rows x 11 columns]"
            ]
          },
          "metadata": {},
          "execution_count": 39
        }
      ]
    },
    {
      "cell_type": "code",
      "source": [
        "df_highersatisfactions = df[df['satisfaction_level'] >= 0.82]\n",
        "df_lowrsatisfactions = df[df['satisfaction_level'] <= 0.44]\n",
        "\n",
        "def thirdquantile():\n",
        "\n",
        "  plt.figure(figsize=(12,8))\n",
        "  plt.suptitle('Analyzis for employee with satisfaction level bigger than 75% of total', fontsize=20)\n",
        "\n",
        "  plt.subplot(121)\n",
        "  ax1=sns.countplot(x='salary', data=df_highersatisfactions)\n",
        "  for p in ax1.patches:\n",
        "    ax1.annotate(format(str((p.get_height()))), \n",
        "                          (p.get_x() + p.get_width()/2, p.get_height()),\n",
        "                          ha='center', \n",
        "                          va='center', \n",
        "                          xytext=(0,6),\n",
        "                          textcoords='offset points')\n",
        "  plt.title('Salary analyzis', fontsize=16)\n",
        "  plt.xlabel('Salary', fontsize=12)\n",
        "  plt.ylabel('Count', fontsize=12)\n",
        "\n",
        "  plt.subplot(122)\n",
        "  ax2=sns.countplot(x='left', data=df_highersatisfactions)\n",
        "  for p in ax2.patches:\n",
        "    ax2.annotate(format(str((p.get_height()))), \n",
        "                          (p.get_x() + p.get_width()/2, p.get_height()),\n",
        "                          ha='center', \n",
        "                          va='center', \n",
        "                          xytext=(0,6),\n",
        "                          textcoords='offset points')\n",
        "  plt.title('Churn analyzis', fontsize=16)\n",
        "  plt.xlabel('Churn', fontsize=12)\n",
        "  plt.ylabel('Count', fontsize=12)\n",
        "  plt.xticks([0, 1], ['Stayed', 'Left'])\n",
        "  plt.show()\n",
        "  return None\n",
        "\n",
        "def firstquantile():\n",
        "\n",
        "  plt.figure(figsize=(12,8))\n",
        "  plt.suptitle('Analyzis for employee with satisfaction level less than 25% of total', fontsize=20)\n",
        "\n",
        "  plt.subplot(121)\n",
        "  ax1=sns.countplot(x='salary', data=df_lowrsatisfactions)\n",
        "  for p in ax1.patches:\n",
        "    ax1.annotate(format(str((p.get_height()))), \n",
        "                          (p.get_x() + p.get_width()/2, p.get_height()),\n",
        "                          ha='center', \n",
        "                          va='center', \n",
        "                          xytext=(0,6),\n",
        "                          textcoords='offset points')\n",
        "  plt.title('Salary analyzis', fontsize=16)\n",
        "  plt.xlabel('Salary', fontsize=12)\n",
        "  plt.ylabel('Count', fontsize=12)\n",
        "\n",
        "  plt.subplot(122)\n",
        "  ax2=sns.countplot(x='left', data=df_lowrsatisfactions)\n",
        "  for p in ax2.patches:\n",
        "    ax2.annotate(format(str((p.get_height()))), \n",
        "                          (p.get_x() + p.get_width()/2, p.get_height()),\n",
        "                          ha='center', \n",
        "                          va='center', \n",
        "                          xytext=(0,6),\n",
        "                          textcoords='offset points')\n",
        "  plt.title('Churn analyzis', fontsize=16)\n",
        "  plt.xlabel('Churn', fontsize=12)\n",
        "  plt.ylabel('Count', fontsize=12)\n",
        "  plt.xticks([0, 1], ['Stayed', 'Left'])\n",
        "  plt.show()\n",
        "  return None\n",
        "\n",
        "firstquantile()\n",
        "thirdquantile()"
      ],
      "metadata": {
        "colab": {
          "base_uri": "https://localhost:8080/",
          "height": 1000
        },
        "id": "P7wkaSp6tBw_",
        "outputId": "6d97c340-180d-4110-eb9f-5918b7df154b"
      },
      "execution_count": 71,
      "outputs": [
        {
          "output_type": "display_data",
          "data": {
            "image/png": "[encoded data removed]",
            "text/plain": [
              "<Figure size 864x576 with 2 Axes>"
            ]
          },
          "metadata": {
            "needs_background": "light"
          }
        },
        {
          "output_type": "display_data",
          "data": {
            "image/png": "[encoded data removed]",
            "text/plain": [
              "<Figure size 864x576 with 2 Axes>"
            ]
          },
          "metadata": {
            "needs_background": "light"
          }
        }
      ]
    },
    {
      "cell_type": "markdown",
      "source": [
        "#Feature Engineering"
      ],
      "metadata": {
        "id": "YTFchqQaZ3X5"
      }
    },
    {
      "cell_type": "code",
      "source": [
        "def dummies():\n",
        "  subdf = df[['satisfaction_level','average_montly_hours','promotion_last_5years','salary']]\n",
        "  salary_dummies = pd.get_dummies(subdf.salary, prefix=\"salary\")\n",
        "  df_with_dummies = pd.concat([subdf,salary_dummies],axis='columns')\n",
        "  df_with_dummies.drop('salary',axis='columns',inplace=True)\n",
        "  departments = pd.get_dummies(df.Department)\n",
        "  df_with_more_dummies = pd.concat([df_with_dummies, departments], axis='columns')\n",
        "  return df_with_more_dummies\n",
        "\n",
        "dummies()"
      ],
      "metadata": {
        "colab": {
          "base_uri": "https://localhost:8080/",
          "height": 488
        },
        "id": "_fSwuKNJ6viA",
        "outputId": "53dd9a96-47e0-4d8c-8d51-044a9ee22082"
      },
      "execution_count": 194,
      "outputs": [
        {
          "output_type": "execute_result",
          "data": {
            "text/html": [
              "\n",
              "  <div id=\"df-f20c4639-304e-4d8e-836b-ac1ff8457810\">\n",
              "    <div class=\"colab-df-container\">\n",
              "      <div>\n",
              "<style scoped>\n",
              "    .dataframe tbody tr th:only-of-type {\n",
              "        vertical-align: middle;\n",
              "    }\n",
              "\n",
              "    .dataframe tbody tr th {\n",
              "        vertical-align: top;\n",
              "    }\n",
              "\n",
              "    .dataframe thead th {\n",
              "        text-align: right;\n",
              "    }\n",
              "</style>\n",
              "<table border=\"1\" class=\"dataframe\">\n",
              "  <thead>\n",
              "    <tr style=\"text-align: right;\">\n",
              "      <th></th>\n",
              "      <th>satisfaction_level</th>\n",
              "      <th>average_montly_hours</th>\n",
              "      <th>promotion_last_5years</th>\n",
              "      <th>salary_high</th>\n",
              "      <th>salary_low</th>\n",
              "      <th>salary_medium</th>\n",
              "      <th>IT</th>\n",
              "      <th>RandD</th>\n",
              "      <th>accounting</th>\n",
              "      <th>hr</th>\n",
              "      <th>management</th>\n",
              "      <th>marketing</th>\n",
              "      <th>product_mng</th>\n",
              "      <th>sales</th>\n",
              "      <th>support</th>\n",
              "      <th>technical</th>\n",
              "    </tr>\n",
              "  </thead>\n",
              "  <tbody>\n",
              "    <tr>\n",
              "      <th>0</th>\n",
              "      <td>0.38</td>\n",
              "      <td>157</td>\n",
              "      <td>0</td>\n",
              "      <td>0</td>\n",
              "      <td>1</td>\n",
              "      <td>0</td>\n",
              "      <td>0</td>\n",
              "      <td>0</td>\n",
              "      <td>0</td>\n",
              "      <td>0</td>\n",
              "      <td>0</td>\n",
              "      <td>0</td>\n",
              "      <td>0</td>\n",
              "      <td>1</td>\n",
              "      <td>0</td>\n",
              "      <td>0</td>\n",
              "    </tr>\n",
              "    <tr>\n",
              "      <th>1</th>\n",
              "      <td>0.80</td>\n",
              "      <td>262</td>\n",
              "      <td>0</td>\n",
              "      <td>0</td>\n",
              "      <td>0</td>\n",
              "      <td>1</td>\n",
              "      <td>0</td>\n",
              "      <td>0</td>\n",
              "      <td>0</td>\n",
              "      <td>0</td>\n",
              "      <td>0</td>\n",
              "      <td>0</td>\n",
              "      <td>0</td>\n",
              "      <td>1</td>\n",
              "      <td>0</td>\n",
              "      <td>0</td>\n",
              "    </tr>\n",
              "    <tr>\n",
              "      <th>2</th>\n",
              "      <td>0.11</td>\n",
              "      <td>272</td>\n",
              "      <td>0</td>\n",
              "      <td>0</td>\n",
              "      <td>0</td>\n",
              "      <td>1</td>\n",
              "      <td>0</td>\n",
              "      <td>0</td>\n",
              "      <td>0</td>\n",
              "      <td>0</td>\n",
              "      <td>0</td>\n",
              "      <td>0</td>\n",
              "      <td>0</td>\n",
              "      <td>1</td>\n",
              "      <td>0</td>\n",
              "      <td>0</td>\n",
              "    </tr>\n",
              "    <tr>\n",
              "      <th>3</th>\n",
              "      <td>0.72</td>\n",
              "      <td>223</td>\n",
              "      <td>0</td>\n",
              "      <td>0</td>\n",
              "      <td>1</td>\n",
              "      <td>0</td>\n",
              "      <td>0</td>\n",
              "      <td>0</td>\n",
              "      <td>0</td>\n",
              "      <td>0</td>\n",
              "      <td>0</td>\n",
              "      <td>0</td>\n",
              "      <td>0</td>\n",
              "      <td>1</td>\n",
              "      <td>0</td>\n",
              "      <td>0</td>\n",
              "    </tr>\n",
              "    <tr>\n",
              "      <th>4</th>\n",
              "      <td>0.37</td>\n",
              "      <td>159</td>\n",
              "      <td>0</td>\n",
              "      <td>0</td>\n",
              "      <td>1</td>\n",
              "      <td>0</td>\n",
              "      <td>0</td>\n",
              "      <td>0</td>\n",
              "      <td>0</td>\n",
              "      <td>0</td>\n",
              "      <td>0</td>\n",
              "      <td>0</td>\n",
              "      <td>0</td>\n",
              "      <td>1</td>\n",
              "      <td>0</td>\n",
              "      <td>0</td>\n",
              "    </tr>\n",
              "    <tr>\n",
              "      <th>...</th>\n",
              "      <td>...</td>\n",
              "      <td>...</td>\n",
              "      <td>...</td>\n",
              "      <td>...</td>\n",
              "      <td>...</td>\n",
              "      <td>...</td>\n",
              "      <td>...</td>\n",
              "      <td>...</td>\n",
              "      <td>...</td>\n",
              "      <td>...</td>\n",
              "      <td>...</td>\n",
              "      <td>...</td>\n",
              "      <td>...</td>\n",
              "      <td>...</td>\n",
              "      <td>...</td>\n",
              "      <td>...</td>\n",
              "    </tr>\n",
              "    <tr>\n",
              "      <th>14994</th>\n",
              "      <td>0.40</td>\n",
              "      <td>151</td>\n",
              "      <td>0</td>\n",
              "      <td>0</td>\n",
              "      <td>1</td>\n",
              "      <td>0</td>\n",
              "      <td>0</td>\n",
              "      <td>0</td>\n",
              "      <td>0</td>\n",
              "      <td>0</td>\n",
              "      <td>0</td>\n",
              "      <td>0</td>\n",
              "      <td>0</td>\n",
              "      <td>0</td>\n",
              "      <td>1</td>\n",
              "      <td>0</td>\n",
              "    </tr>\n",
              "    <tr>\n",
              "      <th>14995</th>\n",
              "      <td>0.37</td>\n",
              "      <td>160</td>\n",
              "      <td>0</td>\n",
              "      <td>0</td>\n",
              "      <td>1</td>\n",
              "      <td>0</td>\n",
              "      <td>0</td>\n",
              "      <td>0</td>\n",
              "      <td>0</td>\n",
              "      <td>0</td>\n",
              "      <td>0</td>\n",
              "      <td>0</td>\n",
              "      <td>0</td>\n",
              "      <td>0</td>\n",
              "      <td>1</td>\n",
              "      <td>0</td>\n",
              "    </tr>\n",
              "    <tr>\n",
              "      <th>14996</th>\n",
              "      <td>0.37</td>\n",
              "      <td>143</td>\n",
              "      <td>0</td>\n",
              "      <td>0</td>\n",
              "      <td>1</td>\n",
              "      <td>0</td>\n",
              "      <td>0</td>\n",
              "      <td>0</td>\n",
              "      <td>0</td>\n",
              "      <td>0</td>\n",
              "      <td>0</td>\n",
              "      <td>0</td>\n",
              "      <td>0</td>\n",
              "      <td>0</td>\n",
              "      <td>1</td>\n",
              "      <td>0</td>\n",
              "    </tr>\n",
              "    <tr>\n",
              "      <th>14997</th>\n",
              "      <td>0.11</td>\n",
              "      <td>280</td>\n",
              "      <td>0</td>\n",
              "      <td>0</td>\n",
              "      <td>1</td>\n",
              "      <td>0</td>\n",
              "      <td>0</td>\n",
              "      <td>0</td>\n",
              "      <td>0</td>\n",
              "      <td>0</td>\n",
              "      <td>0</td>\n",
              "      <td>0</td>\n",
              "      <td>0</td>\n",
              "      <td>0</td>\n",
              "      <td>1</td>\n",
              "      <td>0</td>\n",
              "    </tr>\n",
              "    <tr>\n",
              "      <th>14998</th>\n",
              "      <td>0.37</td>\n",
              "      <td>158</td>\n",
              "      <td>0</td>\n",
              "      <td>0</td>\n",
              "      <td>1</td>\n",
              "      <td>0</td>\n",
              "      <td>0</td>\n",
              "      <td>0</td>\n",
              "      <td>0</td>\n",
              "      <td>0</td>\n",
              "      <td>0</td>\n",
              "      <td>0</td>\n",
              "      <td>0</td>\n",
              "      <td>0</td>\n",
              "      <td>1</td>\n",
              "      <td>0</td>\n",
              "    </tr>\n",
              "  </tbody>\n",
              "</table>\n",
              "<p>14999 rows × 16 columns</p>\n",
              "</div>\n",
              "      <button class=\"colab-df-convert\" onclick=\"convertToInteractive('df-f20c4639-304e-4d8e-836b-ac1ff8457810')\"\n",
              "              title=\"Convert this dataframe to an interactive table.\"\n",
              "              style=\"display:none;\">\n",
              "        \n",
              "  <svg xmlns=\"http://www.w3.org/2000/svg\" height=\"24px\"viewBox=\"0 0 24 24\"\n",
              "       width=\"24px\">\n",
              "    <path d=\"M0 0h24v24H0V0z\" fill=\"none\"/>\n",
              "    <path d=\"M18.56 5.44l.94 2.06.94-2.06 2.06-.94-2.06-.94-.94-2.06-.94 2.06-2.06.94zm-11 1L8.5 8.5l.94-2.06 2.06-.94-2.06-.94L8.5 2.5l-.94 2.06-2.06.94zm10 10l.94 2.06.94-2.06 2.06-.94-2.06-.94-.94-2.06-.94 2.06-2.06.94z\"/><path d=\"M17.41 7.96l-1.37-1.37c-.4-.4-.92-.59-1.43-.59-.52 0-1.04.2-1.43.59L10.3 9.45l-7.72 7.72c-.78.78-.78 2.05 0 2.83L4 21.41c.39.39.9.59 1.41.59.51 0 1.02-.2 1.41-.59l7.78-7.78 2.81-2.81c.8-.78.8-2.07 0-2.86zM5.41 20L4 18.59l7.72-7.72 1.47 1.35L5.41 20z\"/>\n",
              "  </svg>\n",
              "      </button>\n",
              "      \n",
              "  <style>\n",
              "    .colab-df-container {\n",
              "      display:flex;\n",
              "      flex-wrap:wrap;\n",
              "      gap: 12px;\n",
              "    }\n",
              "\n",
              "    .colab-df-convert {\n",
              "      background-color: #E8F0FE;\n",
              "      border: none;\n",
              "      border-radius: 50%;\n",
              "      cursor: pointer;\n",
              "      display: none;\n",
              "      fill: #1967D2;\n",
              "      height: 32px;\n",
              "      padding: 0 0 0 0;\n",
              "      width: 32px;\n",
              "    }\n",
              "\n",
              "    .colab-df-convert:hover {\n",
              "      background-color: #E2EBFA;\n",
              "      box-shadow: 0px 1px 2px rgba(60, 64, 67, 0.3), 0px 1px 3px 1px rgba(60, 64, 67, 0.15);\n",
              "      fill: #174EA6;\n",
              "    }\n",
              "\n",
              "    [theme=dark] .colab-df-convert {\n",
              "      background-color: #3B4455;\n",
              "      fill: #D2E3FC;\n",
              "    }\n",
              "\n",
              "    [theme=dark] .colab-df-convert:hover {\n",
              "      background-color: #434B5C;\n",
              "      box-shadow: 0px 1px 3px 1px rgba(0, 0, 0, 0.15);\n",
              "      filter: drop-shadow(0px 1px 2px rgba(0, 0, 0, 0.3));\n",
              "      fill: #FFFFFF;\n",
              "    }\n",
              "  </style>\n",
              "\n",
              "      <script>\n",
              "        const buttonEl =\n",
              "          document.querySelector('#df-f20c4639-304e-4d8e-836b-ac1ff8457810 button.colab-df-convert');\n",
              "        buttonEl.style.display =\n",
              "          google.colab.kernel.accessAllowed ? 'block' : 'none';\n",
              "\n",
              "        async function convertToInteractive(key) {\n",
              "          const element = document.querySelector('#df-f20c4639-304e-4d8e-836b-ac1ff8457810');\n",
              "          const dataTable =\n",
              "            await google.colab.kernel.invokeFunction('convertToInteractive',\n",
              "                                                     [key], {});\n",
              "          if (!dataTable) return;\n",
              "\n",
              "          const docLinkHtml = 'Like what you see? Visit the ' +\n",
              "            '<a target=\"_blank\" href=https://colab.research.google.com/notebooks/data_table.ipynb>data table notebook</a>'\n",
              "            + ' to learn more about interactive tables.';\n",
              "          element.innerHTML = '';\n",
              "          dataTable['output_type'] = 'display_data';\n",
              "          await google.colab.output.renderOutput(dataTable, element);\n",
              "          const docLink = document.createElement('div');\n",
              "          docLink.innerHTML = docLinkHtml;\n",
              "          element.appendChild(docLink);\n",
              "        }\n",
              "      </script>\n",
              "    </div>\n",
              "  </div>\n",
              "  "
            ],
            "text/plain": [
              "       satisfaction_level  average_montly_hours  ...  support  technical\n",
              "0                    0.38                   157  ...        0          0\n",
              "1                    0.80                   262  ...        0          0\n",
              "2                    0.11                   272  ...        0          0\n",
              "3                    0.72                   223  ...        0          0\n",
              "4                    0.37                   159  ...        0          0\n",
              "...                   ...                   ...  ...      ...        ...\n",
              "14994                0.40                   151  ...        1          0\n",
              "14995                0.37                   160  ...        1          0\n",
              "14996                0.37                   143  ...        1          0\n",
              "14997                0.11                   280  ...        1          0\n",
              "14998                0.37                   158  ...        1          0\n",
              "\n",
              "[14999 rows x 16 columns]"
            ]
          },
          "metadata": {},
          "execution_count": 194
        }
      ]
    },
    {
      "cell_type": "code",
      "source": [
        "# setting features\n",
        "\n",
        "u=df_with_more_dummies\n",
        "t=df.left"
      ],
      "metadata": {
        "id": "sqaOUU3Mv7cZ"
      },
      "execution_count": 195,
      "outputs": []
    },
    {
      "cell_type": "markdown",
      "source": [
        "#Base line"
      ],
      "metadata": {
        "id": "91vNMHwj1gS4"
      }
    },
    {
      "cell_type": "code",
      "source": [
        "# acuracia dumy para logsitic\n",
        "from sklearn.dummy import DummyClassifier\n",
        "\n",
        "dummy_stratified = DummyClassifier()\n",
        "dummy_stratified.fit(X_train, y_train)\n",
        "acuracia = dummy_stratified.score(X_test, y_test) * 100\n",
        "\n",
        "print(\"Our baseline had an acuraccy %.2f%%\" % acuracia)"
      ],
      "metadata": {
        "colab": {
          "base_uri": "https://localhost:8080/"
        },
        "id": "TSuCc3b1wj0I",
        "outputId": "e96be59b-98a0-44a6-b570-d78bfa4cfe57"
      },
      "execution_count": 193,
      "outputs": [
        {
          "output_type": "stream",
          "name": "stdout",
          "text": [
            "Our baseline had an acuraccy 76.34%\n"
          ]
        }
      ]
    },
    {
      "cell_type": "code",
      "source": [
        "# define standard scaler\n",
        "scaler = StandardScaler()\n",
        "# transform data\n",
        "scaled2 = scaler.fit_transform(u)"
      ],
      "metadata": {
        "id": "xtQu-UtuyN8N"
      },
      "execution_count": 122,
      "outputs": []
    },
    {
      "cell_type": "markdown",
      "source": [
        "#LogisticRegression"
      ],
      "metadata": {
        "id": "y1Q9Xj3lvO2J"
      }
    },
    {
      "cell_type": "code",
      "source": [
        "#importing libraries\n",
        "\n",
        "from sklearn.preprocessing import MinMaxScaler\n",
        "from sklearn.preprocessing import StandardScaler\n",
        "from sklearn.model_selection import train_test_split\n",
        "from sklearn.linear_model import LogisticRegression\n",
        "from sklearn.model_selection import cross_validate\n",
        "from sklearn.model_selection import KFold\n",
        "from sklearn.tree import DecisionTreeRegressor\n",
        "from sklearn.tree import DecisionTreeClassifier\n",
        "from sklearn.metrics import mean_squared_error\n",
        "from sklearn.ensemble import RandomForestRegressor\n",
        "from lightgbm import LGBMClassifier\n",
        "from sklearn.metrics import roc_auc_score\n",
        "from sklearn import metrics"
      ],
      "metadata": {
        "id": "08MwOAd17FfC"
      },
      "execution_count": 227,
      "outputs": []
    },
    {
      "cell_type": "code",
      "source": [
        "# splitting\n",
        "X_train, X_test, y_train, y_test = train_test_split(u,t,train_size=0.3)\n",
        "\n",
        "SEED = 10\n",
        "np.random.seed(SEED)"
      ],
      "metadata": {
        "id": "ZGHtUz5E8Fgp"
      },
      "execution_count": 210,
      "outputs": []
    },
    {
      "cell_type": "code",
      "source": [
        "# creating the model\n",
        "model = LogisticRegression(random_state=SEED)\n",
        "model.fit(X_train, y_train)\n",
        "\n",
        "# score\n",
        "LogisticScore = model.score(X_test,y_test)\n",
        "\n",
        "print('The LogisticRegression without normalization had a score of {}%'.format((LogisticScore*100).round(2)))"
      ],
      "metadata": {
        "colab": {
          "base_uri": "https://localhost:8080/"
        },
        "id": "gySlnXkDzwX3",
        "outputId": "25234a30-fe87-44d5-c242-a613b4f8a4b9"
      },
      "execution_count": 200,
      "outputs": [
        {
          "output_type": "stream",
          "name": "stdout",
          "text": [
            "The LogisticRegression without normalization had a score of 77.1%\n"
          ]
        },
        {
          "output_type": "stream",
          "name": "stderr",
          "text": [
            "/usr/local/lib/python3.7/dist-packages/sklearn/linear_model/_logistic.py:818: ConvergenceWarning: lbfgs failed to converge (status=1):\n",
            "STOP: TOTAL NO. of ITERATIONS REACHED LIMIT.\n",
            "\n",
            "Increase the number of iterations (max_iter) or scale the data as shown in:\n",
            "    https://scikit-learn.org/stable/modules/preprocessing.html\n",
            "Please also refer to the documentation for alternative solver options:\n",
            "    https://scikit-learn.org/stable/modules/linear_model.html#logistic-regression\n",
            "  extra_warning_msg=_LOGISTIC_SOLVER_CONVERGENCE_MSG,\n"
          ]
        }
      ]
    },
    {
      "cell_type": "code",
      "source": [
        "# define min max scaler\n",
        "scaler = MinMaxScaler()\n",
        "\n",
        "# transform data\n",
        "scaled = scaler.fit_transform(u)\n",
        "\n",
        "# splitting\n",
        "X_train, X_test, y_train, y_test = train_test_split(scaled,t,train_size=0.3)\n",
        "\n",
        "SEED = 10\n",
        "np.random.seed(SEED)\n",
        "\n",
        "# creating the model\n",
        "model = LogisticRegression(random_state=SEED)\n",
        "model.fit(X_train, y_train)\n",
        "\n",
        "LogisticScore = model.score(X_test,y_test)\n",
        "\n",
        "print('The LogisticRegression normalized had a score of {}%'.format((LogisticScore*100).round(2)))"
      ],
      "metadata": {
        "colab": {
          "base_uri": "https://localhost:8080/"
        },
        "id": "OXINmR9ryADd",
        "outputId": "5d98d31d-bf10-4e63-9055-1631d582115d"
      },
      "execution_count": 246,
      "outputs": [
        {
          "output_type": "stream",
          "name": "stdout",
          "text": [
            "The LogisticRegression normalized had a score of 77.12%\n"
          ]
        }
      ]
    },
    {
      "cell_type": "code",
      "source": [
        "cv = KFold(n_splits = 10, shuffle = True)\n",
        "results_kf = cross_validate(model, scaled, t, cv = cv, return_train_score=False)\n",
        "results_cross = cross_validate(model, scaled, t, cv = 3, return_train_score=False)\n",
        "\n",
        "print('KFold:')\n",
        "imprime_resultados(results_cross)\n",
        "print('-----------')\n",
        "print('Cross validation:')\n",
        "imprime_resultados(results_kf)"
      ],
      "metadata": {
        "colab": {
          "base_uri": "https://localhost:8080/"
        },
        "id": "JQTTovME74iQ",
        "outputId": "f69e6571-c73b-432f-f36d-d037fb2d8841"
      },
      "execution_count": 208,
      "outputs": [
        {
          "output_type": "stream",
          "name": "stdout",
          "text": [
            "KFold:\n",
            "Average accuracy: 77.53\n",
            "Accuracy interval: [77.34, 77.71]\n",
            "-----------\n",
            "Cross validation:\n",
            "Average accuracy: 77.61\n",
            "Accuracy interval: [75.89, 79.34]\n"
          ]
        }
      ]
    },
    {
      "cell_type": "code",
      "source": [
        "y_pred_proba = model.predict_proba(X_test)[::,1]\n",
        "auc = metrics.roc_auc_score(y_test, y_pred_proba)\n",
        "\n",
        "false_positive_rate, true_positive_rate, thresolds = metrics.roc_curve(y_test, y_pred_proba)\n",
        "\n",
        "plt.figure(figsize=(10, 6), dpi=100)\n",
        "plt.axis('scaled')\n",
        "plt.xlim([0, 1])\n",
        "plt.ylim([0, 1])\n",
        "plt.title(\"AUC & ROC Curve\")\n",
        "plt.plot(false_positive_rate, true_positive_rate, 'g')\n",
        "plt.fill_between(false_positive_rate, true_positive_rate, facecolor='lightgreen', alpha=0.7)\n",
        "plt.text(0.95, 0.05, 'AUC = %0.4f' % auc, ha='right', fontsize=12, weight='bold', color='blue')\n",
        "plt.xlabel(\"False Positive Rate\")\n",
        "plt.ylabel(\"True Positive Rate\")\n",
        "plt.show()"
      ],
      "metadata": {
        "colab": {
          "base_uri": "https://localhost:8080/",
          "height": 554
        },
        "id": "6FtRYJPNHxiz",
        "outputId": "3dff7eb4-332c-4d73-d61f-0df193484dc7"
      },
      "execution_count": 247,
      "outputs": [
        {
          "output_type": "display_data",
          "data": {
            "image/png": "[encoded data removed]",
            "text/plain": [
              "<Figure size 1000x600 with 1 Axes>"
            ]
          },
          "metadata": {
            "needs_background": "light"
          }
        }
      ]
    },
    {
      "cell_type": "markdown",
      "source": [
        "#Decision Tree"
      ],
      "metadata": {
        "id": "lp8hcxIXPKBW"
      }
    },
    {
      "cell_type": "code",
      "source": [
        "# model\n",
        "model = DecisionTreeClassifier(random_state=SEED, max_depth=20)\n",
        "model.fit(X_train, y_train)\n",
        "\n",
        "DecisionTreeScore = model.score(X_test, y_test)\n",
        "\n",
        "print('The DecisionTree without normalization had a score of {}%'.format((DecisionTreeScore*100).round(2)))"
      ],
      "metadata": {
        "id": "053heZJIPLeq",
        "colab": {
          "base_uri": "https://localhost:8080/"
        },
        "outputId": "1a561f27-d78e-46a8-fcb3-1bda42f88652"
      },
      "execution_count": 250,
      "outputs": [
        {
          "output_type": "stream",
          "name": "stdout",
          "text": [
            "The DecisionTree without normalization had a score of 90.91%\n"
          ]
        }
      ]
    },
    {
      "cell_type": "code",
      "source": [
        "cv = KFold(n_splits = 10, shuffle = True)\n",
        "results_kf = cross_validate(model, u, t, cv = cv, return_train_score=False)\n",
        "results_cross = cross_validate(model, u, t, cv = 3, return_train_score=False)\n",
        "\n",
        "print('KFold:')\n",
        "imprime_resultados(results_cross)\n",
        "print('-----------')\n",
        "print('Cross validation:')\n",
        "imprime_resultados(results_kf)"
      ],
      "metadata": {
        "colab": {
          "base_uri": "https://localhost:8080/"
        },
        "id": "Bw3xPgsi8V9R",
        "outputId": "9441a946-74d3-4f21-c9c5-ef8375fb7652"
      },
      "execution_count": 251,
      "outputs": [
        {
          "output_type": "stream",
          "name": "stdout",
          "text": [
            "KFold:\n",
            "Average accuracy: 91.98\n",
            "Accuracy interval: [90.34, 93.62]\n",
            "-----------\n",
            "Cross validation:\n",
            "Average accuracy: 92.65\n",
            "Accuracy interval: [91.20, 94.11]\n"
          ]
        }
      ]
    },
    {
      "cell_type": "code",
      "source": [
        "# spliting\n",
        "X_train, X_test, y_train, y_test = train_test_split(scaled,t,test_size=0.3)\n",
        "\n",
        "\n",
        "# model\n",
        "model = DecisionTreeClassifier(random_state=SEED, max_depth=20)\n",
        "model.fit(X_train, y_train)\n",
        "\n",
        "DecisionTreeScore = model.score(X_test, y_test)\n",
        "\n",
        "print('The DecisionTree normalized had a score of {}%'.format((DecisionTreeScore*100).round(2)))"
      ],
      "metadata": {
        "colab": {
          "base_uri": "https://localhost:8080/"
        },
        "id": "fhCjBx_iyXcU",
        "outputId": "dad46149-8cdd-463e-ce16-8a21fe0b5bd1"
      },
      "execution_count": 273,
      "outputs": [
        {
          "output_type": "stream",
          "name": "stdout",
          "text": [
            "The DecisionTree normalized had a score of 92.53%\n"
          ]
        }
      ]
    },
    {
      "cell_type": "code",
      "source": [
        "cv = KFold(n_splits = 10, shuffle = True)\n",
        "results_kf = cross_validate(model, scaled, t, cv = cv, return_train_score=False)\n",
        "results_cross = cross_validate(model, scaled, t, cv = 3, return_train_score=False)\n",
        "\n",
        "print('KFold:')\n",
        "imprime_resultados(results_cross)\n",
        "print('-----------')\n",
        "print('Cross validation:')\n",
        "imprime_resultados(results_kf)"
      ],
      "metadata": {
        "colab": {
          "base_uri": "https://localhost:8080/"
        },
        "id": "FIBGrxLp6eRI",
        "outputId": "04e79181-1382-400d-aedc-5c839407a983"
      },
      "execution_count": 253,
      "outputs": [
        {
          "output_type": "stream",
          "name": "stdout",
          "text": [
            "KFold:\n",
            "Average accuracy: 91.97\n",
            "Accuracy interval: [90.38, 93.55]\n",
            "-----------\n",
            "Cross validation:\n",
            "Average accuracy: 92.84\n",
            "Accuracy interval: [91.65, 94.03]\n"
          ]
        }
      ]
    },
    {
      "cell_type": "code",
      "source": [
        "y_pred_proba = model.predict_proba(X_test)[::,1]\n",
        "auc = metrics.roc_auc_score(y_test, y_pred_proba)\n",
        "\n",
        "false_positive_rate, true_positive_rate, thresolds = metrics.roc_curve(y_test, y_pred_proba)\n",
        "\n",
        "plt.figure(figsize=(10, 6), dpi=100)\n",
        "plt.axis('scaled')\n",
        "plt.xlim([0, 1])\n",
        "plt.ylim([0, 1])\n",
        "plt.title(\"AUC & ROC Curve\")\n",
        "plt.plot(false_positive_rate, true_positive_rate, 'g')\n",
        "plt.fill_between(false_positive_rate, true_positive_rate, facecolor='lightgreen', alpha=0.7)\n",
        "plt.text(0.95, 0.05, 'AUC = %0.4f' % auc, ha='right', fontsize=12, weight='bold', color='blue')\n",
        "plt.xlabel(\"False Positive Rate\")\n",
        "plt.ylabel(\"True Positive Rate\")\n",
        "plt.show()"
      ],
      "metadata": {
        "colab": {
          "base_uri": "https://localhost:8080/",
          "height": 554
        },
        "id": "7zAaTgvDIchE",
        "outputId": "7e550e53-effa-4699-e74f-865d2175e0ed"
      },
      "execution_count": 254,
      "outputs": [
        {
          "output_type": "display_data",
          "data": {
            "image/png": "[encoded data removed]",
            "text/plain": [
              "<Figure size 1000x600 with 1 Axes>"
            ]
          },
          "metadata": {
            "needs_background": "light"
          }
        }
      ]
    },
    {
      "cell_type": "markdown",
      "source": [
        "#RandomForest"
      ],
      "metadata": {
        "id": "2LwwpvB1aT02"
      }
    },
    {
      "cell_type": "code",
      "source": [
        "# model\n",
        "model = RandomForestRegressor(random_state=SEED, n_jobs=-1, n_estimators=300)\n",
        "model.fit(X_train, y_train)\n",
        "\n",
        "RandomForestScore = model.score(X_test, y_test)\n",
        "\n",
        "print('The RandomForestRegressor without normalization had a score of {}%'.format((RandomForestScore*100).round(2)))"
      ],
      "metadata": {
        "colab": {
          "base_uri": "https://localhost:8080/"
        },
        "id": "Ztn2SFdHaRmV",
        "outputId": "c52092f4-01fd-48c8-9ad3-5e33679a33e3"
      },
      "execution_count": 255,
      "outputs": [
        {
          "output_type": "stream",
          "name": "stdout",
          "text": [
            "The RandomForestRegressor without normalization had a score of 74.22%\n"
          ]
        }
      ]
    },
    {
      "cell_type": "code",
      "source": [
        "cv = KFold(n_splits = 10, shuffle = True)\n",
        "results_kf = cross_validate(model, u, t, cv = cv, return_train_score=False)\n",
        "results_cross = cross_validate(model, u, t, cv = 3, return_train_score=False)\n",
        "\n",
        "print('KFold:')\n",
        "imprime_resultados(results_cross)\n",
        "print('-----------')\n",
        "print('Cross validation:')\n",
        "imprime_resultados(results_kf)"
      ],
      "metadata": {
        "colab": {
          "base_uri": "https://localhost:8080/"
        },
        "id": "I54WHnLJ8zAr",
        "outputId": "ecccdf20-cf59-497c-a9dc-88504ec78c32"
      },
      "execution_count": 226,
      "outputs": [
        {
          "output_type": "stream",
          "name": "stdout",
          "text": [
            "KFold:\n",
            "Average accuracy: 51.02\n",
            "Accuracy interval: [-22.29, 124.34]\n",
            "-----------\n",
            "Cross validation:\n",
            "Average accuracy: 77.64\n",
            "Accuracy interval: [74.31, 80.97]\n"
          ]
        }
      ]
    },
    {
      "cell_type": "code",
      "source": [
        "# spliting\n",
        "X_train, X_test, y_train, y_test = train_test_split(scaled2,t,test_size=0.3, random_state=SEED)\n",
        "\n",
        "# model\n",
        "model = RandomForestRegressor(random_state=SEED, n_jobs=-1, n_estimators=300)\n",
        "model.fit(X_train, y_train)\n",
        "\n",
        "RandomForestScore = model.score(X_test, y_test)\n",
        "\n",
        "print('The RandomForestRegressor had a score of {}%'.format((RandomForestScore*100).round(2)))"
      ],
      "metadata": {
        "colab": {
          "base_uri": "https://localhost:8080/"
        },
        "id": "-fuCSq3eycTM",
        "outputId": "c0db8858-350a-4f3c-a4be-6f49176f36ea"
      },
      "execution_count": 256,
      "outputs": [
        {
          "output_type": "stream",
          "name": "stdout",
          "text": [
            "The RandomForestRegressor had a score of 73.17%\n"
          ]
        }
      ]
    },
    {
      "cell_type": "code",
      "source": [
        "cv = KFold(n_splits = 10, shuffle = True)\n",
        "results_kf = cross_validate(model, scaled, t, cv = cv, return_train_score=False)\n",
        "results_cross = cross_validate(model, scaled, t, cv = 3, return_train_score=False)\n",
        "\n",
        "print('KFold:')\n",
        "imprime_resultados(results_cross)\n",
        "print('-----------')\n",
        "print('Cross validation:')\n",
        "imprime_resultados(results_kf)"
      ],
      "metadata": {
        "colab": {
          "base_uri": "https://localhost:8080/"
        },
        "id": "sEV48QPl5xVm",
        "outputId": "d74037a7-1fe2-40c6-8a10-23de66a082fb"
      },
      "execution_count": 224,
      "outputs": [
        {
          "output_type": "stream",
          "name": "stdout",
          "text": [
            "KFold:\n",
            "Average accuracy: 51.02\n",
            "Accuracy interval: [-22.28, 124.31]\n",
            "-----------\n",
            "Cross validation:\n",
            "Average accuracy: 77.78\n",
            "Accuracy interval: [72.16, 83.40]\n"
          ]
        }
      ]
    },
    {
      "cell_type": "markdown",
      "source": [
        "#LGBMClassifier"
      ],
      "metadata": {
        "id": "hXm4wNqIwev7"
      }
    },
    {
      "cell_type": "code",
      "source": [
        "mdl = LGBMClassifier (random_state=SEED)\n",
        "mdl.fit(X_train, y_train)\n",
        "\n",
        "LGBMClassifierScore = mdl.score(X_test, y_test)\n",
        "print('The LGBMClassifer had a score of {}%'.format((LGBMClassifierScore*100).round(2)))"
      ],
      "metadata": {
        "id": "_stGc9WW1VLj",
        "colab": {
          "base_uri": "https://localhost:8080/"
        },
        "outputId": "4881c53d-8b2d-497d-e314-33e749c887fe"
      },
      "execution_count": 258,
      "outputs": [
        {
          "output_type": "stream",
          "name": "stdout",
          "text": [
            "The LGBMClassifer had a score of 92.56%\n"
          ]
        }
      ]
    },
    {
      "cell_type": "code",
      "source": [
        "p = mdl.predict_proba(X_test)[:, 1]\n",
        "\n",
        "roc_auc_score(y_test, p)"
      ],
      "metadata": {
        "colab": {
          "base_uri": "https://localhost:8080/"
        },
        "id": "SUoTN5jl2RtB",
        "outputId": "fcd44c4a-b11c-47a4-8a94-b3eda1d7bf0c"
      },
      "execution_count": 259,
      "outputs": [
        {
          "output_type": "execute_result",
          "data": {
            "text/plain": [
              "0.9621946422122478"
            ]
          },
          "metadata": {},
          "execution_count": 259
        }
      ]
    },
    {
      "cell_type": "code",
      "source": [
        "y_pred_proba = mdl.predict_proba(X_test)[::,1]\n",
        "auc = metrics.roc_auc_score(y_test, y_pred_proba)\n",
        "\n",
        "false_positive_rate, true_positive_rate, thresolds = metrics.roc_curve(y_test, y_pred_proba)\n",
        "\n",
        "plt.figure(figsize=(10, 6), dpi=100)\n",
        "plt.axis('scaled')\n",
        "plt.xlim([0, 1])\n",
        "plt.ylim([0, 1])\n",
        "plt.title(\"AUC & ROC Curve\")\n",
        "plt.plot(false_positive_rate, true_positive_rate, 'g')\n",
        "plt.fill_between(false_positive_rate, true_positive_rate, facecolor='lightgreen', alpha=0.7)\n",
        "plt.text(0.95, 0.05, 'AUC = %0.4f' % auc, ha='right', fontsize=12, weight='bold', color='blue')\n",
        "plt.xlabel(\"False Positive Rate\")\n",
        "plt.ylabel(\"True Positive Rate\")\n",
        "plt.show()"
      ],
      "metadata": {
        "colab": {
          "base_uri": "https://localhost:8080/",
          "height": 554
        },
        "id": "uAj2tHLWIw2L",
        "outputId": "01d802c0-add3-403e-c41e-bda5a2382bc6"
      },
      "execution_count": 260,
      "outputs": [
        {
          "output_type": "display_data",
          "data": {
            "image/png": "[encoded data removed]",
            "text/plain": [
              "<Figure size 1000x600 with 1 Axes>"
            ]
          },
          "metadata": {
            "needs_background": "light"
          }
        }
      ]
    },
    {
      "cell_type": "code",
      "source": [
        "!pip install scikit-optimize"
      ],
      "metadata": {
        "colab": {
          "base_uri": "https://localhost:8080/"
        },
        "id": "4Nq3Vijm4_yD",
        "outputId": "50fb5d0f-863d-4d19-ac94-4230f15c7576"
      },
      "execution_count": 98,
      "outputs": [
        {
          "output_type": "stream",
          "name": "stdout",
          "text": [
            "Collecting scikit-optimize\n",
            "  Downloading scikit_optimize-0.9.0-py2.py3-none-any.whl (100 kB)\n",
            "\u001b[?25l\r\u001b[K     |███▎                            | 10 kB 20.4 MB/s eta 0:00:01\r\u001b[K     |██████▌                         | 20 kB 13.4 MB/s eta 0:00:01\r\u001b[K     |█████████▉                      | 30 kB 10.3 MB/s eta 0:00:01\r\u001b[K     |█████████████                   | 40 kB 9.1 MB/s eta 0:00:01\r\u001b[K     |████████████████▍               | 51 kB 4.5 MB/s eta 0:00:01\r\u001b[K     |███████████████████▋            | 61 kB 5.3 MB/s eta 0:00:01\r\u001b[K     |██████████████████████▉         | 71 kB 5.8 MB/s eta 0:00:01\r\u001b[K     |██████████████████████████▏     | 81 kB 5.9 MB/s eta 0:00:01\r\u001b[K     |█████████████████████████████▍  | 92 kB 6.6 MB/s eta 0:00:01\r\u001b[K     |████████████████████████████████| 100 kB 3.4 MB/s \n",
            "\u001b[?25hCollecting pyaml>=16.9\n",
            "  Downloading pyaml-21.10.1-py2.py3-none-any.whl (24 kB)\n",
            "Requirement already satisfied: numpy>=1.13.3 in /usr/local/lib/python3.7/dist-packages (from scikit-optimize) (1.21.5)\n",
            "Requirement already satisfied: joblib>=0.11 in /usr/local/lib/python3.7/dist-packages (from scikit-optimize) (1.1.0)\n",
            "Requirement already satisfied: scikit-learn>=0.20.0 in /usr/local/lib/python3.7/dist-packages (from scikit-optimize) (1.0.2)\n",
            "Requirement already satisfied: scipy>=0.19.1 in /usr/local/lib/python3.7/dist-packages (from scikit-optimize) (1.4.1)\n",
            "Requirement already satisfied: PyYAML in /usr/local/lib/python3.7/dist-packages (from pyaml>=16.9->scikit-optimize) (3.13)\n",
            "Requirement already satisfied: threadpoolctl>=2.0.0 in /usr/local/lib/python3.7/dist-packages (from scikit-learn>=0.20.0->scikit-optimize) (3.1.0)\n",
            "Installing collected packages: pyaml, scikit-optimize\n",
            "Successfully installed pyaml-21.10.1 scikit-optimize-0.9.0\n"
          ]
        }
      ]
    },
    {
      "cell_type": "code",
      "source": [
        "from skopt import dummy_minimize"
      ],
      "metadata": {
        "id": "z2wTzq9l5mTJ"
      },
      "execution_count": 112,
      "outputs": []
    },
    {
      "cell_type": "code",
      "source": [
        "def treinar_model(params):\n",
        "  learning_rate = params[0] #aprendizagem por árvore\n",
        "  num_leaves = params[1] #número maxímo de folhas\n",
        "  min_child_samples = params[2] #exemplos por nó\n",
        "  subsample = params[3] #amostra por árvore\n",
        "  colsample_bytree = params[4] #limite de variável por árvore\n",
        "\n",
        "  print(params)\n",
        "\n",
        "  mdl = LGBMClassifier(learning_rate=learning_rate, num_leaves=num_leaves, \n",
        "                       min_child_samples=min_child_samples, subsample=subsample, \n",
        "                       colsample_bytree=colsample_bytree, random_state=0, subsample_freq=1,\n",
        "                       n_estimators=100)\n",
        "  \n",
        "  mdl.fit(X_train, y_train)\n",
        "\n",
        "  p = mdl.predict_proba(X_test)[:, 1]\n",
        "\n",
        "  return -roc_auc_score(y_test, p)\n",
        "\n",
        "space = [(1e-3, 1e-1, 'log-uniform'),\n",
        "         (2, 128),\n",
        "         (1, 100),\n",
        "         (0.05, 1.0),\n",
        "         (0.1, 1.0)]\n",
        "\n",
        "resultado = dummy_minimize(treinar_model, space, random_state=1, verbose=1, n_calls=30)"
      ],
      "metadata": {
        "colab": {
          "base_uri": "https://localhost:8080/"
        },
        "id": "dfUA6mQL2kvU",
        "outputId": "db165f19-bd69-4192-e54d-ff84d42cf2e8"
      },
      "execution_count": 261,
      "outputs": [
        {
          "output_type": "stream",
          "name": "stdout",
          "text": [
            "Iteration No: 1 started. Evaluating function at random point.\n",
            "[0.09871192514273254, 74, 10, 0.3372159440002478, 0.23208030173540176]\n",
            "Iteration No: 1 ended. Evaluation done at random point.\n",
            "Time taken: 4.2374\n",
            "Function value obtained: -0.9523\n",
            "Current minimum: -0.9523\n",
            "Iteration No: 2 started. Evaluating function at random point.\n",
            "[0.001529949829431263, 78, 72, 0.3782826906908954, 0.457090726807603]\n",
            "Iteration No: 2 ended. Evaluation done at random point.\n",
            "Time taken: 0.2177\n",
            "Function value obtained: -0.9342\n",
            "Current minimum: -0.9523\n",
            "Iteration No: 3 started. Evaluating function at random point.\n",
            "[0.01195730942971637, 128, 19, 0.5483207515942279, 0.49910760440160107]\n",
            "Iteration No: 3 ended. Evaluation done at random point.\n",
            "Time taken: 0.3384\n",
            "Function value obtained: -0.9451\n",
            "Current minimum: -0.9523\n",
            "Iteration No: 4 started. Evaluating function at random point.\n",
            "[0.0028784217488024557, 16, 51, 0.9182639233502714, 0.5114843271882895]\n",
            "Iteration No: 4 ended. Evaluation done at random point.\n",
            "Time taken: 0.1658\n",
            "Function value obtained: -0.9377\n",
            "Current minimum: -0.9523\n",
            "Iteration No: 5 started. Evaluating function at random point.\n",
            "[0.007267702383040958, 96, 97, 0.7894697745197069, 0.7443734643715278]\n",
            "Iteration No: 5 ended. Evaluation done at random point.\n",
            "Time taken: 0.2922\n",
            "Function value obtained: -0.9455\n",
            "Current minimum: -0.9523\n",
            "Iteration No: 6 started. Evaluating function at random point.\n",
            "[0.04031948793713315, 63, 23, 0.5422449214947946, 0.8785182267810852]\n",
            "Iteration No: 6 ended. Evaluation done at random point.\n",
            "Time taken: 0.3020\n",
            "Function value obtained: -0.9591\n",
            "Current minimum: -0.9591\n",
            "Iteration No: 7 started. Evaluating function at random point.\n",
            "[0.045529597892867466, 90, 14, 0.30939747550591, 0.15331888117140713]\n",
            "Iteration No: 7 ended. Evaluation done at random point.\n",
            "Time taken: 0.1753\n",
            "Function value obtained: -0.9203\n",
            "Current minimum: -0.9591\n",
            "Iteration No: 8 started. Evaluating function at random point.\n",
            "[0.021930881089764206, 73, 4, 0.6880713925510277, 0.47060909107214777]\n",
            "Iteration No: 8 ended. Evaluation done at random point.\n",
            "Time taken: 0.2470\n",
            "Function value obtained: -0.9495\n",
            "Current minimum: -0.9591\n",
            "Iteration No: 9 started. Evaluating function at random point.\n",
            "[0.002483715204721354, 26, 44, 0.7021758812975045, 0.8511631047076357]\n",
            "Iteration No: 9 ended. Evaluation done at random point.\n",
            "Time taken: 0.2162\n",
            "Function value obtained: -0.9449\n",
            "Current minimum: -0.9591\n",
            "Iteration No: 10 started. Evaluating function at random point.\n",
            "[0.0010878688833867167, 43, 83, 0.98941803446117, 0.7733490889418555]\n",
            "Iteration No: 10 ended. Evaluation done at random point.\n",
            "Time taken: 0.2657\n",
            "Function value obtained: -0.9442\n",
            "Current minimum: -0.9591\n",
            "Iteration No: 11 started. Evaluating function at random point.\n",
            "[0.003638211850540798, 89, 8, 0.14806470624875995, 0.5031041735583147]\n",
            "Iteration No: 11 ended. Evaluation done at random point.\n",
            "Time taken: 0.2987\n",
            "Function value obtained: -0.9421\n",
            "Current minimum: -0.9591\n",
            "Iteration No: 12 started. Evaluating function at random point.\n",
            "[0.06564339077069616, 105, 24, 0.163515944581681, 0.572319439183401]\n",
            "Iteration No: 12 ended. Evaluation done at random point.\n",
            "Time taken: 0.2491\n",
            "Function value obtained: -0.9524\n",
            "Current minimum: -0.9591\n",
            "Iteration No: 13 started. Evaluating function at random point.\n",
            "[0.0014697585967435188, 40, 9, 0.9149259627034465, 0.36903710098874454]\n",
            "Iteration No: 13 ended. Evaluation done at random point.\n",
            "Time taken: 0.1563\n",
            "Function value obtained: -0.9472\n",
            "Current minimum: -0.9591\n",
            "Iteration No: 14 started. Evaluating function at random point.\n",
            "[0.014749532034944692, 89, 26, 0.633241401906253, 0.9608820910034701]\n",
            "Iteration No: 14 ended. Evaluation done at random point.\n",
            "Time taken: 0.3667\n",
            "Function value obtained: -0.9563\n",
            "Current minimum: -0.9591\n",
            "Iteration No: 15 started. Evaluating function at random point.\n",
            "[0.0033262735259356143, 34, 89, 0.5567760660749166, 0.9549443246793757]\n",
            "Iteration No: 15 ended. Evaluation done at random point.\n",
            "Time taken: 0.3060\n",
            "Function value obtained: -0.9473\n",
            "Current minimum: -0.9591\n",
            "Iteration No: 16 started. Evaluating function at random point.\n",
            "[0.009685436253688836, 2, 78, 0.09307844214592059, 0.225969507272543]\n",
            "Iteration No: 16 ended. Evaluation done at random point.\n",
            "Time taken: 0.0782\n",
            "Function value obtained: -0.8278\n",
            "Current minimum: -0.9591\n",
            "Iteration No: 17 started. Evaluating function at random point.\n",
            "[0.03844210597293627, 93, 22, 0.8889692020284521, 0.5867093706408683]\n",
            "Iteration No: 17 ended. Evaluation done at random point.\n",
            "Time taken: 0.3218\n",
            "Function value obtained: -0.9573\n",
            "Current minimum: -0.9591\n",
            "Iteration No: 18 started. Evaluating function at random point.\n",
            "[0.00786973960931508, 45, 21, 0.40870512409353993, 0.5845822248519866]\n",
            "Iteration No: 18 ended. Evaluation done at random point.\n",
            "Time taken: 0.2460\n",
            "Function value obtained: -0.9439\n",
            "Current minimum: -0.9591\n",
            "Iteration No: 19 started. Evaluating function at random point.\n",
            "[0.020164978538544195, 59, 83, 0.6559446598566927, 0.2136833965403995]\n",
            "Iteration No: 19 ended. Evaluation done at random point.\n",
            "Time taken: 0.1351\n",
            "Function value obtained: -0.9462\n",
            "Current minimum: -0.9591\n",
            "Iteration No: 20 started. Evaluating function at random point.\n",
            "[0.024010940718920456, 9, 25, 0.3814534248789504, 0.3429351025885235]\n",
            "Iteration No: 20 ended. Evaluation done at random point.\n",
            "Time taken: 0.1716\n",
            "Function value obtained: -0.9474\n",
            "Current minimum: -0.9591\n",
            "Iteration No: 21 started. Evaluating function at random point.\n",
            "[0.061911658253265375, 96, 61, 0.9665980447909663, 0.6970973480366033]\n",
            "Iteration No: 21 ended. Evaluation done at random point.\n",
            "Time taken: 0.3670\n",
            "Function value obtained: -0.9606\n",
            "Current minimum: -0.9606\n",
            "Iteration No: 22 started. Evaluating function at random point.\n",
            "[0.01751424579956557, 110, 93, 0.9520147957717178, 0.5049209201319466]\n",
            "Iteration No: 22 ended. Evaluation done at random point.\n",
            "Time taken: 0.2755\n",
            "Function value obtained: -0.9461\n",
            "Current minimum: -0.9606\n",
            "Iteration No: 23 started. Evaluating function at random point.\n",
            "[0.014347598955915168, 84, 87, 0.27517563123087635, 0.9130415685060285]\n",
            "Iteration No: 23 ended. Evaluation done at random point.\n",
            "Time taken: 0.2048\n",
            "Function value obtained: -0.9435\n",
            "Current minimum: -0.9606\n",
            "Iteration No: 24 started. Evaluating function at random point.\n",
            "[0.014039737029591284, 17, 6, 0.6362876679396877, 0.3939804115948866]\n",
            "Iteration No: 24 ended. Evaluation done at random point.\n",
            "Time taken: 0.1642\n",
            "Function value obtained: -0.9451\n",
            "Current minimum: -0.9606\n",
            "Iteration No: 25 started. Evaluating function at random point.\n",
            "[0.011327034010293172, 103, 14, 0.3894062720023748, 0.9176816358278194]\n",
            "Iteration No: 25 ended. Evaluation done at random point.\n",
            "Time taken: 0.4063\n",
            "Function value obtained: -0.9562\n",
            "Current minimum: -0.9606\n",
            "Iteration No: 26 started. Evaluating function at random point.\n",
            "[0.017649005221070314, 98, 56, 0.9329653720565734, 0.7218072257652316]\n",
            "Iteration No: 26 ended. Evaluation done at random point.\n",
            "Time taken: 0.3591\n",
            "Function value obtained: -0.9521\n",
            "Current minimum: -0.9606\n",
            "Iteration No: 27 started. Evaluating function at random point.\n",
            "[0.09877469581360704, 123, 84, 0.18027896214743389, 0.9393359167334473]\n",
            "Iteration No: 27 ended. Evaluation done at random point.\n",
            "Time taken: 0.1951\n",
            "Function value obtained: -0.9465\n",
            "Current minimum: -0.9606\n",
            "Iteration No: 28 started. Evaluating function at random point.\n",
            "[0.024753483395116363, 45, 7, 0.7676898999723432, 0.7784885696151218]\n",
            "Iteration No: 28 ended. Evaluation done at random point.\n",
            "Time taken: 0.2540\n",
            "Function value obtained: -0.9554\n",
            "Current minimum: -0.9606\n",
            "Iteration No: 29 started. Evaluating function at random point.\n",
            "[0.07015345605895347, 11, 67, 0.16805741387355647, 0.11789212045581604]\n",
            "Iteration No: 29 ended. Evaluation done at random point.\n",
            "Time taken: 0.0873\n",
            "Function value obtained: -0.9118\n",
            "Current minimum: -0.9606\n",
            "Iteration No: 30 started. Evaluating function at random point.\n",
            "[0.0011282932078263237, 23, 41, 0.28390051422289364, 0.8740251538145993]\n",
            "Iteration No: 30 ended. Evaluation done at random point.\n",
            "Time taken: 0.1963\n",
            "Function value obtained: -0.9440\n",
            "Current minimum: -0.9606\n"
          ]
        }
      ]
    },
    {
      "cell_type": "code",
      "source": [
        "resultado.x"
      ],
      "metadata": {
        "colab": {
          "base_uri": "https://localhost:8080/"
        },
        "id": "d4S03umv6LdW",
        "outputId": "16647c6e-e12c-48ff-c0c2-5b4d46c7e1e1"
      },
      "execution_count": 263,
      "outputs": [
        {
          "output_type": "execute_result",
          "data": {
            "text/plain": [
              "[0.061911658253265375, 96, 61, 0.9665980447909663, 0.6970973480366033]"
            ]
          },
          "metadata": {},
          "execution_count": 263
        }
      ]
    },
    {
      "cell_type": "code",
      "source": [
        "  mdl = LGBMClassifier(learning_rate=0.0619, num_leaves=96, \n",
        "                       min_child_samples=61, subsample=0.966, \n",
        "                       colsample_bytree=0.697, random_state=0, subsample_freq=1,\n",
        "                       n_estimators=100)\n",
        "  \n",
        "  mdl.fit(X_train, y_train)\n",
        "\n",
        "  p = mdl.predict_proba(X_test)[:, 1]"
      ],
      "metadata": {
        "id": "8DE4HSfcJRfb"
      },
      "execution_count": 265,
      "outputs": []
    },
    {
      "cell_type": "code",
      "source": [
        "y_pred_proba = mdl.predict_proba(X_test)[::,1]\n",
        "auc = metrics.roc_auc_score(y_test, y_pred_proba)\n",
        "\n",
        "false_positive_rate, true_positive_rate, thresolds = metrics.roc_curve(y_test, y_pred_proba)\n",
        "\n",
        "plt.figure(figsize=(10, 6), dpi=100)\n",
        "plt.axis('scaled')\n",
        "plt.xlim([0, 1])\n",
        "plt.ylim([0, 1])\n",
        "plt.title(\"AUC & ROC Curve\")\n",
        "plt.plot(false_positive_rate, true_positive_rate, 'g')\n",
        "plt.fill_between(false_positive_rate, true_positive_rate, facecolor='lightgreen', alpha=0.7)\n",
        "plt.text(0.95, 0.05, 'AUC = %0.4f' % auc, ha='right', fontsize=12, weight='bold', color='blue')\n",
        "plt.xlabel(\"False Positive Rate\")\n",
        "plt.ylabel(\"True Positive Rate\")\n",
        "plt.show()"
      ],
      "metadata": {
        "colab": {
          "base_uri": "https://localhost:8080/",
          "height": 554
        },
        "id": "OSswWn_PJeFP",
        "outputId": "01f6f09a-b551-402d-c7e1-7d3057d73043"
      },
      "execution_count": 266,
      "outputs": [
        {
          "output_type": "display_data",
          "data": {
            "image/png": "[encoded data removed]",
            "text/plain": [
              "<Figure size 1000x600 with 1 Axes>"
            ]
          },
          "metadata": {
            "needs_background": "light"
          }
        }
      ]
    },
    {
      "cell_type": "markdown",
      "source": [
        "#Bayesian Optimization"
      ],
      "metadata": {
        "id": "7dNCl3Kl7ccb"
      }
    },
    {
      "cell_type": "code",
      "source": [
        "from skopt import gp_minimize"
      ],
      "metadata": {
        "id": "iG2_sq4b7eog"
      },
      "execution_count": 267,
      "outputs": []
    },
    {
      "cell_type": "code",
      "source": [
        "resultados_gp = gp_minimize(treinar_model, space, random_state=1, verbose=1, n_calls=30, n_random_starts=10)"
      ],
      "metadata": {
        "colab": {
          "base_uri": "https://localhost:8080/"
        },
        "id": "bVWqw51X75ie",
        "outputId": "92eec399-fd24-4be1-eb43-0671534dbcc2"
      },
      "execution_count": 268,
      "outputs": [
        {
          "output_type": "stream",
          "name": "stdout",
          "text": [
            "Iteration No: 1 started. Evaluating function at random point.\n",
            "[0.09871192514273254, 120, 14, 0.9990884895579377, 0.3124800792567785]\n",
            "Iteration No: 1 ended. Evaluation done at random point.\n",
            "Time taken: 0.2331\n",
            "Function value obtained: -0.9395\n",
            "Current minimum: -0.9395\n",
            "Iteration No: 2 started. Evaluating function at random point.\n",
            "[0.006210998932353835, 51, 67, 0.9387621172657304, 0.8616798250174156]\n",
            "Iteration No: 2 ended. Evaluation done at random point.\n",
            "Time taken: 0.3036\n",
            "Function value obtained: -0.9487\n",
            "Current minimum: -0.9487\n",
            "Iteration No: 3 started. Evaluating function at random point.\n",
            "[0.004232013397179603, 68, 45, 0.2680983530433343, 0.5809725180523154]\n",
            "Iteration No: 3 ended. Evaluation done at random point.\n",
            "Time taken: 0.2429\n",
            "Function value obtained: -0.9390\n",
            "Current minimum: -0.9487\n",
            "Iteration No: 4 started. Evaluating function at random point.\n",
            "[0.0672858974212934, 60, 44, 0.9421713999524447, 0.8005503127028804]\n",
            "Iteration No: 4 ended. Evaluation done at random point.\n",
            "Time taken: 0.3392\n",
            "Function value obtained: -0.9615\n",
            "Current minimum: -0.9615\n",
            "Iteration No: 5 started. Evaluating function at random point.\n",
            "[0.027035912483147396, 103, 10, 0.5422449214947946, 0.8785182267810853]\n",
            "Iteration No: 5 ended. Evaluation done at random point.\n",
            "Time taken: 0.3796\n",
            "Function value obtained: -0.9613\n",
            "Current minimum: -0.9615\n",
            "Iteration No: 6 started. Evaluating function at random point.\n",
            "[0.045529597892867466, 107, 28, 0.1062810412364853, 0.7034752360620511]\n",
            "Iteration No: 6 ended. Evaluation done at random point.\n",
            "Time taken: 0.2034\n",
            "Function value obtained: -0.9463\n",
            "Current minimum: -0.9615\n",
            "Iteration No: 7 started. Evaluating function at random point.\n",
            "[0.01535080081765723, 87, 42, 0.23767335308554222, 0.3606666764912312]\n",
            "Iteration No: 7 ended. Evaluation done at random point.\n",
            "Time taken: 0.1689\n",
            "Function value obtained: -0.9473\n",
            "Current minimum: -0.9615\n",
            "Iteration No: 8 started. Evaluating function at random point.\n",
            "[0.0019241559628256106, 101, 42, 0.0824627456265471, 0.661626987829618]\n",
            "Iteration No: 8 ended. Evaluation done at random point.\n",
            "Time taken: 0.1624\n",
            "Function value obtained: -0.9279\n",
            "Current minimum: -0.9615\n",
            "Iteration No: 9 started. Evaluating function at random point.\n",
            "[0.02095421812724112, 40, 45, 0.2610183201586061, 0.16602775456833962]\n",
            "Iteration No: 9 ended. Evaluation done at random point.\n",
            "Time taken: 0.1380\n",
            "Function value obtained: -0.9145\n",
            "Current minimum: -0.9615\n",
            "Iteration No: 10 started. Evaluating function at random point.\n",
            "[0.008679147174590262, 14, 90, 0.163515944581681, 0.5723194391834011]\n",
            "Iteration No: 10 ended. Evaluation done at random point.\n",
            "Time taken: 0.7516\n",
            "Function value obtained: -0.9295\n",
            "Current minimum: -0.9615\n",
            "Iteration No: 11 started. Searching for the next optimal point.\n",
            "[0.1, 26, 1, 0.6245441326306393, 0.9730667337713222]\n",
            "Iteration No: 11 ended. Search finished for the next optimal point.\n",
            "Time taken: 0.8606\n",
            "Function value obtained: -0.9614\n",
            "Current minimum: -0.9615\n",
            "Iteration No: 12 started. Searching for the next optimal point.\n",
            "[0.1, 31, 1, 0.8708564451971753, 0.8656573956515589]\n",
            "Iteration No: 12 ended. Search finished for the next optimal point.\n",
            "Time taken: 0.6983\n",
            "Function value obtained: -0.9640\n",
            "Current minimum: -0.9640\n",
            "Iteration No: 13 started. Searching for the next optimal point.\n",
            "[0.1, 128, 100, 0.4635326841533016, 1.0]\n",
            "Iteration No: 13 ended. Search finished for the next optimal point.\n",
            "Time taken: 0.7708\n",
            "Function value obtained: -0.9578\n",
            "Current minimum: -0.9640\n",
            "Iteration No: 14 started. Searching for the next optimal point.\n",
            "[0.001, 13, 1, 0.1675071487432086, 1.0]\n",
            "Iteration No: 14 ended. Search finished for the next optimal point.\n",
            "Time taken: 0.5591\n",
            "Function value obtained: -0.9441\n",
            "Current minimum: -0.9640\n",
            "Iteration No: 15 started. Searching for the next optimal point.\n",
            "[0.001, 15, 85, 0.9948002594162462, 0.3965774012718969]\n",
            "Iteration No: 15 ended. Search finished for the next optimal point.\n",
            "Time taken: 0.6824\n",
            "Function value obtained: -0.9408\n",
            "Current minimum: -0.9640\n",
            "Iteration No: 16 started. Searching for the next optimal point.\n",
            "[0.1, 128, 1, 0.05, 0.8891888971539419]\n",
            "Iteration No: 16 ended. Search finished for the next optimal point.\n",
            "Time taken: 0.7824\n",
            "Function value obtained: -0.6523\n",
            "Current minimum: -0.9640\n",
            "Iteration No: 17 started. Searching for the next optimal point.\n",
            "[0.004240901199916986, 102, 21, 0.19943597595620421, 0.7305890359303988]\n",
            "Iteration No: 17 ended. Search finished for the next optimal point.\n",
            "Time taken: 0.9770\n",
            "Function value obtained: -0.9447\n",
            "Current minimum: -0.9640\n",
            "Iteration No: 18 started. Searching for the next optimal point.\n",
            "[0.04581551463768591, 37, 34, 0.9613649921707134, 0.19558975949731483]\n",
            "Iteration No: 18 ended. Search finished for the next optimal point.\n",
            "Time taken: 0.7513\n",
            "Function value obtained: -0.9480\n",
            "Current minimum: -0.9640\n",
            "Iteration No: 19 started. Searching for the next optimal point.\n",
            "[0.00116992781755384, 28, 29, 0.296188879934701, 0.7420865508385364]\n",
            "Iteration No: 19 ended. Search finished for the next optimal point.\n",
            "Time taken: 1.0494\n",
            "Function value obtained: -0.9420\n",
            "Current minimum: -0.9640\n",
            "Iteration No: 20 started. Searching for the next optimal point.\n",
            "[0.06766397051484162, 94, 8, 0.8237703958126834, 0.6810784589252205]\n",
            "Iteration No: 20 ended. Search finished for the next optimal point.\n",
            "Time taken: 1.1572\n",
            "Function value obtained: -0.9642\n",
            "Current minimum: -0.9642\n",
            "Iteration No: 21 started. Searching for the next optimal point.\n",
            "[0.0010621015826973747, 92, 35, 0.6875976053107362, 0.8289200506086875]\n",
            "Iteration No: 21 ended. Search finished for the next optimal point.\n",
            "Time taken: 1.0752\n",
            "Function value obtained: -0.9512\n",
            "Current minimum: -0.9642\n",
            "Iteration No: 22 started. Searching for the next optimal point.\n",
            "[0.009807604952273475, 87, 10, 0.5833137924747145, 0.5930491441034891]\n",
            "Iteration No: 22 ended. Search finished for the next optimal point.\n",
            "Time taken: 1.1280\n",
            "Function value obtained: -0.9479\n",
            "Current minimum: -0.9642\n",
            "Iteration No: 23 started. Searching for the next optimal point.\n",
            "[0.1, 40, 1, 0.6945360569392885, 0.8832578710873149]\n",
            "Iteration No: 23 ended. Search finished for the next optimal point.\n",
            "Time taken: 1.1183\n",
            "Function value obtained: -0.9658\n",
            "Current minimum: -0.9658\n",
            "Iteration No: 24 started. Searching for the next optimal point.\n",
            "[0.1, 2, 100, 1.0, 0.1]\n",
            "Iteration No: 24 ended. Search finished for the next optimal point.\n",
            "Time taken: 0.9674\n",
            "Function value obtained: -0.8424\n",
            "Current minimum: -0.9658\n",
            "Iteration No: 25 started. Searching for the next optimal point.\n",
            "[0.001, 2, 1, 1.0, 1.0]\n",
            "Iteration No: 25 ended. Search finished for the next optimal point.\n",
            "Time taken: 1.2156\n",
            "Function value obtained: -0.7800\n",
            "Current minimum: -0.9658\n",
            "Iteration No: 26 started. Searching for the next optimal point.\n",
            "[0.1, 115, 100, 1.0, 0.1]\n",
            "Iteration No: 26 ended. Search finished for the next optimal point.\n",
            "Time taken: 0.9604\n",
            "Function value obtained: -0.9203\n",
            "Current minimum: -0.9658\n",
            "Iteration No: 27 started. Searching for the next optimal point.\n",
            "[0.054680143881006116, 87, 17, 0.6164705764473182, 1.0]\n",
            "Iteration No: 27 ended. Search finished for the next optimal point.\n",
            "Time taken: 1.1783\n",
            "Function value obtained: -0.9634\n",
            "Current minimum: -0.9658\n",
            "Iteration No: 28 started. Searching for the next optimal point.\n",
            "[0.001, 128, 100, 0.5550790077418838, 0.286716428830438]\n",
            "Iteration No: 28 ended. Search finished for the next optimal point.\n",
            "Time taken: 1.1336\n",
            "Function value obtained: -0.9085\n",
            "Current minimum: -0.9658\n",
            "Iteration No: 29 started. Searching for the next optimal point.\n",
            "[0.001, 128, 55, 1.0, 0.21471980214604292]\n",
            "Iteration No: 29 ended. Search finished for the next optimal point.\n",
            "Time taken: 1.1003\n",
            "Function value obtained: -0.9449\n",
            "Current minimum: -0.9658\n",
            "Iteration No: 30 started. Searching for the next optimal point.\n",
            "[0.012079192170650342, 128, 32, 0.44974605582955385, 0.9144234399489658]\n",
            "Iteration No: 30 ended. Search finished for the next optimal point.\n",
            "Time taken: 1.4266\n",
            "Function value obtained: -0.9534\n",
            "Current minimum: -0.9658\n"
          ]
        }
      ]
    },
    {
      "cell_type": "code",
      "source": [
        "#best params\n",
        "\n",
        "resultado.x"
      ],
      "metadata": {
        "colab": {
          "base_uri": "https://localhost:8080/"
        },
        "id": "C-cTLzQt8b_5",
        "outputId": "9563983a-3aee-4bf8-e802-504481eb8005"
      },
      "execution_count": 269,
      "outputs": [
        {
          "output_type": "execute_result",
          "data": {
            "text/plain": [
              "[0.061911658253265375, 96, 61, 0.9665980447909663, 0.6970973480366033]"
            ]
          },
          "metadata": {},
          "execution_count": 269
        }
      ]
    },
    {
      "cell_type": "markdown",
      "source": [
        "#Aprimorando o DecisionTree"
      ],
      "metadata": {
        "id": "pvy4r8ARwefr"
      }
    },
    {
      "cell_type": "code",
      "source": [
        "parameters={\"splitter\":[\"best\",\"random\"],\n",
        "            \"max_depth\" : [1,3,5,8, 13],\n",
        "           \"min_samples_leaf\":[1,2,3,4,5,6],\n",
        "           \"max_leaf_nodes\":[None,1,2,3,4] }"
      ],
      "metadata": {
        "id": "4Aye3uFPzvml"
      },
      "execution_count": 270,
      "outputs": []
    },
    {
      "cell_type": "code",
      "source": [
        "from sklearn.model_selection import GridSearchCV\n",
        "from sklearn.metrics import mean_squared_error as mse\n",
        "\n",
        "tuning_model=GridSearchCV(model,param_grid=parameters,scoring='neg_mean_squared_error',cv=3,verbose=3)"
      ],
      "metadata": {
        "id": "bmgW491E0bxQ"
      },
      "execution_count": 274,
      "outputs": []
    },
    {
      "cell_type": "code",
      "source": [
        "tuning_model.fit(X_train,y_train)"
      ],
      "metadata": {
        "colab": {
          "base_uri": "https://localhost:8080/"
        },
        "id": "degPYj9D0lEz",
        "outputId": "6ea4a68d-9042-4f6a-ad50-bdbc841950ea"
      },
      "execution_count": 275,
      "outputs": [
        {
          "output_type": "stream",
          "name": "stdout",
          "text": [
            "Fitting 3 folds for each of 300 candidates, totalling 900 fits\n",
            "[CV 1/3] END max_depth=1, max_leaf_nodes=None, min_samples_leaf=1, splitter=best;, score=-0.178 total time=   0.0s\n",
            "[CV 2/3] END max_depth=1, max_leaf_nodes=None, min_samples_leaf=1, splitter=best;, score=-0.191 total time=   0.0s\n",
            "[CV 3/3] END max_depth=1, max_leaf_nodes=None, min_samples_leaf=1, splitter=best;, score=-0.177 total time=   0.0s\n",
            "[CV 1/3] END max_depth=1, max_leaf_nodes=None, min_samples_leaf=1, splitter=random;, score=-0.206 total time=   0.0s\n",
            "[CV 2/3] END max_depth=1, max_leaf_nodes=None, min_samples_leaf=1, splitter=random;, score=-0.216 total time=   0.0s\n",
            "[CV 3/3] END max_depth=1, max_leaf_nodes=None, min_samples_leaf=1, splitter=random;, score=-0.202 total time=   0.0s\n",
            "[CV 1/3] END max_depth=1, max_leaf_nodes=None, min_samples_leaf=2, splitter=best;, score=-0.178 total time=   0.0s\n",
            "[CV 2/3] END max_depth=1, max_leaf_nodes=None, min_samples_leaf=2, splitter=best;, score=-0.191 total time=   0.0s\n",
            "[CV 3/3] END max_depth=1, max_leaf_nodes=None, min_samples_leaf=2, splitter=best;, score=-0.177 total time=   0.0s\n",
            "[CV 1/3] END max_depth=1, max_leaf_nodes=None, min_samples_leaf=2, splitter=random;, score=-0.206 total time=   0.0s\n",
            "[CV 2/3] END max_depth=1, max_leaf_nodes=None, min_samples_leaf=2, splitter=random;, score=-0.216 total time=   0.0s\n",
            "[CV 3/3] END max_depth=1, max_leaf_nodes=None, min_samples_leaf=2, splitter=random;, score=-0.202 total time=   0.0s\n",
            "[CV 1/3] END max_depth=1, max_leaf_nodes=None, min_samples_leaf=3, splitter=best;, score=-0.178 total time=   0.0s\n",
            "[CV 2/3] END max_depth=1, max_leaf_nodes=None, min_samples_leaf=3, splitter=best;, score=-0.191 total time=   0.0s\n",
            "[CV 3/3] END max_depth=1, max_leaf_nodes=None, min_samples_leaf=3, splitter=best;, score=-0.177 total time=   0.0s\n",
            "[CV 1/3] END max_depth=1, max_leaf_nodes=None, min_samples_leaf=3, splitter=random;, score=-0.206 total time=   0.0s\n",
            "[CV 2/3] END max_depth=1, max_leaf_nodes=None, min_samples_leaf=3, splitter=random;, score=-0.216 total time=   0.0s\n",
            "[CV 3/3] END max_depth=1, max_leaf_nodes=None, min_samples_leaf=3, splitter=random;, score=-0.202 total time=   0.0s\n",
            "[CV 1/3] END max_depth=1, max_leaf_nodes=None, min_samples_leaf=4, splitter=best;, score=-0.178 total time=   0.0s\n",
            "[CV 2/3] END max_depth=1, max_leaf_nodes=None, min_samples_leaf=4, splitter=best;, score=-0.191 total time=   0.0s\n",
            "[CV 3/3] END max_depth=1, max_leaf_nodes=None, min_samples_leaf=4, splitter=best;, score=-0.177 total time=   0.0s\n",
            "[CV 1/3] END max_depth=1, max_leaf_nodes=None, min_samples_leaf=4, splitter=random;, score=-0.206 total time=   0.0s\n",
            "[CV 2/3] END max_depth=1, max_leaf_nodes=None, min_samples_leaf=4, splitter=random;, score=-0.216 total time=   0.0s\n",
            "[CV 3/3] END max_depth=1, max_leaf_nodes=None, min_samples_leaf=4, splitter=random;, score=-0.202 total time=   0.0s\n",
            "[CV 1/3] END max_depth=1, max_leaf_nodes=None, min_samples_leaf=5, splitter=best;, score=-0.178 total time=   0.0s\n",
            "[CV 2/3] END max_depth=1, max_leaf_nodes=None, min_samples_leaf=5, splitter=best;, score=-0.191 total time=   0.0s\n",
            "[CV 3/3] END max_depth=1, max_leaf_nodes=None, min_samples_leaf=5, splitter=best;, score=-0.177 total time=   0.0s\n",
            "[CV 1/3] END max_depth=1, max_leaf_nodes=None, min_samples_leaf=5, splitter=random;, score=-0.206 total time=   0.0s\n",
            "[CV 2/3] END max_depth=1, max_leaf_nodes=None, min_samples_leaf=5, splitter=random;, score=-0.216 total time=   0.0s\n",
            "[CV 3/3] END max_depth=1, max_leaf_nodes=None, min_samples_leaf=5, splitter=random;, score=-0.202 total time=   0.0s\n",
            "[CV 1/3] END max_depth=1, max_leaf_nodes=None, min_samples_leaf=6, splitter=best;, score=-0.178 total time=   0.0s\n",
            "[CV 2/3] END max_depth=1, max_leaf_nodes=None, min_samples_leaf=6, splitter=best;, score=-0.191 total time=   0.0s\n",
            "[CV 3/3] END max_depth=1, max_leaf_nodes=None, min_samples_leaf=6, splitter=best;, score=-0.177 total time=   0.0s\n",
            "[CV 1/3] END max_depth=1, max_leaf_nodes=None, min_samples_leaf=6, splitter=random;, score=-0.206 total time=   0.0s\n",
            "[CV 2/3] END max_depth=1, max_leaf_nodes=None, min_samples_leaf=6, splitter=random;, score=-0.216 total time=   0.0s\n",
            "[CV 3/3] END max_depth=1, max_leaf_nodes=None, min_samples_leaf=6, splitter=random;, score=-0.202 total time=   0.0s\n",
            "[CV 1/3] END max_depth=1, max_leaf_nodes=1, min_samples_leaf=1, splitter=best;, score=nan total time=   0.0s\n",
            "[CV 2/3] END max_depth=1, max_leaf_nodes=1, min_samples_leaf=1, splitter=best;, score=nan total time=   0.0s\n",
            "[CV 3/3] END max_depth=1, max_leaf_nodes=1, min_samples_leaf=1, splitter=best;, score=nan total time=   0.0s\n",
            "[CV 1/3] END max_depth=1, max_leaf_nodes=1, min_samples_leaf=1, splitter=random;, score=nan total time=   0.0s\n",
            "[CV 2/3] END max_depth=1, max_leaf_nodes=1, min_samples_leaf=1, splitter=random;, score=nan total time=   0.0s\n",
            "[CV 3/3] END max_depth=1, max_leaf_nodes=1, min_samples_leaf=1, splitter=random;, score=nan total time=   0.0s\n",
            "[CV 1/3] END max_depth=1, max_leaf_nodes=1, min_samples_leaf=2, splitter=best;, score=nan total time=   0.0s\n",
            "[CV 2/3] END max_depth=1, max_leaf_nodes=1, min_samples_leaf=2, splitter=best;, score=nan total time=   0.0s\n",
            "[CV 3/3] END max_depth=1, max_leaf_nodes=1, min_samples_leaf=2, splitter=best;, score=nan total time=   0.0s\n",
            "[CV 1/3] END max_depth=1, max_leaf_nodes=1, min_samples_leaf=2, splitter=random;, score=nan total time=   0.0s\n",
            "[CV 2/3] END max_depth=1, max_leaf_nodes=1, min_samples_leaf=2, splitter=random;, score=nan total time=   0.0s\n",
            "[CV 3/3] END max_depth=1, max_leaf_nodes=1, min_samples_leaf=2, splitter=random;, score=nan total time=   0.0s\n",
            "[CV 1/3] END max_depth=1, max_leaf_nodes=1, min_samples_leaf=3, splitter=best;, score=nan total time=   0.0s\n",
            "[CV 2/3] END max_depth=1, max_leaf_nodes=1, min_samples_leaf=3, splitter=best;, score=nan total time=   0.0s\n",
            "[CV 3/3] END max_depth=1, max_leaf_nodes=1, min_samples_leaf=3, splitter=best;, score=nan total time=   0.0s\n",
            "[CV 1/3] END max_depth=1, max_leaf_nodes=1, min_samples_leaf=3, splitter=random;, score=nan total time=   0.0s\n",
            "[CV 2/3] END max_depth=1, max_leaf_nodes=1, min_samples_leaf=3, splitter=random;, score=nan total time=   0.0s\n",
            "[CV 3/3] END max_depth=1, max_leaf_nodes=1, min_samples_leaf=3, splitter=random;, score=nan total time=   0.0s\n",
            "[CV 1/3] END max_depth=1, max_leaf_nodes=1, min_samples_leaf=4, splitter=best;, score=nan total time=   0.0s\n",
            "[CV 2/3] END max_depth=1, max_leaf_nodes=1, min_samples_leaf=4, splitter=best;, score=nan total time=   0.0s\n",
            "[CV 3/3] END max_depth=1, max_leaf_nodes=1, min_samples_leaf=4, splitter=best;, score=nan total time=   0.0s\n",
            "[CV 1/3] END max_depth=1, max_leaf_nodes=1, min_samples_leaf=4, splitter=random;, score=nan total time=   0.0s\n",
            "[CV 2/3] END max_depth=1, max_leaf_nodes=1, min_samples_leaf=4, splitter=random;, score=nan total time=   0.0s\n",
            "[CV 3/3] END max_depth=1, max_leaf_nodes=1, min_samples_leaf=4, splitter=random;, score=nan total time=   0.0s\n",
            "[CV 1/3] END max_depth=1, max_leaf_nodes=1, min_samples_leaf=5, splitter=best;, score=nan total time=   0.0s\n",
            "[CV 2/3] END max_depth=1, max_leaf_nodes=1, min_samples_leaf=5, splitter=best;, score=nan total time=   0.0s\n",
            "[CV 3/3] END max_depth=1, max_leaf_nodes=1, min_samples_leaf=5, splitter=best;, score=nan total time=   0.0s\n",
            "[CV 1/3] END max_depth=1, max_leaf_nodes=1, min_samples_leaf=5, splitter=random;, score=nan total time=   0.0s\n",
            "[CV 2/3] END max_depth=1, max_leaf_nodes=1, min_samples_leaf=5, splitter=random;, score=nan total time=   0.0s\n",
            "[CV 3/3] END max_depth=1, max_leaf_nodes=1, min_samples_leaf=5, splitter=random;, score=nan total time=   0.0s\n",
            "[CV 1/3] END max_depth=1, max_leaf_nodes=1, min_samples_leaf=6, splitter=best;, score=nan total time=   0.0s\n",
            "[CV 2/3] END max_depth=1, max_leaf_nodes=1, min_samples_leaf=6, splitter=best;, score=nan total time=   0.0s\n",
            "[CV 3/3] END max_depth=1, max_leaf_nodes=1, min_samples_leaf=6, splitter=best;, score=nan total time=   0.0s\n",
            "[CV 1/3] END max_depth=1, max_leaf_nodes=1, min_samples_leaf=6, splitter=random;, score=nan total time=   0.0s\n",
            "[CV 2/3] END max_depth=1, max_leaf_nodes=1, min_samples_leaf=6, splitter=random;, score=nan total time=   0.0s\n",
            "[CV 3/3] END max_depth=1, max_leaf_nodes=1, min_samples_leaf=6, splitter=random;, score=nan total time=   0.0s\n",
            "[CV 1/3] END max_depth=1, max_leaf_nodes=2, min_samples_leaf=1, splitter=best;, score=-0.178 total time=   0.0s\n",
            "[CV 2/3] END max_depth=1, max_leaf_nodes=2, min_samples_leaf=1, splitter=best;, score=-0.191 total time=   0.0s\n",
            "[CV 3/3] END max_depth=1, max_leaf_nodes=2, min_samples_leaf=1, splitter=best;, score=-0.177 total time=   0.0s\n",
            "[CV 1/3] END max_depth=1, max_leaf_nodes=2, min_samples_leaf=1, splitter=random;, score=-0.206 total time=   0.0s\n",
            "[CV 2/3] END max_depth=1, max_leaf_nodes=2, min_samples_leaf=1, splitter=random;, score=-0.216 total time=   0.0s\n",
            "[CV 3/3] END max_depth=1, max_leaf_nodes=2, min_samples_leaf=1, splitter=random;, score=-0.202 total time=   0.0s\n",
            "[CV 1/3] END max_depth=1, max_leaf_nodes=2, min_samples_leaf=2, splitter=best;, score=-0.178 total time=   0.0s\n",
            "[CV 2/3] END max_depth=1, max_leaf_nodes=2, min_samples_leaf=2, splitter=best;, score=-0.191 total time=   0.0s\n",
            "[CV 3/3] END max_depth=1, max_leaf_nodes=2, min_samples_leaf=2, splitter=best;, score=-0.177 total time=   0.0s\n",
            "[CV 1/3] END max_depth=1, max_leaf_nodes=2, min_samples_leaf=2, splitter=random;, score=-0.206 total time=   0.0s\n",
            "[CV 2/3] END max_depth=1, max_leaf_nodes=2, min_samples_leaf=2, splitter=random;, score=-0.216 total time=   0.0s\n",
            "[CV 3/3] END max_depth=1, max_leaf_nodes=2, min_samples_leaf=2, splitter=random;, score=-0.202 total time=   0.0s\n",
            "[CV 1/3] END max_depth=1, max_leaf_nodes=2, min_samples_leaf=3, splitter=best;, score=-0.178 total time=   0.0s\n",
            "[CV 2/3] END max_depth=1, max_leaf_nodes=2, min_samples_leaf=3, splitter=best;, score=-0.191 total time=   0.0s\n",
            "[CV 3/3] END max_depth=1, max_leaf_nodes=2, min_samples_leaf=3, splitter=best;, score=-0.177 total time=   0.0s\n",
            "[CV 1/3] END max_depth=1, max_leaf_nodes=2, min_samples_leaf=3, splitter=random;, score=-0.206 total time=   0.0s\n",
            "[CV 2/3] END max_depth=1, max_leaf_nodes=2, min_samples_leaf=3, splitter=random;, score=-0.216 total time=   0.0s\n",
            "[CV 3/3] END max_depth=1, max_leaf_nodes=2, min_samples_leaf=3, splitter=random;, score=-0.202 total time=   0.0s\n",
            "[CV 1/3] END max_depth=1, max_leaf_nodes=2, min_samples_leaf=4, splitter=best;, score=-0.178 total time=   0.0s\n",
            "[CV 2/3] END max_depth=1, max_leaf_nodes=2, min_samples_leaf=4, splitter=best;, score=-0.191 total time=   0.0s\n",
            "[CV 3/3] END max_depth=1, max_leaf_nodes=2, min_samples_leaf=4, splitter=best;, score=-0.177 total time=   0.0s\n",
            "[CV 1/3] END max_depth=1, max_leaf_nodes=2, min_samples_leaf=4, splitter=random;, score=-0.206 total time=   0.0s\n",
            "[CV 2/3] END max_depth=1, max_leaf_nodes=2, min_samples_leaf=4, splitter=random;, score=-0.216 total time=   0.0s\n",
            "[CV 3/3] END max_depth=1, max_leaf_nodes=2, min_samples_leaf=4, splitter=random;, score=-0.202 total time=   0.0s\n",
            "[CV 1/3] END max_depth=1, max_leaf_nodes=2, min_samples_leaf=5, splitter=best;, score=-0.178 total time=   0.0s\n",
            "[CV 2/3] END max_depth=1, max_leaf_nodes=2, min_samples_leaf=5, splitter=best;, score=-0.191 total time=   0.0s\n",
            "[CV 3/3] END max_depth=1, max_leaf_nodes=2, min_samples_leaf=5, splitter=best;, score=-0.177 total time=   0.0s\n",
            "[CV 1/3] END max_depth=1, max_leaf_nodes=2, min_samples_leaf=5, splitter=random;, score=-0.206 total time=   0.0s\n",
            "[CV 2/3] END max_depth=1, max_leaf_nodes=2, min_samples_leaf=5, splitter=random;, score=-0.216 total time=   0.0s\n",
            "[CV 3/3] END max_depth=1, max_leaf_nodes=2, min_samples_leaf=5, splitter=random;, score=-0.202 total time=   0.0s\n",
            "[CV 1/3] END max_depth=1, max_leaf_nodes=2, min_samples_leaf=6, splitter=best;, score=-0.178 total time=   0.0s\n",
            "[CV 2/3] END max_depth=1, max_leaf_nodes=2, min_samples_leaf=6, splitter=best;, score=-0.191 total time=   0.0s\n",
            "[CV 3/3] END max_depth=1, max_leaf_nodes=2, min_samples_leaf=6, splitter=best;, score=-0.177 total time=   0.0s\n",
            "[CV 1/3] END max_depth=1, max_leaf_nodes=2, min_samples_leaf=6, splitter=random;, score=-0.206 total time=   0.0s\n",
            "[CV 2/3] END max_depth=1, max_leaf_nodes=2, min_samples_leaf=6, splitter=random;, score=-0.216 total time=   0.0s\n",
            "[CV 3/3] END max_depth=1, max_leaf_nodes=2, min_samples_leaf=6, splitter=random;, score=-0.202 total time=   0.0s\n",
            "[CV 1/3] END max_depth=1, max_leaf_nodes=3, min_samples_leaf=1, splitter=best;, score=-0.178 total time=   0.0s\n",
            "[CV 2/3] END max_depth=1, max_leaf_nodes=3, min_samples_leaf=1, splitter=best;, score=-0.191 total time=   0.0s\n",
            "[CV 3/3] END max_depth=1, max_leaf_nodes=3, min_samples_leaf=1, splitter=best;, score=-0.177 total time=   0.0s\n",
            "[CV 1/3] END max_depth=1, max_leaf_nodes=3, min_samples_leaf=1, splitter=random;, score=-0.206 total time=   0.0s\n",
            "[CV 2/3] END max_depth=1, max_leaf_nodes=3, min_samples_leaf=1, splitter=random;, score=-0.216 total time=   0.0s\n",
            "[CV 3/3] END max_depth=1, max_leaf_nodes=3, min_samples_leaf=1, splitter=random;, score=-0.202 total time=   0.0s\n",
            "[CV 1/3] END max_depth=1, max_leaf_nodes=3, min_samples_leaf=2, splitter=best;, score=-0.178 total time=   0.0s\n",
            "[CV 2/3] END max_depth=1, max_leaf_nodes=3, min_samples_leaf=2, splitter=best;, score=-0.191 total time=   0.0s\n",
            "[CV 3/3] END max_depth=1, max_leaf_nodes=3, min_samples_leaf=2, splitter=best;, score=-0.177 total time=   0.0s\n",
            "[CV 1/3] END max_depth=1, max_leaf_nodes=3, min_samples_leaf=2, splitter=random;, score=-0.206 total time=   0.0s\n",
            "[CV 2/3] END max_depth=1, max_leaf_nodes=3, min_samples_leaf=2, splitter=random;, score=-0.216 total time=   0.0s\n",
            "[CV 3/3] END max_depth=1, max_leaf_nodes=3, min_samples_leaf=2, splitter=random;, score=-0.202 total time=   0.0s\n",
            "[CV 1/3] END max_depth=1, max_leaf_nodes=3, min_samples_leaf=3, splitter=best;, score=-0.178 total time=   0.0s\n",
            "[CV 2/3] END max_depth=1, max_leaf_nodes=3, min_samples_leaf=3, splitter=best;, score=-0.191 total time=   0.0s\n",
            "[CV 3/3] END max_depth=1, max_leaf_nodes=3, min_samples_leaf=3, splitter=best;, score=-0.177 total time=   0.0s\n",
            "[CV 1/3] END max_depth=1, max_leaf_nodes=3, min_samples_leaf=3, splitter=random;, score=-0.206 total time=   0.0s\n",
            "[CV 2/3] END max_depth=1, max_leaf_nodes=3, min_samples_leaf=3, splitter=random;, score=-0.216 total time=   0.0s\n",
            "[CV 3/3] END max_depth=1, max_leaf_nodes=3, min_samples_leaf=3, splitter=random;, score=-0.202 total time=   0.0s\n",
            "[CV 1/3] END max_depth=1, max_leaf_nodes=3, min_samples_leaf=4, splitter=best;, score=-0.178 total time=   0.0s\n",
            "[CV 2/3] END max_depth=1, max_leaf_nodes=3, min_samples_leaf=4, splitter=best;, score=-0.191 total time=   0.0s\n",
            "[CV 3/3] END max_depth=1, max_leaf_nodes=3, min_samples_leaf=4, splitter=best;, score=-0.177 total time=   0.0s\n",
            "[CV 1/3] END max_depth=1, max_leaf_nodes=3, min_samples_leaf=4, splitter=random;, score=-0.206 total time=   0.0s\n",
            "[CV 2/3] END max_depth=1, max_leaf_nodes=3, min_samples_leaf=4, splitter=random;, score=-0.216 total time=   0.0s\n",
            "[CV 3/3] END max_depth=1, max_leaf_nodes=3, min_samples_leaf=4, splitter=random;, score=-0.202 total time=   0.0s\n",
            "[CV 1/3] END max_depth=1, max_leaf_nodes=3, min_samples_leaf=5, splitter=best;, score=-0.178 total time=   0.0s\n",
            "[CV 2/3] END max_depth=1, max_leaf_nodes=3, min_samples_leaf=5, splitter=best;, score=-0.191 total time=   0.0s\n",
            "[CV 3/3] END max_depth=1, max_leaf_nodes=3, min_samples_leaf=5, splitter=best;, score=-0.177 total time=   0.0s\n",
            "[CV 1/3] END max_depth=1, max_leaf_nodes=3, min_samples_leaf=5, splitter=random;, score=-0.206 total time=   0.0s\n",
            "[CV 2/3] END max_depth=1, max_leaf_nodes=3, min_samples_leaf=5, splitter=random;, score=-0.216 total time=   0.0s\n",
            "[CV 3/3] END max_depth=1, max_leaf_nodes=3, min_samples_leaf=5, splitter=random;, score=-0.202 total time=   0.0s\n",
            "[CV 1/3] END max_depth=1, max_leaf_nodes=3, min_samples_leaf=6, splitter=best;, score=-0.178 total time=   0.0s\n",
            "[CV 2/3] END max_depth=1, max_leaf_nodes=3, min_samples_leaf=6, splitter=best;, score=-0.191 total time=   0.0s\n",
            "[CV 3/3] END max_depth=1, max_leaf_nodes=3, min_samples_leaf=6, splitter=best;, score=-0.177 total time=   0.0s\n",
            "[CV 1/3] END max_depth=1, max_leaf_nodes=3, min_samples_leaf=6, splitter=random;, score=-0.206 total time=   0.0s\n",
            "[CV 2/3] END max_depth=1, max_leaf_nodes=3, min_samples_leaf=6, splitter=random;, score=-0.216 total time=   0.0s\n",
            "[CV 3/3] END max_depth=1, max_leaf_nodes=3, min_samples_leaf=6, splitter=random;, score=-0.202 total time=   0.0s\n",
            "[CV 1/3] END max_depth=1, max_leaf_nodes=4, min_samples_leaf=1, splitter=best;, score=-0.178 total time=   0.0s\n",
            "[CV 2/3] END max_depth=1, max_leaf_nodes=4, min_samples_leaf=1, splitter=best;, score=-0.191 total time=   0.0s\n",
            "[CV 3/3] END max_depth=1, max_leaf_nodes=4, min_samples_leaf=1, splitter=best;, score=-0.177 total time=   0.0s\n",
            "[CV 1/3] END max_depth=1, max_leaf_nodes=4, min_samples_leaf=1, splitter=random;, score=-0.206 total time=   0.0s\n",
            "[CV 2/3] END max_depth=1, max_leaf_nodes=4, min_samples_leaf=1, splitter=random;, score=-0.216 total time=   0.0s\n",
            "[CV 3/3] END max_depth=1, max_leaf_nodes=4, min_samples_leaf=1, splitter=random;, score=-0.202 total time=   0.0s\n",
            "[CV 1/3] END max_depth=1, max_leaf_nodes=4, min_samples_leaf=2, splitter=best;, score=-0.178 total time=   0.0s\n",
            "[CV 2/3] END max_depth=1, max_leaf_nodes=4, min_samples_leaf=2, splitter=best;, score=-0.191 total time=   0.0s\n",
            "[CV 3/3] END max_depth=1, max_leaf_nodes=4, min_samples_leaf=2, splitter=best;, score=-0.177 total time=   0.0s\n",
            "[CV 1/3] END max_depth=1, max_leaf_nodes=4, min_samples_leaf=2, splitter=random;, score=-0.206 total time=   0.0s\n",
            "[CV 2/3] END max_depth=1, max_leaf_nodes=4, min_samples_leaf=2, splitter=random;, score=-0.216 total time=   0.0s\n",
            "[CV 3/3] END max_depth=1, max_leaf_nodes=4, min_samples_leaf=2, splitter=random;, score=-0.202 total time=   0.0s\n",
            "[CV 1/3] END max_depth=1, max_leaf_nodes=4, min_samples_leaf=3, splitter=best;, score=-0.178 total time=   0.0s\n",
            "[CV 2/3] END max_depth=1, max_leaf_nodes=4, min_samples_leaf=3, splitter=best;, score=-0.191 total time=   0.0s\n",
            "[CV 3/3] END max_depth=1, max_leaf_nodes=4, min_samples_leaf=3, splitter=best;, score=-0.177 total time=   0.0s\n",
            "[CV 1/3] END max_depth=1, max_leaf_nodes=4, min_samples_leaf=3, splitter=random;, score=-0.206 total time=   0.0s\n",
            "[CV 2/3] END max_depth=1, max_leaf_nodes=4, min_samples_leaf=3, splitter=random;, score=-0.216 total time=   0.0s\n",
            "[CV 3/3] END max_depth=1, max_leaf_nodes=4, min_samples_leaf=3, splitter=random;, score=-0.202 total time=   0.0s\n",
            "[CV 1/3] END max_depth=1, max_leaf_nodes=4, min_samples_leaf=4, splitter=best;, score=-0.178 total time=   0.0s\n",
            "[CV 2/3] END max_depth=1, max_leaf_nodes=4, min_samples_leaf=4, splitter=best;, score=-0.191 total time=   0.0s\n",
            "[CV 3/3] END max_depth=1, max_leaf_nodes=4, min_samples_leaf=4, splitter=best;, score=-0.177 total time=   0.0s\n",
            "[CV 1/3] END max_depth=1, max_leaf_nodes=4, min_samples_leaf=4, splitter=random;, score=-0.206 total time=   0.0s\n",
            "[CV 2/3] END max_depth=1, max_leaf_nodes=4, min_samples_leaf=4, splitter=random;, score=-0.216 total time=   0.0s\n",
            "[CV 3/3] END max_depth=1, max_leaf_nodes=4, min_samples_leaf=4, splitter=random;, score=-0.202 total time=   0.0s\n",
            "[CV 1/3] END max_depth=1, max_leaf_nodes=4, min_samples_leaf=5, splitter=best;, score=-0.178 total time=   0.0s\n",
            "[CV 2/3] END max_depth=1, max_leaf_nodes=4, min_samples_leaf=5, splitter=best;, score=-0.191 total time=   0.0s\n",
            "[CV 3/3] END max_depth=1, max_leaf_nodes=4, min_samples_leaf=5, splitter=best;, score=-0.177 total time=   0.0s\n",
            "[CV 1/3] END max_depth=1, max_leaf_nodes=4, min_samples_leaf=5, splitter=random;, score=-0.206 total time=   0.0s\n",
            "[CV 2/3] END max_depth=1, max_leaf_nodes=4, min_samples_leaf=5, splitter=random;, score=-0.216 total time=   0.0s\n",
            "[CV 3/3] END max_depth=1, max_leaf_nodes=4, min_samples_leaf=5, splitter=random;, score=-0.202 total time=   0.0s\n",
            "[CV 1/3] END max_depth=1, max_leaf_nodes=4, min_samples_leaf=6, splitter=best;, score=-0.178 total time=   0.0s\n",
            "[CV 2/3] END max_depth=1, max_leaf_nodes=4, min_samples_leaf=6, splitter=best;, score=-0.191 total time=   0.0s\n",
            "[CV 3/3] END max_depth=1, max_leaf_nodes=4, min_samples_leaf=6, splitter=best;, score=-0.177 total time=   0.0s\n",
            "[CV 1/3] END max_depth=1, max_leaf_nodes=4, min_samples_leaf=6, splitter=random;, score=-0.206 total time=   0.0s\n",
            "[CV 2/3] END max_depth=1, max_leaf_nodes=4, min_samples_leaf=6, splitter=random;, score=-0.216 total time=   0.0s\n",
            "[CV 3/3] END max_depth=1, max_leaf_nodes=4, min_samples_leaf=6, splitter=random;, score=-0.202 total time=   0.0s\n",
            "[CV 1/3] END max_depth=3, max_leaf_nodes=None, min_samples_leaf=1, splitter=best;, score=-0.102 total time=   0.0s\n",
            "[CV 2/3] END max_depth=3, max_leaf_nodes=None, min_samples_leaf=1, splitter=best;, score=-0.114 total time=   0.0s\n",
            "[CV 3/3] END max_depth=3, max_leaf_nodes=None, min_samples_leaf=1, splitter=best;, score=-0.107 total time=   0.0s\n",
            "[CV 1/3] END max_depth=3, max_leaf_nodes=None, min_samples_leaf=1, splitter=random;, score=-0.145 total time=   0.0s\n",
            "[CV 2/3] END max_depth=3, max_leaf_nodes=None, min_samples_leaf=1, splitter=random;, score=-0.155 total time=   0.0s\n",
            "[CV 3/3] END max_depth=3, max_leaf_nodes=None, min_samples_leaf=1, splitter=random;, score=-0.143 total time=   0.0s\n",
            "[CV 1/3] END max_depth=3, max_leaf_nodes=None, min_samples_leaf=2, splitter=best;, score=-0.102 total time=   0.0s\n",
            "[CV 2/3] END max_depth=3, max_leaf_nodes=None, min_samples_leaf=2, splitter=best;, score=-0.114 total time=   0.0s\n",
            "[CV 3/3] END max_depth=3, max_leaf_nodes=None, min_samples_leaf=2, splitter=best;, score=-0.107 total time=   0.0s\n",
            "[CV 1/3] END max_depth=3, max_leaf_nodes=None, min_samples_leaf=2, splitter=random;, score=-0.145 total time=   0.0s\n",
            "[CV 2/3] END max_depth=3, max_leaf_nodes=None, min_samples_leaf=2, splitter=random;, score=-0.155 total time=   0.0s\n",
            "[CV 3/3] END max_depth=3, max_leaf_nodes=None, min_samples_leaf=2, splitter=random;, score=-0.143 total time=   0.0s\n",
            "[CV 1/3] END max_depth=3, max_leaf_nodes=None, min_samples_leaf=3, splitter=best;, score=-0.102 total time=   0.0s\n",
            "[CV 2/3] END max_depth=3, max_leaf_nodes=None, min_samples_leaf=3, splitter=best;, score=-0.114 total time=   0.0s\n",
            "[CV 3/3] END max_depth=3, max_leaf_nodes=None, min_samples_leaf=3, splitter=best;, score=-0.107 total time=   0.0s\n",
            "[CV 1/3] END max_depth=3, max_leaf_nodes=None, min_samples_leaf=3, splitter=random;, score=-0.145 total time=   0.0s\n",
            "[CV 2/3] END max_depth=3, max_leaf_nodes=None, min_samples_leaf=3, splitter=random;, score=-0.155 total time=   0.0s\n",
            "[CV 3/3] END max_depth=3, max_leaf_nodes=None, min_samples_leaf=3, splitter=random;, score=-0.143 total time=   0.0s\n",
            "[CV 1/3] END max_depth=3, max_leaf_nodes=None, min_samples_leaf=4, splitter=best;, score=-0.102 total time=   0.0s\n",
            "[CV 2/3] END max_depth=3, max_leaf_nodes=None, min_samples_leaf=4, splitter=best;, score=-0.114 total time=   0.0s\n",
            "[CV 3/3] END max_depth=3, max_leaf_nodes=None, min_samples_leaf=4, splitter=best;, score=-0.107 total time=   0.0s\n",
            "[CV 1/3] END max_depth=3, max_leaf_nodes=None, min_samples_leaf=4, splitter=random;, score=-0.145 total time=   0.0s\n",
            "[CV 2/3] END max_depth=3, max_leaf_nodes=None, min_samples_leaf=4, splitter=random;, score=-0.155 total time=   0.0s\n",
            "[CV 3/3] END max_depth=3, max_leaf_nodes=None, min_samples_leaf=4, splitter=random;, score=-0.143 total time=   0.0s\n",
            "[CV 1/3] END max_depth=3, max_leaf_nodes=None, min_samples_leaf=5, splitter=best;, score=-0.102 total time=   0.0s\n",
            "[CV 2/3] END max_depth=3, max_leaf_nodes=None, min_samples_leaf=5, splitter=best;, score=-0.114 total time=   0.0s\n",
            "[CV 3/3] END max_depth=3, max_leaf_nodes=None, min_samples_leaf=5, splitter=best;, score=-0.107 total time=   0.0s\n",
            "[CV 1/3] END max_depth=3, max_leaf_nodes=None, min_samples_leaf=5, splitter=random;, score=-0.145 total time=   0.0s\n",
            "[CV 2/3] END max_depth=3, max_leaf_nodes=None, min_samples_leaf=5, splitter=random;, score=-0.155 total time=   0.0s\n",
            "[CV 3/3] END max_depth=3, max_leaf_nodes=None, min_samples_leaf=5, splitter=random;, score=-0.143 total time=   0.0s\n",
            "[CV 1/3] END max_depth=3, max_leaf_nodes=None, min_samples_leaf=6, splitter=best;, score=-0.102 total time=   0.0s\n",
            "[CV 2/3] END max_depth=3, max_leaf_nodes=None, min_samples_leaf=6, splitter=best;, score=-0.114 total time=   0.0s\n",
            "[CV 3/3] END max_depth=3, max_leaf_nodes=None, min_samples_leaf=6, splitter=best;, score=-0.107 total time=   0.0s\n",
            "[CV 1/3] END max_depth=3, max_leaf_nodes=None, min_samples_leaf=6, splitter=random;, score=-0.145 total time=   0.0s\n",
            "[CV 2/3] END max_depth=3, max_leaf_nodes=None, min_samples_leaf=6, splitter=random;, score=-0.155 total time=   0.0s\n",
            "[CV 3/3] END max_depth=3, max_leaf_nodes=None, min_samples_leaf=6, splitter=random;, score=-0.143 total time=   0.0s\n",
            "[CV 1/3] END max_depth=3, max_leaf_nodes=1, min_samples_leaf=1, splitter=best;, score=nan total time=   0.0s\n",
            "[CV 2/3] END max_depth=3, max_leaf_nodes=1, min_samples_leaf=1, splitter=best;, score=nan total time=   0.0s\n",
            "[CV 3/3] END max_depth=3, max_leaf_nodes=1, min_samples_leaf=1, splitter=best;, score=nan total time=   0.0s\n",
            "[CV 1/3] END max_depth=3, max_leaf_nodes=1, min_samples_leaf=1, splitter=random;, score=nan total time=   0.0s\n",
            "[CV 2/3] END max_depth=3, max_leaf_nodes=1, min_samples_leaf=1, splitter=random;, score=nan total time=   0.0s\n",
            "[CV 3/3] END max_depth=3, max_leaf_nodes=1, min_samples_leaf=1, splitter=random;, score=nan total time=   0.0s\n",
            "[CV 1/3] END max_depth=3, max_leaf_nodes=1, min_samples_leaf=2, splitter=best;, score=nan total time=   0.0s\n",
            "[CV 2/3] END max_depth=3, max_leaf_nodes=1, min_samples_leaf=2, splitter=best;, score=nan total time=   0.0s\n",
            "[CV 3/3] END max_depth=3, max_leaf_nodes=1, min_samples_leaf=2, splitter=best;, score=nan total time=   0.0s\n",
            "[CV 1/3] END max_depth=3, max_leaf_nodes=1, min_samples_leaf=2, splitter=random;, score=nan total time=   0.0s\n",
            "[CV 2/3] END max_depth=3, max_leaf_nodes=1, min_samples_leaf=2, splitter=random;, score=nan total time=   0.0s\n",
            "[CV 3/3] END max_depth=3, max_leaf_nodes=1, min_samples_leaf=2, splitter=random;, score=nan total time=   0.0s\n",
            "[CV 1/3] END max_depth=3, max_leaf_nodes=1, min_samples_leaf=3, splitter=best;, score=nan total time=   0.0s\n",
            "[CV 2/3] END max_depth=3, max_leaf_nodes=1, min_samples_leaf=3, splitter=best;, score=nan total time=   0.0s\n",
            "[CV 3/3] END max_depth=3, max_leaf_nodes=1, min_samples_leaf=3, splitter=best;, score=nan total time=   0.0s\n",
            "[CV 1/3] END max_depth=3, max_leaf_nodes=1, min_samples_leaf=3, splitter=random;, score=nan total time=   0.0s\n",
            "[CV 2/3] END max_depth=3, max_leaf_nodes=1, min_samples_leaf=3, splitter=random;, score=nan total time=   0.0s\n",
            "[CV 3/3] END max_depth=3, max_leaf_nodes=1, min_samples_leaf=3, splitter=random;, score=nan total time=   0.0s\n",
            "[CV 1/3] END max_depth=3, max_leaf_nodes=1, min_samples_leaf=4, splitter=best;, score=nan total time=   0.0s\n",
            "[CV 2/3] END max_depth=3, max_leaf_nodes=1, min_samples_leaf=4, splitter=best;, score=nan total time=   0.0s\n",
            "[CV 3/3] END max_depth=3, max_leaf_nodes=1, min_samples_leaf=4, splitter=best;, score=nan total time=   0.0s\n",
            "[CV 1/3] END max_depth=3, max_leaf_nodes=1, min_samples_leaf=4, splitter=random;, score=nan total time=   0.0s\n",
            "[CV 2/3] END max_depth=3, max_leaf_nodes=1, min_samples_leaf=4, splitter=random;, score=nan total time=   0.0s\n",
            "[CV 3/3] END max_depth=3, max_leaf_nodes=1, min_samples_leaf=4, splitter=random;, score=nan total time=   0.0s\n",
            "[CV 1/3] END max_depth=3, max_leaf_nodes=1, min_samples_leaf=5, splitter=best;, score=nan total time=   0.0s\n",
            "[CV 2/3] END max_depth=3, max_leaf_nodes=1, min_samples_leaf=5, splitter=best;, score=nan total time=   0.0s\n",
            "[CV 3/3] END max_depth=3, max_leaf_nodes=1, min_samples_leaf=5, splitter=best;, score=nan total time=   0.0s\n",
            "[CV 1/3] END max_depth=3, max_leaf_nodes=1, min_samples_leaf=5, splitter=random;, score=nan total time=   0.0s\n",
            "[CV 2/3] END max_depth=3, max_leaf_nodes=1, min_samples_leaf=5, splitter=random;, score=nan total time=   0.0s\n",
            "[CV 3/3] END max_depth=3, max_leaf_nodes=1, min_samples_leaf=5, splitter=random;, score=nan total time=   0.0s\n",
            "[CV 1/3] END max_depth=3, max_leaf_nodes=1, min_samples_leaf=6, splitter=best;, score=nan total time=   0.0s\n",
            "[CV 2/3] END max_depth=3, max_leaf_nodes=1, min_samples_leaf=6, splitter=best;, score=nan total time=   0.0s\n",
            "[CV 3/3] END max_depth=3, max_leaf_nodes=1, min_samples_leaf=6, splitter=best;, score=nan total time=   0.0s\n",
            "[CV 1/3] END max_depth=3, max_leaf_nodes=1, min_samples_leaf=6, splitter=random;, score=nan total time=   0.0s\n",
            "[CV 2/3] END max_depth=3, max_leaf_nodes=1, min_samples_leaf=6, splitter=random;, score=nan total time=   0.0s\n",
            "[CV 3/3] END max_depth=3, max_leaf_nodes=1, min_samples_leaf=6, splitter=random;, score=nan total time=   0.0s\n",
            "[CV 1/3] END max_depth=3, max_leaf_nodes=2, min_samples_leaf=1, splitter=best;, score=-0.178 total time=   0.0s\n",
            "[CV 2/3] END max_depth=3, max_leaf_nodes=2, min_samples_leaf=1, splitter=best;, score=-0.191 total time=   0.0s\n",
            "[CV 3/3] END max_depth=3, max_leaf_nodes=2, min_samples_leaf=1, splitter=best;, score=-0.177 total time=   0.0s\n",
            "[CV 1/3] END max_depth=3, max_leaf_nodes=2, min_samples_leaf=1, splitter=random;, score=-0.206 total time=   0.0s\n",
            "[CV 2/3] END max_depth=3, max_leaf_nodes=2, min_samples_leaf=1, splitter=random;, score=-0.216 total time=   0.0s\n",
            "[CV 3/3] END max_depth=3, max_leaf_nodes=2, min_samples_leaf=1, splitter=random;, score=-0.202 total time=   0.0s\n",
            "[CV 1/3] END max_depth=3, max_leaf_nodes=2, min_samples_leaf=2, splitter=best;, score=-0.178 total time=   0.0s\n",
            "[CV 2/3] END max_depth=3, max_leaf_nodes=2, min_samples_leaf=2, splitter=best;, score=-0.191 total time=   0.0s\n",
            "[CV 3/3] END max_depth=3, max_leaf_nodes=2, min_samples_leaf=2, splitter=best;, score=-0.177 total time=   0.0s\n",
            "[CV 1/3] END max_depth=3, max_leaf_nodes=2, min_samples_leaf=2, splitter=random;, score=-0.206 total time=   0.0s\n",
            "[CV 2/3] END max_depth=3, max_leaf_nodes=2, min_samples_leaf=2, splitter=random;, score=-0.216 total time=   0.0s\n",
            "[CV 3/3] END max_depth=3, max_leaf_nodes=2, min_samples_leaf=2, splitter=random;, score=-0.202 total time=   0.0s\n",
            "[CV 1/3] END max_depth=3, max_leaf_nodes=2, min_samples_leaf=3, splitter=best;, score=-0.178 total time=   0.0s\n",
            "[CV 2/3] END max_depth=3, max_leaf_nodes=2, min_samples_leaf=3, splitter=best;, score=-0.191 total time=   0.0s\n",
            "[CV 3/3] END max_depth=3, max_leaf_nodes=2, min_samples_leaf=3, splitter=best;, score=-0.177 total time=   0.0s\n",
            "[CV 1/3] END max_depth=3, max_leaf_nodes=2, min_samples_leaf=3, splitter=random;, score=-0.206 total time=   0.0s\n",
            "[CV 2/3] END max_depth=3, max_leaf_nodes=2, min_samples_leaf=3, splitter=random;, score=-0.216 total time=   0.0s\n",
            "[CV 3/3] END max_depth=3, max_leaf_nodes=2, min_samples_leaf=3, splitter=random;, score=-0.202 total time=   0.0s\n",
            "[CV 1/3] END max_depth=3, max_leaf_nodes=2, min_samples_leaf=4, splitter=best;, score=-0.178 total time=   0.0s\n",
            "[CV 2/3] END max_depth=3, max_leaf_nodes=2, min_samples_leaf=4, splitter=best;, score=-0.191 total time=   0.0s\n",
            "[CV 3/3] END max_depth=3, max_leaf_nodes=2, min_samples_leaf=4, splitter=best;, score=-0.177 total time=   0.0s\n",
            "[CV 1/3] END max_depth=3, max_leaf_nodes=2, min_samples_leaf=4, splitter=random;, score=-0.206 total time=   0.0s\n",
            "[CV 2/3] END max_depth=3, max_leaf_nodes=2, min_samples_leaf=4, splitter=random;, score=-0.216 total time=   0.0s\n",
            "[CV 3/3] END max_depth=3, max_leaf_nodes=2, min_samples_leaf=4, splitter=random;, score=-0.202 total time=   0.0s\n",
            "[CV 1/3] END max_depth=3, max_leaf_nodes=2, min_samples_leaf=5, splitter=best;, score=-0.178 total time=   0.0s\n",
            "[CV 2/3] END max_depth=3, max_leaf_nodes=2, min_samples_leaf=5, splitter=best;, score=-0.191 total time=   0.0s\n",
            "[CV 3/3] END max_depth=3, max_leaf_nodes=2, min_samples_leaf=5, splitter=best;, score=-0.177 total time=   0.0s\n",
            "[CV 1/3] END max_depth=3, max_leaf_nodes=2, min_samples_leaf=5, splitter=random;, score=-0.206 total time=   0.0s\n",
            "[CV 2/3] END max_depth=3, max_leaf_nodes=2, min_samples_leaf=5, splitter=random;, score=-0.216 total time=   0.0s\n",
            "[CV 3/3] END max_depth=3, max_leaf_nodes=2, min_samples_leaf=5, splitter=random;, score=-0.202 total time=   0.0s\n",
            "[CV 1/3] END max_depth=3, max_leaf_nodes=2, min_samples_leaf=6, splitter=best;, score=-0.178 total time=   0.0s\n",
            "[CV 2/3] END max_depth=3, max_leaf_nodes=2, min_samples_leaf=6, splitter=best;, score=-0.191 total time=   0.0s\n",
            "[CV 3/3] END max_depth=3, max_leaf_nodes=2, min_samples_leaf=6, splitter=best;, score=-0.177 total time=   0.0s\n",
            "[CV 1/3] END max_depth=3, max_leaf_nodes=2, min_samples_leaf=6, splitter=random;, score=-0.206 total time=   0.0s\n",
            "[CV 2/3] END max_depth=3, max_leaf_nodes=2, min_samples_leaf=6, splitter=random;, score=-0.216 total time=   0.0s\n",
            "[CV 3/3] END max_depth=3, max_leaf_nodes=2, min_samples_leaf=6, splitter=random;, score=-0.202 total time=   0.0s\n",
            "[CV 1/3] END max_depth=3, max_leaf_nodes=3, min_samples_leaf=1, splitter=best;, score=-0.178 total time=   0.0s\n",
            "[CV 2/3] END max_depth=3, max_leaf_nodes=3, min_samples_leaf=1, splitter=best;, score=-0.191 total time=   0.0s\n",
            "[CV 3/3] END max_depth=3, max_leaf_nodes=3, min_samples_leaf=1, splitter=best;, score=-0.183 total time=   0.0s\n",
            "[CV 1/3] END max_depth=3, max_leaf_nodes=3, min_samples_leaf=1, splitter=random;, score=-0.179 total time=   0.0s\n",
            "[CV 2/3] END max_depth=3, max_leaf_nodes=3, min_samples_leaf=1, splitter=random;, score=-0.185 total time=   0.0s\n",
            "[CV 3/3] END max_depth=3, max_leaf_nodes=3, min_samples_leaf=1, splitter=random;, score=-0.183 total time=   0.0s\n",
            "[CV 1/3] END max_depth=3, max_leaf_nodes=3, min_samples_leaf=2, splitter=best;, score=-0.178 total time=   0.0s\n",
            "[CV 2/3] END max_depth=3, max_leaf_nodes=3, min_samples_leaf=2, splitter=best;, score=-0.191 total time=   0.0s\n",
            "[CV 3/3] END max_depth=3, max_leaf_nodes=3, min_samples_leaf=2, splitter=best;, score=-0.183 total time=   0.0s\n",
            "[CV 1/3] END max_depth=3, max_leaf_nodes=3, min_samples_leaf=2, splitter=random;, score=-0.179 total time=   0.0s\n",
            "[CV 2/3] END max_depth=3, max_leaf_nodes=3, min_samples_leaf=2, splitter=random;, score=-0.185 total time=   0.0s\n",
            "[CV 3/3] END max_depth=3, max_leaf_nodes=3, min_samples_leaf=2, splitter=random;, score=-0.183 total time=   0.0s\n",
            "[CV 1/3] END max_depth=3, max_leaf_nodes=3, min_samples_leaf=3, splitter=best;, score=-0.178 total time=   0.0s\n",
            "[CV 2/3] END max_depth=3, max_leaf_nodes=3, min_samples_leaf=3, splitter=best;, score=-0.191 total time=   0.0s\n",
            "[CV 3/3] END max_depth=3, max_leaf_nodes=3, min_samples_leaf=3, splitter=best;, score=-0.183 total time=   0.0s\n",
            "[CV 1/3] END max_depth=3, max_leaf_nodes=3, min_samples_leaf=3, splitter=random;, score=-0.179 total time=   0.0s\n",
            "[CV 2/3] END max_depth=3, max_leaf_nodes=3, min_samples_leaf=3, splitter=random;, score=-0.185 total time=   0.0s\n",
            "[CV 3/3] END max_depth=3, max_leaf_nodes=3, min_samples_leaf=3, splitter=random;, score=-0.183 total time=   0.0s\n",
            "[CV 1/3] END max_depth=3, max_leaf_nodes=3, min_samples_leaf=4, splitter=best;, score=-0.178 total time=   0.0s\n",
            "[CV 2/3] END max_depth=3, max_leaf_nodes=3, min_samples_leaf=4, splitter=best;, score=-0.191 total time=   0.0s\n",
            "[CV 3/3] END max_depth=3, max_leaf_nodes=3, min_samples_leaf=4, splitter=best;, score=-0.183 total time=   0.0s\n",
            "[CV 1/3] END max_depth=3, max_leaf_nodes=3, min_samples_leaf=4, splitter=random;, score=-0.179 total time=   0.0s\n",
            "[CV 2/3] END max_depth=3, max_leaf_nodes=3, min_samples_leaf=4, splitter=random;, score=-0.185 total time=   0.0s\n",
            "[CV 3/3] END max_depth=3, max_leaf_nodes=3, min_samples_leaf=4, splitter=random;, score=-0.183 total time=   0.0s\n",
            "[CV 1/3] END max_depth=3, max_leaf_nodes=3, min_samples_leaf=5, splitter=best;, score=-0.178 total time=   0.0s\n",
            "[CV 2/3] END max_depth=3, max_leaf_nodes=3, min_samples_leaf=5, splitter=best;, score=-0.191 total time=   0.0s\n",
            "[CV 3/3] END max_depth=3, max_leaf_nodes=3, min_samples_leaf=5, splitter=best;, score=-0.183 total time=   0.0s\n",
            "[CV 1/3] END max_depth=3, max_leaf_nodes=3, min_samples_leaf=5, splitter=random;, score=-0.179 total time=   0.0s\n",
            "[CV 2/3] END max_depth=3, max_leaf_nodes=3, min_samples_leaf=5, splitter=random;, score=-0.185 total time=   0.0s\n",
            "[CV 3/3] END max_depth=3, max_leaf_nodes=3, min_samples_leaf=5, splitter=random;, score=-0.183 total time=   0.0s\n",
            "[CV 1/3] END max_depth=3, max_leaf_nodes=3, min_samples_leaf=6, splitter=best;, score=-0.178 total time=   0.0s\n",
            "[CV 2/3] END max_depth=3, max_leaf_nodes=3, min_samples_leaf=6, splitter=best;, score=-0.191 total time=   0.0s\n",
            "[CV 3/3] END max_depth=3, max_leaf_nodes=3, min_samples_leaf=6, splitter=best;, score=-0.183 total time=   0.0s\n",
            "[CV 1/3] END max_depth=3, max_leaf_nodes=3, min_samples_leaf=6, splitter=random;, score=-0.179 total time=   0.0s\n",
            "[CV 2/3] END max_depth=3, max_leaf_nodes=3, min_samples_leaf=6, splitter=random;, score=-0.185 total time=   0.0s\n",
            "[CV 3/3] END max_depth=3, max_leaf_nodes=3, min_samples_leaf=6, splitter=random;, score=-0.183 total time=   0.0s\n",
            "[CV 1/3] END max_depth=3, max_leaf_nodes=4, min_samples_leaf=1, splitter=best;, score=-0.102 total time=   0.0s\n",
            "[CV 2/3] END max_depth=3, max_leaf_nodes=4, min_samples_leaf=1, splitter=best;, score=-0.114 total time=   0.0s\n",
            "[CV 3/3] END max_depth=3, max_leaf_nodes=4, min_samples_leaf=1, splitter=best;, score=-0.107 total time=   0.0s\n",
            "[CV 1/3] END max_depth=3, max_leaf_nodes=4, min_samples_leaf=1, splitter=random;, score=-0.135 total time=   0.0s\n",
            "[CV 2/3] END max_depth=3, max_leaf_nodes=4, min_samples_leaf=1, splitter=random;, score=-0.141 total time=   0.0s\n",
            "[CV 3/3] END max_depth=3, max_leaf_nodes=4, min_samples_leaf=1, splitter=random;, score=-0.136 total time=   0.0s\n",
            "[CV 1/3] END max_depth=3, max_leaf_nodes=4, min_samples_leaf=2, splitter=best;, score=-0.102 total time=   0.0s\n",
            "[CV 2/3] END max_depth=3, max_leaf_nodes=4, min_samples_leaf=2, splitter=best;, score=-0.114 total time=   0.0s\n",
            "[CV 3/3] END max_depth=3, max_leaf_nodes=4, min_samples_leaf=2, splitter=best;, score=-0.107 total time=   0.0s\n",
            "[CV 1/3] END max_depth=3, max_leaf_nodes=4, min_samples_leaf=2, splitter=random;, score=-0.135 total time=   0.0s\n",
            "[CV 2/3] END max_depth=3, max_leaf_nodes=4, min_samples_leaf=2, splitter=random;, score=-0.141 total time=   0.0s\n",
            "[CV 3/3] END max_depth=3, max_leaf_nodes=4, min_samples_leaf=2, splitter=random;, score=-0.136 total time=   0.0s\n",
            "[CV 1/3] END max_depth=3, max_leaf_nodes=4, min_samples_leaf=3, splitter=best;, score=-0.102 total time=   0.0s\n",
            "[CV 2/3] END max_depth=3, max_leaf_nodes=4, min_samples_leaf=3, splitter=best;, score=-0.114 total time=   0.0s\n",
            "[CV 3/3] END max_depth=3, max_leaf_nodes=4, min_samples_leaf=3, splitter=best;, score=-0.107 total time=   0.0s\n",
            "[CV 1/3] END max_depth=3, max_leaf_nodes=4, min_samples_leaf=3, splitter=random;, score=-0.135 total time=   0.0s\n",
            "[CV 2/3] END max_depth=3, max_leaf_nodes=4, min_samples_leaf=3, splitter=random;, score=-0.141 total time=   0.0s\n",
            "[CV 3/3] END max_depth=3, max_leaf_nodes=4, min_samples_leaf=3, splitter=random;, score=-0.136 total time=   0.0s\n",
            "[CV 1/3] END max_depth=3, max_leaf_nodes=4, min_samples_leaf=4, splitter=best;, score=-0.102 total time=   0.0s\n",
            "[CV 2/3] END max_depth=3, max_leaf_nodes=4, min_samples_leaf=4, splitter=best;, score=-0.114 total time=   0.0s\n",
            "[CV 3/3] END max_depth=3, max_leaf_nodes=4, min_samples_leaf=4, splitter=best;, score=-0.107 total time=   0.0s\n",
            "[CV 1/3] END max_depth=3, max_leaf_nodes=4, min_samples_leaf=4, splitter=random;, score=-0.135 total time=   0.0s\n",
            "[CV 2/3] END max_depth=3, max_leaf_nodes=4, min_samples_leaf=4, splitter=random;, score=-0.141 total time=   0.0s\n",
            "[CV 3/3] END max_depth=3, max_leaf_nodes=4, min_samples_leaf=4, splitter=random;, score=-0.136 total time=   0.0s\n",
            "[CV 1/3] END max_depth=3, max_leaf_nodes=4, min_samples_leaf=5, splitter=best;, score=-0.102 total time=   0.0s\n",
            "[CV 2/3] END max_depth=3, max_leaf_nodes=4, min_samples_leaf=5, splitter=best;, score=-0.114 total time=   0.0s\n",
            "[CV 3/3] END max_depth=3, max_leaf_nodes=4, min_samples_leaf=5, splitter=best;, score=-0.107 total time=   0.0s\n",
            "[CV 1/3] END max_depth=3, max_leaf_nodes=4, min_samples_leaf=5, splitter=random;, score=-0.135 total time=   0.0s\n",
            "[CV 2/3] END max_depth=3, max_leaf_nodes=4, min_samples_leaf=5, splitter=random;, score=-0.141 total time=   0.0s\n",
            "[CV 3/3] END max_depth=3, max_leaf_nodes=4, min_samples_leaf=5, splitter=random;, score=-0.136 total time=   0.0s\n",
            "[CV 1/3] END max_depth=3, max_leaf_nodes=4, min_samples_leaf=6, splitter=best;, score=-0.102 total time=   0.0s\n",
            "[CV 2/3] END max_depth=3, max_leaf_nodes=4, min_samples_leaf=6, splitter=best;, score=-0.114 total time=   0.0s\n",
            "[CV 3/3] END max_depth=3, max_leaf_nodes=4, min_samples_leaf=6, splitter=best;, score=-0.107 total time=   0.0s\n",
            "[CV 1/3] END max_depth=3, max_leaf_nodes=4, min_samples_leaf=6, splitter=random;, score=-0.135 total time=   0.0s\n",
            "[CV 2/3] END max_depth=3, max_leaf_nodes=4, min_samples_leaf=6, splitter=random;, score=-0.141 total time=   0.0s\n",
            "[CV 3/3] END max_depth=3, max_leaf_nodes=4, min_samples_leaf=6, splitter=random;, score=-0.136 total time=   0.0s\n",
            "[CV 1/3] END max_depth=5, max_leaf_nodes=None, min_samples_leaf=1, splitter=best;, score=-0.085 total time=   0.0s\n",
            "[CV 2/3] END max_depth=5, max_leaf_nodes=None, min_samples_leaf=1, splitter=best;, score=-0.088 total time=   0.0s\n",
            "[CV 3/3] END max_depth=5, max_leaf_nodes=None, min_samples_leaf=1, splitter=best;, score=-0.086 total time=   0.0s\n",
            "[CV 1/3] END max_depth=5, max_leaf_nodes=None, min_samples_leaf=1, splitter=random;, score=-0.103 total time=   0.0s\n",
            "[CV 2/3] END max_depth=5, max_leaf_nodes=None, min_samples_leaf=1, splitter=random;, score=-0.139 total time=   0.0s\n",
            "[CV 3/3] END max_depth=5, max_leaf_nodes=None, min_samples_leaf=1, splitter=random;, score=-0.129 total time=   0.0s\n",
            "[CV 1/3] END max_depth=5, max_leaf_nodes=None, min_samples_leaf=2, splitter=best;, score=-0.085 total time=   0.0s\n",
            "[CV 2/3] END max_depth=5, max_leaf_nodes=None, min_samples_leaf=2, splitter=best;, score=-0.088 total time=   0.0s\n",
            "[CV 3/3] END max_depth=5, max_leaf_nodes=None, min_samples_leaf=2, splitter=best;, score=-0.086 total time=   0.0s\n",
            "[CV 1/3] END max_depth=5, max_leaf_nodes=None, min_samples_leaf=2, splitter=random;, score=-0.103 total time=   0.0s\n",
            "[CV 2/3] END max_depth=5, max_leaf_nodes=None, min_samples_leaf=2, splitter=random;, score=-0.139 total time=   0.0s\n",
            "[CV 3/3] END max_depth=5, max_leaf_nodes=None, min_samples_leaf=2, splitter=random;, score=-0.109 total time=   0.0s\n",
            "[CV 1/3] END max_depth=5, max_leaf_nodes=None, min_samples_leaf=3, splitter=best;, score=-0.086 total time=   0.0s\n",
            "[CV 2/3] END max_depth=5, max_leaf_nodes=None, min_samples_leaf=3, splitter=best;, score=-0.089 total time=   0.0s\n",
            "[CV 3/3] END max_depth=5, max_leaf_nodes=None, min_samples_leaf=3, splitter=best;, score=-0.088 total time=   0.0s\n",
            "[CV 1/3] END max_depth=5, max_leaf_nodes=None, min_samples_leaf=3, splitter=random;, score=-0.105 total time=   0.0s\n",
            "[CV 2/3] END max_depth=5, max_leaf_nodes=None, min_samples_leaf=3, splitter=random;, score=-0.102 total time=   0.0s\n",
            "[CV 3/3] END max_depth=5, max_leaf_nodes=None, min_samples_leaf=3, splitter=random;, score=-0.109 total time=   0.0s\n",
            "[CV 1/3] END max_depth=5, max_leaf_nodes=None, min_samples_leaf=4, splitter=best;, score=-0.087 total time=   0.0s\n",
            "[CV 2/3] END max_depth=5, max_leaf_nodes=None, min_samples_leaf=4, splitter=best;, score=-0.090 total time=   0.0s\n",
            "[CV 3/3] END max_depth=5, max_leaf_nodes=None, min_samples_leaf=4, splitter=best;, score=-0.088 total time=   0.0s\n",
            "[CV 1/3] END max_depth=5, max_leaf_nodes=None, min_samples_leaf=4, splitter=random;, score=-0.104 total time=   0.0s\n",
            "[CV 2/3] END max_depth=5, max_leaf_nodes=None, min_samples_leaf=4, splitter=random;, score=-0.102 total time=   0.0s\n",
            "[CV 3/3] END max_depth=5, max_leaf_nodes=None, min_samples_leaf=4, splitter=random;, score=-0.109 total time=   0.0s\n",
            "[CV 1/3] END max_depth=5, max_leaf_nodes=None, min_samples_leaf=5, splitter=best;, score=-0.087 total time=   0.0s\n",
            "[CV 2/3] END max_depth=5, max_leaf_nodes=None, min_samples_leaf=5, splitter=best;, score=-0.090 total time=   0.0s\n",
            "[CV 3/3] END max_depth=5, max_leaf_nodes=None, min_samples_leaf=5, splitter=best;, score=-0.089 total time=   0.0s\n",
            "[CV 1/3] END max_depth=5, max_leaf_nodes=None, min_samples_leaf=5, splitter=random;, score=-0.118 total time=   0.0s\n",
            "[CV 2/3] END max_depth=5, max_leaf_nodes=None, min_samples_leaf=5, splitter=random;, score=-0.102 total time=   0.0s\n",
            "[CV 3/3] END max_depth=5, max_leaf_nodes=None, min_samples_leaf=5, splitter=random;, score=-0.121 total time=   0.0s\n",
            "[CV 1/3] END max_depth=5, max_leaf_nodes=None, min_samples_leaf=6, splitter=best;, score=-0.087 total time=   0.0s\n",
            "[CV 2/3] END max_depth=5, max_leaf_nodes=None, min_samples_leaf=6, splitter=best;, score=-0.090 total time=   0.0s\n",
            "[CV 3/3] END max_depth=5, max_leaf_nodes=None, min_samples_leaf=6, splitter=best;, score=-0.089 total time=   0.0s\n",
            "[CV 1/3] END max_depth=5, max_leaf_nodes=None, min_samples_leaf=6, splitter=random;, score=-0.103 total time=   0.0s\n",
            "[CV 2/3] END max_depth=5, max_leaf_nodes=None, min_samples_leaf=6, splitter=random;, score=-0.102 total time=   0.0s\n",
            "[CV 3/3] END max_depth=5, max_leaf_nodes=None, min_samples_leaf=6, splitter=random;, score=-0.121 total time=   0.0s\n",
            "[CV 1/3] END max_depth=5, max_leaf_nodes=1, min_samples_leaf=1, splitter=best;, score=nan total time=   0.0s\n",
            "[CV 2/3] END max_depth=5, max_leaf_nodes=1, min_samples_leaf=1, splitter=best;, score=nan total time=   0.0s\n",
            "[CV 3/3] END max_depth=5, max_leaf_nodes=1, min_samples_leaf=1, splitter=best;, score=nan total time=   0.0s\n",
            "[CV 1/3] END max_depth=5, max_leaf_nodes=1, min_samples_leaf=1, splitter=random;, score=nan total time=   0.0s\n",
            "[CV 2/3] END max_depth=5, max_leaf_nodes=1, min_samples_leaf=1, splitter=random;, score=nan total time=   0.0s\n",
            "[CV 3/3] END max_depth=5, max_leaf_nodes=1, min_samples_leaf=1, splitter=random;, score=nan total time=   0.0s\n",
            "[CV 1/3] END max_depth=5, max_leaf_nodes=1, min_samples_leaf=2, splitter=best;, score=nan total time=   0.0s\n",
            "[CV 2/3] END max_depth=5, max_leaf_nodes=1, min_samples_leaf=2, splitter=best;, score=nan total time=   0.0s\n",
            "[CV 3/3] END max_depth=5, max_leaf_nodes=1, min_samples_leaf=2, splitter=best;, score=nan total time=   0.0s\n",
            "[CV 1/3] END max_depth=5, max_leaf_nodes=1, min_samples_leaf=2, splitter=random;, score=nan total time=   0.0s\n",
            "[CV 2/3] END max_depth=5, max_leaf_nodes=1, min_samples_leaf=2, splitter=random;, score=nan total time=   0.0s\n",
            "[CV 3/3] END max_depth=5, max_leaf_nodes=1, min_samples_leaf=2, splitter=random;, score=nan total time=   0.0s\n",
            "[CV 1/3] END max_depth=5, max_leaf_nodes=1, min_samples_leaf=3, splitter=best;, score=nan total time=   0.0s\n",
            "[CV 2/3] END max_depth=5, max_leaf_nodes=1, min_samples_leaf=3, splitter=best;, score=nan total time=   0.0s\n",
            "[CV 3/3] END max_depth=5, max_leaf_nodes=1, min_samples_leaf=3, splitter=best;, score=nan total time=   0.0s\n",
            "[CV 1/3] END max_depth=5, max_leaf_nodes=1, min_samples_leaf=3, splitter=random;, score=nan total time=   0.0s\n",
            "[CV 2/3] END max_depth=5, max_leaf_nodes=1, min_samples_leaf=3, splitter=random;, score=nan total time=   0.0s\n",
            "[CV 3/3] END max_depth=5, max_leaf_nodes=1, min_samples_leaf=3, splitter=random;, score=nan total time=   0.0s\n",
            "[CV 1/3] END max_depth=5, max_leaf_nodes=1, min_samples_leaf=4, splitter=best;, score=nan total time=   0.0s\n",
            "[CV 2/3] END max_depth=5, max_leaf_nodes=1, min_samples_leaf=4, splitter=best;, score=nan total time=   0.0s\n",
            "[CV 3/3] END max_depth=5, max_leaf_nodes=1, min_samples_leaf=4, splitter=best;, score=nan total time=   0.0s\n",
            "[CV 1/3] END max_depth=5, max_leaf_nodes=1, min_samples_leaf=4, splitter=random;, score=nan total time=   0.0s\n",
            "[CV 2/3] END max_depth=5, max_leaf_nodes=1, min_samples_leaf=4, splitter=random;, score=nan total time=   0.0s\n",
            "[CV 3/3] END max_depth=5, max_leaf_nodes=1, min_samples_leaf=4, splitter=random;, score=nan total time=   0.0s\n",
            "[CV 1/3] END max_depth=5, max_leaf_nodes=1, min_samples_leaf=5, splitter=best;, score=nan total time=   0.0s\n",
            "[CV 2/3] END max_depth=5, max_leaf_nodes=1, min_samples_leaf=5, splitter=best;, score=nan total time=   0.0s\n",
            "[CV 3/3] END max_depth=5, max_leaf_nodes=1, min_samples_leaf=5, splitter=best;, score=nan total time=   0.0s\n",
            "[CV 1/3] END max_depth=5, max_leaf_nodes=1, min_samples_leaf=5, splitter=random;, score=nan total time=   0.0s\n",
            "[CV 2/3] END max_depth=5, max_leaf_nodes=1, min_samples_leaf=5, splitter=random;, score=nan total time=   0.0s\n",
            "[CV 3/3] END max_depth=5, max_leaf_nodes=1, min_samples_leaf=5, splitter=random;, score=nan total time=   0.0s\n",
            "[CV 1/3] END max_depth=5, max_leaf_nodes=1, min_samples_leaf=6, splitter=best;, score=nan total time=   0.0s\n",
            "[CV 2/3] END max_depth=5, max_leaf_nodes=1, min_samples_leaf=6, splitter=best;, score=nan total time=   0.0s\n",
            "[CV 3/3] END max_depth=5, max_leaf_nodes=1, min_samples_leaf=6, splitter=best;, score=nan total time=   0.0s\n",
            "[CV 1/3] END max_depth=5, max_leaf_nodes=1, min_samples_leaf=6, splitter=random;, score=nan total time=   0.0s\n",
            "[CV 2/3] END max_depth=5, max_leaf_nodes=1, min_samples_leaf=6, splitter=random;, score=nan total time=   0.0s\n",
            "[CV 3/3] END max_depth=5, max_leaf_nodes=1, min_samples_leaf=6, splitter=random;, score=nan total time=   0.0s\n",
            "[CV 1/3] END max_depth=5, max_leaf_nodes=2, min_samples_leaf=1, splitter=best;, score=-0.178 total time=   0.0s\n",
            "[CV 2/3] END max_depth=5, max_leaf_nodes=2, min_samples_leaf=1, splitter=best;, score=-0.191 total time=   0.0s\n",
            "[CV 3/3] END max_depth=5, max_leaf_nodes=2, min_samples_leaf=1, splitter=best;, score=-0.177 total time=   0.0s\n",
            "[CV 1/3] END max_depth=5, max_leaf_nodes=2, min_samples_leaf=1, splitter=random;, score=-0.206 total time=   0.0s\n",
            "[CV 2/3] END max_depth=5, max_leaf_nodes=2, min_samples_leaf=1, splitter=random;, score=-0.216 total time=   0.0s\n",
            "[CV 3/3] END max_depth=5, max_leaf_nodes=2, min_samples_leaf=1, splitter=random;, score=-0.202 total time=   0.0s\n",
            "[CV 1/3] END max_depth=5, max_leaf_nodes=2, min_samples_leaf=2, splitter=best;, score=-0.178 total time=   0.0s\n",
            "[CV 2/3] END max_depth=5, max_leaf_nodes=2, min_samples_leaf=2, splitter=best;, score=-0.191 total time=   0.0s\n",
            "[CV 3/3] END max_depth=5, max_leaf_nodes=2, min_samples_leaf=2, splitter=best;, score=-0.177 total time=   0.0s\n",
            "[CV 1/3] END max_depth=5, max_leaf_nodes=2, min_samples_leaf=2, splitter=random;, score=-0.206 total time=   0.0s\n",
            "[CV 2/3] END max_depth=5, max_leaf_nodes=2, min_samples_leaf=2, splitter=random;, score=-0.216 total time=   0.0s\n",
            "[CV 3/3] END max_depth=5, max_leaf_nodes=2, min_samples_leaf=2, splitter=random;, score=-0.202 total time=   0.0s\n",
            "[CV 1/3] END max_depth=5, max_leaf_nodes=2, min_samples_leaf=3, splitter=best;, score=-0.178 total time=   0.0s\n",
            "[CV 2/3] END max_depth=5, max_leaf_nodes=2, min_samples_leaf=3, splitter=best;, score=-0.191 total time=   0.0s\n",
            "[CV 3/3] END max_depth=5, max_leaf_nodes=2, min_samples_leaf=3, splitter=best;, score=-0.177 total time=   0.0s\n",
            "[CV 1/3] END max_depth=5, max_leaf_nodes=2, min_samples_leaf=3, splitter=random;, score=-0.206 total time=   0.0s\n",
            "[CV 2/3] END max_depth=5, max_leaf_nodes=2, min_samples_leaf=3, splitter=random;, score=-0.216 total time=   0.0s\n",
            "[CV 3/3] END max_depth=5, max_leaf_nodes=2, min_samples_leaf=3, splitter=random;, score=-0.202 total time=   0.0s\n",
            "[CV 1/3] END max_depth=5, max_leaf_nodes=2, min_samples_leaf=4, splitter=best;, score=-0.178 total time=   0.0s\n",
            "[CV 2/3] END max_depth=5, max_leaf_nodes=2, min_samples_leaf=4, splitter=best;, score=-0.191 total time=   0.0s\n",
            "[CV 3/3] END max_depth=5, max_leaf_nodes=2, min_samples_leaf=4, splitter=best;, score=-0.177 total time=   0.0s\n",
            "[CV 1/3] END max_depth=5, max_leaf_nodes=2, min_samples_leaf=4, splitter=random;, score=-0.206 total time=   0.1s\n",
            "[CV 2/3] END max_depth=5, max_leaf_nodes=2, min_samples_leaf=4, splitter=random;, score=-0.216 total time=   0.0s\n",
            "[CV 3/3] END max_depth=5, max_leaf_nodes=2, min_samples_leaf=4, splitter=random;, score=-0.202 total time=   0.0s\n",
            "[CV 1/3] END max_depth=5, max_leaf_nodes=2, min_samples_leaf=5, splitter=best;, score=-0.178 total time=   0.0s\n",
            "[CV 2/3] END max_depth=5, max_leaf_nodes=2, min_samples_leaf=5, splitter=best;, score=-0.191 total time=   0.0s\n",
            "[CV 3/3] END max_depth=5, max_leaf_nodes=2, min_samples_leaf=5, splitter=best;, score=-0.177 total time=   0.0s\n",
            "[CV 1/3] END max_depth=5, max_leaf_nodes=2, min_samples_leaf=5, splitter=random;, score=-0.206 total time=   0.0s\n",
            "[CV 2/3] END max_depth=5, max_leaf_nodes=2, min_samples_leaf=5, splitter=random;, score=-0.216 total time=   0.0s\n",
            "[CV 3/3] END max_depth=5, max_leaf_nodes=2, min_samples_leaf=5, splitter=random;, score=-0.202 total time=   0.0s\n",
            "[CV 1/3] END max_depth=5, max_leaf_nodes=2, min_samples_leaf=6, splitter=best;, score=-0.178 total time=   0.0s\n",
            "[CV 2/3] END max_depth=5, max_leaf_nodes=2, min_samples_leaf=6, splitter=best;, score=-0.191 total time=   0.0s\n",
            "[CV 3/3] END max_depth=5, max_leaf_nodes=2, min_samples_leaf=6, splitter=best;, score=-0.177 total time=   0.0s\n",
            "[CV 1/3] END max_depth=5, max_leaf_nodes=2, min_samples_leaf=6, splitter=random;, score=-0.206 total time=   0.0s\n",
            "[CV 2/3] END max_depth=5, max_leaf_nodes=2, min_samples_leaf=6, splitter=random;, score=-0.216 total time=   0.0s\n",
            "[CV 3/3] END max_depth=5, max_leaf_nodes=2, min_samples_leaf=6, splitter=random;, score=-0.202 total time=   0.0s\n",
            "[CV 1/3] END max_depth=5, max_leaf_nodes=3, min_samples_leaf=1, splitter=best;, score=-0.178 total time=   0.0s\n",
            "[CV 2/3] END max_depth=5, max_leaf_nodes=3, min_samples_leaf=1, splitter=best;, score=-0.191 total time=   0.0s\n",
            "[CV 3/3] END max_depth=5, max_leaf_nodes=3, min_samples_leaf=1, splitter=best;, score=-0.183 total time=   0.0s\n",
            "[CV 1/3] END max_depth=5, max_leaf_nodes=3, min_samples_leaf=1, splitter=random;, score=-0.179 total time=   0.0s\n",
            "[CV 2/3] END max_depth=5, max_leaf_nodes=3, min_samples_leaf=1, splitter=random;, score=-0.185 total time=   0.0s\n",
            "[CV 3/3] END max_depth=5, max_leaf_nodes=3, min_samples_leaf=1, splitter=random;, score=-0.183 total time=   0.0s\n",
            "[CV 1/3] END max_depth=5, max_leaf_nodes=3, min_samples_leaf=2, splitter=best;, score=-0.178 total time=   0.0s\n",
            "[CV 2/3] END max_depth=5, max_leaf_nodes=3, min_samples_leaf=2, splitter=best;, score=-0.191 total time=   0.0s\n",
            "[CV 3/3] END max_depth=5, max_leaf_nodes=3, min_samples_leaf=2, splitter=best;, score=-0.183 total time=   0.0s\n",
            "[CV 1/3] END max_depth=5, max_leaf_nodes=3, min_samples_leaf=2, splitter=random;, score=-0.179 total time=   0.0s\n",
            "[CV 2/3] END max_depth=5, max_leaf_nodes=3, min_samples_leaf=2, splitter=random;, score=-0.185 total time=   0.0s\n",
            "[CV 3/3] END max_depth=5, max_leaf_nodes=3, min_samples_leaf=2, splitter=random;, score=-0.183 total time=   0.0s\n",
            "[CV 1/3] END max_depth=5, max_leaf_nodes=3, min_samples_leaf=3, splitter=best;, score=-0.178 total time=   0.0s\n",
            "[CV 2/3] END max_depth=5, max_leaf_nodes=3, min_samples_leaf=3, splitter=best;, score=-0.191 total time=   0.0s\n",
            "[CV 3/3] END max_depth=5, max_leaf_nodes=3, min_samples_leaf=3, splitter=best;, score=-0.183 total time=   0.0s\n",
            "[CV 1/3] END max_depth=5, max_leaf_nodes=3, min_samples_leaf=3, splitter=random;, score=-0.179 total time=   0.0s\n",
            "[CV 2/3] END max_depth=5, max_leaf_nodes=3, min_samples_leaf=3, splitter=random;, score=-0.185 total time=   0.0s\n",
            "[CV 3/3] END max_depth=5, max_leaf_nodes=3, min_samples_leaf=3, splitter=random;, score=-0.183 total time=   0.0s\n",
            "[CV 1/3] END max_depth=5, max_leaf_nodes=3, min_samples_leaf=4, splitter=best;, score=-0.178 total time=   0.0s\n",
            "[CV 2/3] END max_depth=5, max_leaf_nodes=3, min_samples_leaf=4, splitter=best;, score=-0.191 total time=   0.0s\n",
            "[CV 3/3] END max_depth=5, max_leaf_nodes=3, min_samples_leaf=4, splitter=best;, score=-0.183 total time=   0.0s\n",
            "[CV 1/3] END max_depth=5, max_leaf_nodes=3, min_samples_leaf=4, splitter=random;, score=-0.179 total time=   0.0s\n",
            "[CV 2/3] END max_depth=5, max_leaf_nodes=3, min_samples_leaf=4, splitter=random;, score=-0.185 total time=   0.0s\n",
            "[CV 3/3] END max_depth=5, max_leaf_nodes=3, min_samples_leaf=4, splitter=random;, score=-0.183 total time=   0.0s\n",
            "[CV 1/3] END max_depth=5, max_leaf_nodes=3, min_samples_leaf=5, splitter=best;, score=-0.178 total time=   0.0s\n",
            "[CV 2/3] END max_depth=5, max_leaf_nodes=3, min_samples_leaf=5, splitter=best;, score=-0.191 total time=   0.0s\n",
            "[CV 3/3] END max_depth=5, max_leaf_nodes=3, min_samples_leaf=5, splitter=best;, score=-0.183 total time=   0.0s\n",
            "[CV 1/3] END max_depth=5, max_leaf_nodes=3, min_samples_leaf=5, splitter=random;, score=-0.179 total time=   0.0s\n",
            "[CV 2/3] END max_depth=5, max_leaf_nodes=3, min_samples_leaf=5, splitter=random;, score=-0.185 total time=   0.0s\n",
            "[CV 3/3] END max_depth=5, max_leaf_nodes=3, min_samples_leaf=5, splitter=random;, score=-0.183 total time=   0.0s\n",
            "[CV 1/3] END max_depth=5, max_leaf_nodes=3, min_samples_leaf=6, splitter=best;, score=-0.178 total time=   0.0s\n",
            "[CV 2/3] END max_depth=5, max_leaf_nodes=3, min_samples_leaf=6, splitter=best;, score=-0.191 total time=   0.0s\n",
            "[CV 3/3] END max_depth=5, max_leaf_nodes=3, min_samples_leaf=6, splitter=best;, score=-0.183 total time=   0.0s\n",
            "[CV 1/3] END max_depth=5, max_leaf_nodes=3, min_samples_leaf=6, splitter=random;, score=-0.179 total time=   0.0s\n",
            "[CV 2/3] END max_depth=5, max_leaf_nodes=3, min_samples_leaf=6, splitter=random;, score=-0.185 total time=   0.0s\n",
            "[CV 3/3] END max_depth=5, max_leaf_nodes=3, min_samples_leaf=6, splitter=random;, score=-0.183 total time=   0.0s\n",
            "[CV 1/3] END max_depth=5, max_leaf_nodes=4, min_samples_leaf=1, splitter=best;, score=-0.102 total time=   0.0s\n",
            "[CV 2/3] END max_depth=5, max_leaf_nodes=4, min_samples_leaf=1, splitter=best;, score=-0.114 total time=   0.0s\n",
            "[CV 3/3] END max_depth=5, max_leaf_nodes=4, min_samples_leaf=1, splitter=best;, score=-0.107 total time=   0.0s\n",
            "[CV 1/3] END max_depth=5, max_leaf_nodes=4, min_samples_leaf=1, splitter=random;, score=-0.135 total time=   0.0s\n",
            "[CV 2/3] END max_depth=5, max_leaf_nodes=4, min_samples_leaf=1, splitter=random;, score=-0.141 total time=   0.0s\n",
            "[CV 3/3] END max_depth=5, max_leaf_nodes=4, min_samples_leaf=1, splitter=random;, score=-0.136 total time=   0.0s\n",
            "[CV 1/3] END max_depth=5, max_leaf_nodes=4, min_samples_leaf=2, splitter=best;, score=-0.102 total time=   0.0s\n",
            "[CV 2/3] END max_depth=5, max_leaf_nodes=4, min_samples_leaf=2, splitter=best;, score=-0.114 total time=   0.0s\n",
            "[CV 3/3] END max_depth=5, max_leaf_nodes=4, min_samples_leaf=2, splitter=best;, score=-0.107 total time=   0.0s\n",
            "[CV 1/3] END max_depth=5, max_leaf_nodes=4, min_samples_leaf=2, splitter=random;, score=-0.135 total time=   0.0s\n",
            "[CV 2/3] END max_depth=5, max_leaf_nodes=4, min_samples_leaf=2, splitter=random;, score=-0.141 total time=   0.0s\n",
            "[CV 3/3] END max_depth=5, max_leaf_nodes=4, min_samples_leaf=2, splitter=random;, score=-0.136 total time=   0.0s\n",
            "[CV 1/3] END max_depth=5, max_leaf_nodes=4, min_samples_leaf=3, splitter=best;, score=-0.102 total time=   0.0s\n",
            "[CV 2/3] END max_depth=5, max_leaf_nodes=4, min_samples_leaf=3, splitter=best;, score=-0.114 total time=   0.0s\n",
            "[CV 3/3] END max_depth=5, max_leaf_nodes=4, min_samples_leaf=3, splitter=best;, score=-0.107 total time=   0.0s\n",
            "[CV 1/3] END max_depth=5, max_leaf_nodes=4, min_samples_leaf=3, splitter=random;, score=-0.135 total time=   0.0s\n",
            "[CV 2/3] END max_depth=5, max_leaf_nodes=4, min_samples_leaf=3, splitter=random;, score=-0.141 total time=   0.0s\n",
            "[CV 3/3] END max_depth=5, max_leaf_nodes=4, min_samples_leaf=3, splitter=random;, score=-0.136 total time=   0.0s\n",
            "[CV 1/3] END max_depth=5, max_leaf_nodes=4, min_samples_leaf=4, splitter=best;, score=-0.102 total time=   0.0s\n",
            "[CV 2/3] END max_depth=5, max_leaf_nodes=4, min_samples_leaf=4, splitter=best;, score=-0.114 total time=   0.0s\n",
            "[CV 3/3] END max_depth=5, max_leaf_nodes=4, min_samples_leaf=4, splitter=best;, score=-0.107 total time=   0.0s\n",
            "[CV 1/3] END max_depth=5, max_leaf_nodes=4, min_samples_leaf=4, splitter=random;, score=-0.135 total time=   0.0s\n",
            "[CV 2/3] END max_depth=5, max_leaf_nodes=4, min_samples_leaf=4, splitter=random;, score=-0.141 total time=   0.0s\n",
            "[CV 3/3] END max_depth=5, max_leaf_nodes=4, min_samples_leaf=4, splitter=random;, score=-0.136 total time=   0.0s\n",
            "[CV 1/3] END max_depth=5, max_leaf_nodes=4, min_samples_leaf=5, splitter=best;, score=-0.102 total time=   0.0s\n",
            "[CV 2/3] END max_depth=5, max_leaf_nodes=4, min_samples_leaf=5, splitter=best;, score=-0.114 total time=   0.0s\n",
            "[CV 3/3] END max_depth=5, max_leaf_nodes=4, min_samples_leaf=5, splitter=best;, score=-0.107 total time=   0.0s\n",
            "[CV 1/3] END max_depth=5, max_leaf_nodes=4, min_samples_leaf=5, splitter=random;, score=-0.135 total time=   0.0s\n",
            "[CV 2/3] END max_depth=5, max_leaf_nodes=4, min_samples_leaf=5, splitter=random;, score=-0.141 total time=   0.0s\n",
            "[CV 3/3] END max_depth=5, max_leaf_nodes=4, min_samples_leaf=5, splitter=random;, score=-0.136 total time=   0.0s\n",
            "[CV 1/3] END max_depth=5, max_leaf_nodes=4, min_samples_leaf=6, splitter=best;, score=-0.102 total time=   0.0s\n",
            "[CV 2/3] END max_depth=5, max_leaf_nodes=4, min_samples_leaf=6, splitter=best;, score=-0.114 total time=   0.0s\n",
            "[CV 3/3] END max_depth=5, max_leaf_nodes=4, min_samples_leaf=6, splitter=best;, score=-0.107 total time=   0.0s\n",
            "[CV 1/3] END max_depth=5, max_leaf_nodes=4, min_samples_leaf=6, splitter=random;, score=-0.135 total time=   0.0s\n",
            "[CV 2/3] END max_depth=5, max_leaf_nodes=4, min_samples_leaf=6, splitter=random;, score=-0.141 total time=   0.0s\n",
            "[CV 3/3] END max_depth=5, max_leaf_nodes=4, min_samples_leaf=6, splitter=random;, score=-0.136 total time=   0.0s\n",
            "[CV 1/3] END max_depth=8, max_leaf_nodes=None, min_samples_leaf=1, splitter=best;, score=-0.088 total time=   0.0s\n",
            "[CV 2/3] END max_depth=8, max_leaf_nodes=None, min_samples_leaf=1, splitter=best;, score=-0.096 total time=   0.0s\n",
            "[CV 3/3] END max_depth=8, max_leaf_nodes=None, min_samples_leaf=1, splitter=best;, score=-0.089 total time=   0.0s\n",
            "[CV 1/3] END max_depth=8, max_leaf_nodes=None, min_samples_leaf=1, splitter=random;, score=-0.099 total time=   0.0s\n",
            "[CV 2/3] END max_depth=8, max_leaf_nodes=None, min_samples_leaf=1, splitter=random;, score=-0.102 total time=   0.0s\n",
            "[CV 3/3] END max_depth=8, max_leaf_nodes=None, min_samples_leaf=1, splitter=random;, score=-0.097 total time=   0.0s\n",
            "[CV 1/3] END max_depth=8, max_leaf_nodes=None, min_samples_leaf=2, splitter=best;, score=-0.088 total time=   0.0s\n",
            "[CV 2/3] END max_depth=8, max_leaf_nodes=None, min_samples_leaf=2, splitter=best;, score=-0.095 total time=   0.0s\n",
            "[CV 3/3] END max_depth=8, max_leaf_nodes=None, min_samples_leaf=2, splitter=best;, score=-0.089 total time=   0.0s\n",
            "[CV 1/3] END max_depth=8, max_leaf_nodes=None, min_samples_leaf=2, splitter=random;, score=-0.099 total time=   0.0s\n",
            "[CV 2/3] END max_depth=8, max_leaf_nodes=None, min_samples_leaf=2, splitter=random;, score=-0.102 total time=   0.0s\n",
            "[CV 3/3] END max_depth=8, max_leaf_nodes=None, min_samples_leaf=2, splitter=random;, score=-0.102 total time=   0.0s\n",
            "[CV 1/3] END max_depth=8, max_leaf_nodes=None, min_samples_leaf=3, splitter=best;, score=-0.086 total time=   0.0s\n",
            "[CV 2/3] END max_depth=8, max_leaf_nodes=None, min_samples_leaf=3, splitter=best;, score=-0.096 total time=   0.0s\n",
            "[CV 3/3] END max_depth=8, max_leaf_nodes=None, min_samples_leaf=3, splitter=best;, score=-0.088 total time=   0.0s\n",
            "[CV 1/3] END max_depth=8, max_leaf_nodes=None, min_samples_leaf=3, splitter=random;, score=-0.118 total time=   0.0s\n",
            "[CV 2/3] END max_depth=8, max_leaf_nodes=None, min_samples_leaf=3, splitter=random;, score=-0.099 total time=   0.0s\n",
            "[CV 3/3] END max_depth=8, max_leaf_nodes=None, min_samples_leaf=3, splitter=random;, score=-0.107 total time=   0.0s\n",
            "[CV 1/3] END max_depth=8, max_leaf_nodes=None, min_samples_leaf=4, splitter=best;, score=-0.085 total time=   0.0s\n",
            "[CV 2/3] END max_depth=8, max_leaf_nodes=None, min_samples_leaf=4, splitter=best;, score=-0.095 total time=   0.0s\n",
            "[CV 3/3] END max_depth=8, max_leaf_nodes=None, min_samples_leaf=4, splitter=best;, score=-0.089 total time=   0.0s\n",
            "[CV 1/3] END max_depth=8, max_leaf_nodes=None, min_samples_leaf=4, splitter=random;, score=-0.095 total time=   0.0s\n",
            "[CV 2/3] END max_depth=8, max_leaf_nodes=None, min_samples_leaf=4, splitter=random;, score=-0.104 total time=   0.0s\n",
            "[CV 3/3] END max_depth=8, max_leaf_nodes=None, min_samples_leaf=4, splitter=random;, score=-0.108 total time=   0.0s\n",
            "[CV 1/3] END max_depth=8, max_leaf_nodes=None, min_samples_leaf=5, splitter=best;, score=-0.086 total time=   0.0s\n",
            "[CV 2/3] END max_depth=8, max_leaf_nodes=None, min_samples_leaf=5, splitter=best;, score=-0.091 total time=   0.0s\n",
            "[CV 3/3] END max_depth=8, max_leaf_nodes=None, min_samples_leaf=5, splitter=best;, score=-0.089 total time=   0.0s\n",
            "[CV 1/3] END max_depth=8, max_leaf_nodes=None, min_samples_leaf=5, splitter=random;, score=-0.097 total time=   0.0s\n",
            "[CV 2/3] END max_depth=8, max_leaf_nodes=None, min_samples_leaf=5, splitter=random;, score=-0.114 total time=   0.0s\n",
            "[CV 3/3] END max_depth=8, max_leaf_nodes=None, min_samples_leaf=5, splitter=random;, score=-0.101 total time=   0.0s\n",
            "[CV 1/3] END max_depth=8, max_leaf_nodes=None, min_samples_leaf=6, splitter=best;, score=-0.088 total time=   0.0s\n",
            "[CV 2/3] END max_depth=8, max_leaf_nodes=None, min_samples_leaf=6, splitter=best;, score=-0.092 total time=   0.0s\n",
            "[CV 3/3] END max_depth=8, max_leaf_nodes=None, min_samples_leaf=6, splitter=best;, score=-0.089 total time=   0.0s\n",
            "[CV 1/3] END max_depth=8, max_leaf_nodes=None, min_samples_leaf=6, splitter=random;, score=-0.093 total time=   0.0s\n",
            "[CV 2/3] END max_depth=8, max_leaf_nodes=None, min_samples_leaf=6, splitter=random;, score=-0.098 total time=   0.0s\n",
            "[CV 3/3] END max_depth=8, max_leaf_nodes=None, min_samples_leaf=6, splitter=random;, score=-0.108 total time=   0.0s\n",
            "[CV 1/3] END max_depth=8, max_leaf_nodes=1, min_samples_leaf=1, splitter=best;, score=nan total time=   0.0s\n",
            "[CV 2/3] END max_depth=8, max_leaf_nodes=1, min_samples_leaf=1, splitter=best;, score=nan total time=   0.0s\n",
            "[CV 3/3] END max_depth=8, max_leaf_nodes=1, min_samples_leaf=1, splitter=best;, score=nan total time=   0.0s\n",
            "[CV 1/3] END max_depth=8, max_leaf_nodes=1, min_samples_leaf=1, splitter=random;, score=nan total time=   0.0s\n",
            "[CV 2/3] END max_depth=8, max_leaf_nodes=1, min_samples_leaf=1, splitter=random;, score=nan total time=   0.0s\n",
            "[CV 3/3] END max_depth=8, max_leaf_nodes=1, min_samples_leaf=1, splitter=random;, score=nan total time=   0.0s\n",
            "[CV 1/3] END max_depth=8, max_leaf_nodes=1, min_samples_leaf=2, splitter=best;, score=nan total time=   0.0s\n",
            "[CV 2/3] END max_depth=8, max_leaf_nodes=1, min_samples_leaf=2, splitter=best;, score=nan total time=   0.0s\n",
            "[CV 3/3] END max_depth=8, max_leaf_nodes=1, min_samples_leaf=2, splitter=best;, score=nan total time=   0.0s\n",
            "[CV 1/3] END max_depth=8, max_leaf_nodes=1, min_samples_leaf=2, splitter=random;, score=nan total time=   0.0s\n",
            "[CV 2/3] END max_depth=8, max_leaf_nodes=1, min_samples_leaf=2, splitter=random;, score=nan total time=   0.0s\n",
            "[CV 3/3] END max_depth=8, max_leaf_nodes=1, min_samples_leaf=2, splitter=random;, score=nan total time=   0.0s\n",
            "[CV 1/3] END max_depth=8, max_leaf_nodes=1, min_samples_leaf=3, splitter=best;, score=nan total time=   0.0s\n",
            "[CV 2/3] END max_depth=8, max_leaf_nodes=1, min_samples_leaf=3, splitter=best;, score=nan total time=   0.0s\n",
            "[CV 3/3] END max_depth=8, max_leaf_nodes=1, min_samples_leaf=3, splitter=best;, score=nan total time=   0.0s\n",
            "[CV 1/3] END max_depth=8, max_leaf_nodes=1, min_samples_leaf=3, splitter=random;, score=nan total time=   0.0s\n",
            "[CV 2/3] END max_depth=8, max_leaf_nodes=1, min_samples_leaf=3, splitter=random;, score=nan total time=   0.0s\n",
            "[CV 3/3] END max_depth=8, max_leaf_nodes=1, min_samples_leaf=3, splitter=random;, score=nan total time=   0.0s\n",
            "[CV 1/3] END max_depth=8, max_leaf_nodes=1, min_samples_leaf=4, splitter=best;, score=nan total time=   0.0s\n",
            "[CV 2/3] END max_depth=8, max_leaf_nodes=1, min_samples_leaf=4, splitter=best;, score=nan total time=   0.0s\n",
            "[CV 3/3] END max_depth=8, max_leaf_nodes=1, min_samples_leaf=4, splitter=best;, score=nan total time=   0.0s\n",
            "[CV 1/3] END max_depth=8, max_leaf_nodes=1, min_samples_leaf=4, splitter=random;, score=nan total time=   0.0s\n",
            "[CV 2/3] END max_depth=8, max_leaf_nodes=1, min_samples_leaf=4, splitter=random;, score=nan total time=   0.0s\n",
            "[CV 3/3] END max_depth=8, max_leaf_nodes=1, min_samples_leaf=4, splitter=random;, score=nan total time=   0.0s\n",
            "[CV 1/3] END max_depth=8, max_leaf_nodes=1, min_samples_leaf=5, splitter=best;, score=nan total time=   0.0s\n",
            "[CV 2/3] END max_depth=8, max_leaf_nodes=1, min_samples_leaf=5, splitter=best;, score=nan total time=   0.0s\n",
            "[CV 3/3] END max_depth=8, max_leaf_nodes=1, min_samples_leaf=5, splitter=best;, score=nan total time=   0.0s\n",
            "[CV 1/3] END max_depth=8, max_leaf_nodes=1, min_samples_leaf=5, splitter=random;, score=nan total time=   0.0s\n",
            "[CV 2/3] END max_depth=8, max_leaf_nodes=1, min_samples_leaf=5, splitter=random;, score=nan total time=   0.0s\n",
            "[CV 3/3] END max_depth=8, max_leaf_nodes=1, min_samples_leaf=5, splitter=random;, score=nan total time=   0.0s\n",
            "[CV 1/3] END max_depth=8, max_leaf_nodes=1, min_samples_leaf=6, splitter=best;, score=nan total time=   0.0s\n",
            "[CV 2/3] END max_depth=8, max_leaf_nodes=1, min_samples_leaf=6, splitter=best;, score=nan total time=   0.0s\n",
            "[CV 3/3] END max_depth=8, max_leaf_nodes=1, min_samples_leaf=6, splitter=best;, score=nan total time=   0.0s\n",
            "[CV 1/3] END max_depth=8, max_leaf_nodes=1, min_samples_leaf=6, splitter=random;, score=nan total time=   0.0s\n",
            "[CV 2/3] END max_depth=8, max_leaf_nodes=1, min_samples_leaf=6, splitter=random;, score=nan total time=   0.0s\n",
            "[CV 3/3] END max_depth=8, max_leaf_nodes=1, min_samples_leaf=6, splitter=random;, score=nan total time=   0.0s\n",
            "[CV 1/3] END max_depth=8, max_leaf_nodes=2, min_samples_leaf=1, splitter=best;, score=-0.178 total time=   0.0s\n",
            "[CV 2/3] END max_depth=8, max_leaf_nodes=2, min_samples_leaf=1, splitter=best;, score=-0.191 total time=   0.0s\n",
            "[CV 3/3] END max_depth=8, max_leaf_nodes=2, min_samples_leaf=1, splitter=best;, score=-0.177 total time=   0.0s\n",
            "[CV 1/3] END max_depth=8, max_leaf_nodes=2, min_samples_leaf=1, splitter=random;, score=-0.206 total time=   0.0s\n",
            "[CV 2/3] END max_depth=8, max_leaf_nodes=2, min_samples_leaf=1, splitter=random;, score=-0.216 total time=   0.0s\n",
            "[CV 3/3] END max_depth=8, max_leaf_nodes=2, min_samples_leaf=1, splitter=random;, score=-0.202 total time=   0.0s\n",
            "[CV 1/3] END max_depth=8, max_leaf_nodes=2, min_samples_leaf=2, splitter=best;, score=-0.178 total time=   0.0s\n",
            "[CV 2/3] END max_depth=8, max_leaf_nodes=2, min_samples_leaf=2, splitter=best;, score=-0.191 total time=   0.0s\n",
            "[CV 3/3] END max_depth=8, max_leaf_nodes=2, min_samples_leaf=2, splitter=best;, score=-0.177 total time=   0.0s\n",
            "[CV 1/3] END max_depth=8, max_leaf_nodes=2, min_samples_leaf=2, splitter=random;, score=-0.206 total time=   0.0s\n",
            "[CV 2/3] END max_depth=8, max_leaf_nodes=2, min_samples_leaf=2, splitter=random;, score=-0.216 total time=   0.0s\n",
            "[CV 3/3] END max_depth=8, max_leaf_nodes=2, min_samples_leaf=2, splitter=random;, score=-0.202 total time=   0.0s\n",
            "[CV 1/3] END max_depth=8, max_leaf_nodes=2, min_samples_leaf=3, splitter=best;, score=-0.178 total time=   0.0s\n",
            "[CV 2/3] END max_depth=8, max_leaf_nodes=2, min_samples_leaf=3, splitter=best;, score=-0.191 total time=   0.0s\n",
            "[CV 3/3] END max_depth=8, max_leaf_nodes=2, min_samples_leaf=3, splitter=best;, score=-0.177 total time=   0.0s\n",
            "[CV 1/3] END max_depth=8, max_leaf_nodes=2, min_samples_leaf=3, splitter=random;, score=-0.206 total time=   0.0s\n",
            "[CV 2/3] END max_depth=8, max_leaf_nodes=2, min_samples_leaf=3, splitter=random;, score=-0.216 total time=   0.0s\n",
            "[CV 3/3] END max_depth=8, max_leaf_nodes=2, min_samples_leaf=3, splitter=random;, score=-0.202 total time=   0.0s\n",
            "[CV 1/3] END max_depth=8, max_leaf_nodes=2, min_samples_leaf=4, splitter=best;, score=-0.178 total time=   0.0s\n",
            "[CV 2/3] END max_depth=8, max_leaf_nodes=2, min_samples_leaf=4, splitter=best;, score=-0.191 total time=   0.0s\n",
            "[CV 3/3] END max_depth=8, max_leaf_nodes=2, min_samples_leaf=4, splitter=best;, score=-0.177 total time=   0.0s\n",
            "[CV 1/3] END max_depth=8, max_leaf_nodes=2, min_samples_leaf=4, splitter=random;, score=-0.206 total time=   0.0s\n",
            "[CV 2/3] END max_depth=8, max_leaf_nodes=2, min_samples_leaf=4, splitter=random;, score=-0.216 total time=   0.0s\n",
            "[CV 3/3] END max_depth=8, max_leaf_nodes=2, min_samples_leaf=4, splitter=random;, score=-0.202 total time=   0.0s\n",
            "[CV 1/3] END max_depth=8, max_leaf_nodes=2, min_samples_leaf=5, splitter=best;, score=-0.178 total time=   0.0s\n",
            "[CV 2/3] END max_depth=8, max_leaf_nodes=2, min_samples_leaf=5, splitter=best;, score=-0.191 total time=   0.0s\n",
            "[CV 3/3] END max_depth=8, max_leaf_nodes=2, min_samples_leaf=5, splitter=best;, score=-0.177 total time=   0.0s\n",
            "[CV 1/3] END max_depth=8, max_leaf_nodes=2, min_samples_leaf=5, splitter=random;, score=-0.206 total time=   0.0s\n",
            "[CV 2/3] END max_depth=8, max_leaf_nodes=2, min_samples_leaf=5, splitter=random;, score=-0.216 total time=   0.0s\n",
            "[CV 3/3] END max_depth=8, max_leaf_nodes=2, min_samples_leaf=5, splitter=random;, score=-0.202 total time=   0.0s\n",
            "[CV 1/3] END max_depth=8, max_leaf_nodes=2, min_samples_leaf=6, splitter=best;, score=-0.178 total time=   0.0s\n",
            "[CV 2/3] END max_depth=8, max_leaf_nodes=2, min_samples_leaf=6, splitter=best;, score=-0.191 total time=   0.0s\n",
            "[CV 3/3] END max_depth=8, max_leaf_nodes=2, min_samples_leaf=6, splitter=best;, score=-0.177 total time=   0.0s\n",
            "[CV 1/3] END max_depth=8, max_leaf_nodes=2, min_samples_leaf=6, splitter=random;, score=-0.206 total time=   0.0s\n",
            "[CV 2/3] END max_depth=8, max_leaf_nodes=2, min_samples_leaf=6, splitter=random;, score=-0.216 total time=   0.0s\n",
            "[CV 3/3] END max_depth=8, max_leaf_nodes=2, min_samples_leaf=6, splitter=random;, score=-0.202 total time=   0.0s\n",
            "[CV 1/3] END max_depth=8, max_leaf_nodes=3, min_samples_leaf=1, splitter=best;, score=-0.178 total time=   0.0s\n",
            "[CV 2/3] END max_depth=8, max_leaf_nodes=3, min_samples_leaf=1, splitter=best;, score=-0.191 total time=   0.0s\n",
            "[CV 3/3] END max_depth=8, max_leaf_nodes=3, min_samples_leaf=1, splitter=best;, score=-0.183 total time=   0.0s\n",
            "[CV 1/3] END max_depth=8, max_leaf_nodes=3, min_samples_leaf=1, splitter=random;, score=-0.179 total time=   0.0s\n",
            "[CV 2/3] END max_depth=8, max_leaf_nodes=3, min_samples_leaf=1, splitter=random;, score=-0.185 total time=   0.0s\n",
            "[CV 3/3] END max_depth=8, max_leaf_nodes=3, min_samples_leaf=1, splitter=random;, score=-0.183 total time=   0.0s\n",
            "[CV 1/3] END max_depth=8, max_leaf_nodes=3, min_samples_leaf=2, splitter=best;, score=-0.178 total time=   0.0s\n",
            "[CV 2/3] END max_depth=8, max_leaf_nodes=3, min_samples_leaf=2, splitter=best;, score=-0.191 total time=   0.0s\n",
            "[CV 3/3] END max_depth=8, max_leaf_nodes=3, min_samples_leaf=2, splitter=best;, score=-0.183 total time=   0.0s\n",
            "[CV 1/3] END max_depth=8, max_leaf_nodes=3, min_samples_leaf=2, splitter=random;, score=-0.179 total time=   0.0s\n",
            "[CV 2/3] END max_depth=8, max_leaf_nodes=3, min_samples_leaf=2, splitter=random;, score=-0.185 total time=   0.0s\n",
            "[CV 3/3] END max_depth=8, max_leaf_nodes=3, min_samples_leaf=2, splitter=random;, score=-0.183 total time=   0.0s\n",
            "[CV 1/3] END max_depth=8, max_leaf_nodes=3, min_samples_leaf=3, splitter=best;, score=-0.178 total time=   0.0s\n",
            "[CV 2/3] END max_depth=8, max_leaf_nodes=3, min_samples_leaf=3, splitter=best;, score=-0.191 total time=   0.0s\n",
            "[CV 3/3] END max_depth=8, max_leaf_nodes=3, min_samples_leaf=3, splitter=best;, score=-0.183 total time=   0.0s\n",
            "[CV 1/3] END max_depth=8, max_leaf_nodes=3, min_samples_leaf=3, splitter=random;, score=-0.179 total time=   0.0s\n",
            "[CV 2/3] END max_depth=8, max_leaf_nodes=3, min_samples_leaf=3, splitter=random;, score=-0.185 total time=   0.0s\n",
            "[CV 3/3] END max_depth=8, max_leaf_nodes=3, min_samples_leaf=3, splitter=random;, score=-0.183 total time=   0.0s\n",
            "[CV 1/3] END max_depth=8, max_leaf_nodes=3, min_samples_leaf=4, splitter=best;, score=-0.178 total time=   0.0s\n",
            "[CV 2/3] END max_depth=8, max_leaf_nodes=3, min_samples_leaf=4, splitter=best;, score=-0.191 total time=   0.0s\n",
            "[CV 3/3] END max_depth=8, max_leaf_nodes=3, min_samples_leaf=4, splitter=best;, score=-0.183 total time=   0.0s\n",
            "[CV 1/3] END max_depth=8, max_leaf_nodes=3, min_samples_leaf=4, splitter=random;, score=-0.179 total time=   0.0s\n",
            "[CV 2/3] END max_depth=8, max_leaf_nodes=3, min_samples_leaf=4, splitter=random;, score=-0.185 total time=   0.0s\n",
            "[CV 3/3] END max_depth=8, max_leaf_nodes=3, min_samples_leaf=4, splitter=random;, score=-0.183 total time=   0.0s\n",
            "[CV 1/3] END max_depth=8, max_leaf_nodes=3, min_samples_leaf=5, splitter=best;, score=-0.178 total time=   0.0s\n",
            "[CV 2/3] END max_depth=8, max_leaf_nodes=3, min_samples_leaf=5, splitter=best;, score=-0.191 total time=   0.0s\n",
            "[CV 3/3] END max_depth=8, max_leaf_nodes=3, min_samples_leaf=5, splitter=best;, score=-0.183 total time=   0.0s\n",
            "[CV 1/3] END max_depth=8, max_leaf_nodes=3, min_samples_leaf=5, splitter=random;, score=-0.179 total time=   0.0s\n",
            "[CV 2/3] END max_depth=8, max_leaf_nodes=3, min_samples_leaf=5, splitter=random;, score=-0.185 total time=   0.0s\n",
            "[CV 3/3] END max_depth=8, max_leaf_nodes=3, min_samples_leaf=5, splitter=random;, score=-0.183 total time=   0.0s\n",
            "[CV 1/3] END max_depth=8, max_leaf_nodes=3, min_samples_leaf=6, splitter=best;, score=-0.178 total time=   0.0s\n",
            "[CV 2/3] END max_depth=8, max_leaf_nodes=3, min_samples_leaf=6, splitter=best;, score=-0.191 total time=   0.0s\n",
            "[CV 3/3] END max_depth=8, max_leaf_nodes=3, min_samples_leaf=6, splitter=best;, score=-0.183 total time=   0.0s\n",
            "[CV 1/3] END max_depth=8, max_leaf_nodes=3, min_samples_leaf=6, splitter=random;, score=-0.179 total time=   0.0s\n",
            "[CV 2/3] END max_depth=8, max_leaf_nodes=3, min_samples_leaf=6, splitter=random;, score=-0.185 total time=   0.0s\n",
            "[CV 3/3] END max_depth=8, max_leaf_nodes=3, min_samples_leaf=6, splitter=random;, score=-0.183 total time=   0.0s\n",
            "[CV 1/3] END max_depth=8, max_leaf_nodes=4, min_samples_leaf=1, splitter=best;, score=-0.102 total time=   0.0s\n",
            "[CV 2/3] END max_depth=8, max_leaf_nodes=4, min_samples_leaf=1, splitter=best;, score=-0.114 total time=   0.0s\n",
            "[CV 3/3] END max_depth=8, max_leaf_nodes=4, min_samples_leaf=1, splitter=best;, score=-0.107 total time=   0.0s\n",
            "[CV 1/3] END max_depth=8, max_leaf_nodes=4, min_samples_leaf=1, splitter=random;, score=-0.135 total time=   0.0s\n",
            "[CV 2/3] END max_depth=8, max_leaf_nodes=4, min_samples_leaf=1, splitter=random;, score=-0.141 total time=   0.0s\n",
            "[CV 3/3] END max_depth=8, max_leaf_nodes=4, min_samples_leaf=1, splitter=random;, score=-0.136 total time=   0.0s\n",
            "[CV 1/3] END max_depth=8, max_leaf_nodes=4, min_samples_leaf=2, splitter=best;, score=-0.102 total time=   0.0s\n",
            "[CV 2/3] END max_depth=8, max_leaf_nodes=4, min_samples_leaf=2, splitter=best;, score=-0.114 total time=   0.0s\n",
            "[CV 3/3] END max_depth=8, max_leaf_nodes=4, min_samples_leaf=2, splitter=best;, score=-0.107 total time=   0.0s\n",
            "[CV 1/3] END max_depth=8, max_leaf_nodes=4, min_samples_leaf=2, splitter=random;, score=-0.135 total time=   0.0s\n",
            "[CV 2/3] END max_depth=8, max_leaf_nodes=4, min_samples_leaf=2, splitter=random;, score=-0.141 total time=   0.0s\n",
            "[CV 3/3] END max_depth=8, max_leaf_nodes=4, min_samples_leaf=2, splitter=random;, score=-0.136 total time=   0.0s\n",
            "[CV 1/3] END max_depth=8, max_leaf_nodes=4, min_samples_leaf=3, splitter=best;, score=-0.102 total time=   0.0s\n",
            "[CV 2/3] END max_depth=8, max_leaf_nodes=4, min_samples_leaf=3, splitter=best;, score=-0.114 total time=   0.0s\n",
            "[CV 3/3] END max_depth=8, max_leaf_nodes=4, min_samples_leaf=3, splitter=best;, score=-0.107 total time=   0.0s\n",
            "[CV 1/3] END max_depth=8, max_leaf_nodes=4, min_samples_leaf=3, splitter=random;, score=-0.135 total time=   0.0s\n",
            "[CV 2/3] END max_depth=8, max_leaf_nodes=4, min_samples_leaf=3, splitter=random;, score=-0.141 total time=   0.0s\n",
            "[CV 3/3] END max_depth=8, max_leaf_nodes=4, min_samples_leaf=3, splitter=random;, score=-0.136 total time=   0.0s\n",
            "[CV 1/3] END max_depth=8, max_leaf_nodes=4, min_samples_leaf=4, splitter=best;, score=-0.102 total time=   0.0s\n",
            "[CV 2/3] END max_depth=8, max_leaf_nodes=4, min_samples_leaf=4, splitter=best;, score=-0.114 total time=   0.0s\n",
            "[CV 3/3] END max_depth=8, max_leaf_nodes=4, min_samples_leaf=4, splitter=best;, score=-0.107 total time=   0.0s\n",
            "[CV 1/3] END max_depth=8, max_leaf_nodes=4, min_samples_leaf=4, splitter=random;, score=-0.135 total time=   0.0s\n",
            "[CV 2/3] END max_depth=8, max_leaf_nodes=4, min_samples_leaf=4, splitter=random;, score=-0.141 total time=   0.0s\n",
            "[CV 3/3] END max_depth=8, max_leaf_nodes=4, min_samples_leaf=4, splitter=random;, score=-0.136 total time=   0.0s\n",
            "[CV 1/3] END max_depth=8, max_leaf_nodes=4, min_samples_leaf=5, splitter=best;, score=-0.102 total time=   0.0s\n",
            "[CV 2/3] END max_depth=8, max_leaf_nodes=4, min_samples_leaf=5, splitter=best;, score=-0.114 total time=   0.0s\n",
            "[CV 3/3] END max_depth=8, max_leaf_nodes=4, min_samples_leaf=5, splitter=best;, score=-0.107 total time=   0.0s\n",
            "[CV 1/3] END max_depth=8, max_leaf_nodes=4, min_samples_leaf=5, splitter=random;, score=-0.135 total time=   0.0s\n",
            "[CV 2/3] END max_depth=8, max_leaf_nodes=4, min_samples_leaf=5, splitter=random;, score=-0.141 total time=   0.0s\n",
            "[CV 3/3] END max_depth=8, max_leaf_nodes=4, min_samples_leaf=5, splitter=random;, score=-0.136 total time=   0.0s\n",
            "[CV 1/3] END max_depth=8, max_leaf_nodes=4, min_samples_leaf=6, splitter=best;, score=-0.102 total time=   0.0s\n",
            "[CV 2/3] END max_depth=8, max_leaf_nodes=4, min_samples_leaf=6, splitter=best;, score=-0.114 total time=   0.0s\n",
            "[CV 3/3] END max_depth=8, max_leaf_nodes=4, min_samples_leaf=6, splitter=best;, score=-0.107 total time=   0.0s\n",
            "[CV 1/3] END max_depth=8, max_leaf_nodes=4, min_samples_leaf=6, splitter=random;, score=-0.135 total time=   0.0s\n",
            "[CV 2/3] END max_depth=8, max_leaf_nodes=4, min_samples_leaf=6, splitter=random;, score=-0.141 total time=   0.0s\n",
            "[CV 3/3] END max_depth=8, max_leaf_nodes=4, min_samples_leaf=6, splitter=random;, score=-0.136 total time=   0.0s\n",
            "[CV 1/3] END max_depth=13, max_leaf_nodes=None, min_samples_leaf=1, splitter=best;, score=-0.086 total time=   0.0s\n",
            "[CV 2/3] END max_depth=13, max_leaf_nodes=None, min_samples_leaf=1, splitter=best;, score=-0.099 total time=   0.0s\n",
            "[CV 3/3] END max_depth=13, max_leaf_nodes=None, min_samples_leaf=1, splitter=best;, score=-0.088 total time=   0.0s\n",
            "[CV 1/3] END max_depth=13, max_leaf_nodes=None, min_samples_leaf=1, splitter=random;, score=-0.092 total time=   0.0s\n",
            "[CV 2/3] END max_depth=13, max_leaf_nodes=None, min_samples_leaf=1, splitter=random;, score=-0.101 total time=   0.0s\n",
            "[CV 3/3] END max_depth=13, max_leaf_nodes=None, min_samples_leaf=1, splitter=random;, score=-0.095 total time=   0.0s\n",
            "[CV 1/3] END max_depth=13, max_leaf_nodes=None, min_samples_leaf=2, splitter=best;, score=-0.089 total time=   0.0s\n",
            "[CV 2/3] END max_depth=13, max_leaf_nodes=None, min_samples_leaf=2, splitter=best;, score=-0.101 total time=   0.0s\n",
            "[CV 3/3] END max_depth=13, max_leaf_nodes=None, min_samples_leaf=2, splitter=best;, score=-0.089 total time=   0.0s\n",
            "[CV 1/3] END max_depth=13, max_leaf_nodes=None, min_samples_leaf=2, splitter=random;, score=-0.093 total time=   0.0s\n",
            "[CV 2/3] END max_depth=13, max_leaf_nodes=None, min_samples_leaf=2, splitter=random;, score=-0.101 total time=   0.0s\n",
            "[CV 3/3] END max_depth=13, max_leaf_nodes=None, min_samples_leaf=2, splitter=random;, score=-0.099 total time=   0.0s\n",
            "[CV 1/3] END max_depth=13, max_leaf_nodes=None, min_samples_leaf=3, splitter=best;, score=-0.091 total time=   0.0s\n",
            "[CV 2/3] END max_depth=13, max_leaf_nodes=None, min_samples_leaf=3, splitter=best;, score=-0.100 total time=   0.0s\n",
            "[CV 3/3] END max_depth=13, max_leaf_nodes=None, min_samples_leaf=3, splitter=best;, score=-0.088 total time=   0.0s\n",
            "[CV 1/3] END max_depth=13, max_leaf_nodes=None, min_samples_leaf=3, splitter=random;, score=-0.100 total time=   0.0s\n",
            "[CV 2/3] END max_depth=13, max_leaf_nodes=None, min_samples_leaf=3, splitter=random;, score=-0.102 total time=   0.0s\n",
            "[CV 3/3] END max_depth=13, max_leaf_nodes=None, min_samples_leaf=3, splitter=random;, score=-0.094 total time=   0.0s\n",
            "[CV 1/3] END max_depth=13, max_leaf_nodes=None, min_samples_leaf=4, splitter=best;, score=-0.089 total time=   0.0s\n",
            "[CV 2/3] END max_depth=13, max_leaf_nodes=None, min_samples_leaf=4, splitter=best;, score=-0.100 total time=   0.0s\n",
            "[CV 3/3] END max_depth=13, max_leaf_nodes=None, min_samples_leaf=4, splitter=best;, score=-0.086 total time=   0.0s\n",
            "[CV 1/3] END max_depth=13, max_leaf_nodes=None, min_samples_leaf=4, splitter=random;, score=-0.105 total time=   0.0s\n",
            "[CV 2/3] END max_depth=13, max_leaf_nodes=None, min_samples_leaf=4, splitter=random;, score=-0.098 total time=   0.0s\n",
            "[CV 3/3] END max_depth=13, max_leaf_nodes=None, min_samples_leaf=4, splitter=random;, score=-0.092 total time=   0.0s\n",
            "[CV 1/3] END max_depth=13, max_leaf_nodes=None, min_samples_leaf=5, splitter=best;, score=-0.090 total time=   0.0s\n",
            "[CV 2/3] END max_depth=13, max_leaf_nodes=None, min_samples_leaf=5, splitter=best;, score=-0.103 total time=   0.0s\n",
            "[CV 3/3] END max_depth=13, max_leaf_nodes=None, min_samples_leaf=5, splitter=best;, score=-0.085 total time=   0.0s\n",
            "[CV 1/3] END max_depth=13, max_leaf_nodes=None, min_samples_leaf=5, splitter=random;, score=-0.097 total time=   0.0s\n",
            "[CV 2/3] END max_depth=13, max_leaf_nodes=None, min_samples_leaf=5, splitter=random;, score=-0.098 total time=   0.0s\n",
            "[CV 3/3] END max_depth=13, max_leaf_nodes=None, min_samples_leaf=5, splitter=random;, score=-0.096 total time=   0.0s\n",
            "[CV 1/3] END max_depth=13, max_leaf_nodes=None, min_samples_leaf=6, splitter=best;, score=-0.095 total time=   0.0s\n",
            "[CV 2/3] END max_depth=13, max_leaf_nodes=None, min_samples_leaf=6, splitter=best;, score=-0.103 total time=   0.0s\n",
            "[CV 3/3] END max_depth=13, max_leaf_nodes=None, min_samples_leaf=6, splitter=best;, score=-0.085 total time=   0.0s\n",
            "[CV 1/3] END max_depth=13, max_leaf_nodes=None, min_samples_leaf=6, splitter=random;, score=-0.094 total time=   0.0s\n",
            "[CV 2/3] END max_depth=13, max_leaf_nodes=None, min_samples_leaf=6, splitter=random;, score=-0.111 total time=   0.0s\n",
            "[CV 3/3] END max_depth=13, max_leaf_nodes=None, min_samples_leaf=6, splitter=random;, score=-0.101 total time=   0.0s\n",
            "[CV 1/3] END max_depth=13, max_leaf_nodes=1, min_samples_leaf=1, splitter=best;, score=nan total time=   0.0s\n",
            "[CV 2/3] END max_depth=13, max_leaf_nodes=1, min_samples_leaf=1, splitter=best;, score=nan total time=   0.0s\n",
            "[CV 3/3] END max_depth=13, max_leaf_nodes=1, min_samples_leaf=1, splitter=best;, score=nan total time=   0.0s\n",
            "[CV 1/3] END max_depth=13, max_leaf_nodes=1, min_samples_leaf=1, splitter=random;, score=nan total time=   0.0s\n",
            "[CV 2/3] END max_depth=13, max_leaf_nodes=1, min_samples_leaf=1, splitter=random;, score=nan total time=   0.0s\n",
            "[CV 3/3] END max_depth=13, max_leaf_nodes=1, min_samples_leaf=1, splitter=random;, score=nan total time=   0.0s\n",
            "[CV 1/3] END max_depth=13, max_leaf_nodes=1, min_samples_leaf=2, splitter=best;, score=nan total time=   0.0s\n",
            "[CV 2/3] END max_depth=13, max_leaf_nodes=1, min_samples_leaf=2, splitter=best;, score=nan total time=   0.0s\n",
            "[CV 3/3] END max_depth=13, max_leaf_nodes=1, min_samples_leaf=2, splitter=best;, score=nan total time=   0.0s\n",
            "[CV 1/3] END max_depth=13, max_leaf_nodes=1, min_samples_leaf=2, splitter=random;, score=nan total time=   0.0s\n",
            "[CV 2/3] END max_depth=13, max_leaf_nodes=1, min_samples_leaf=2, splitter=random;, score=nan total time=   0.0s\n",
            "[CV 3/3] END max_depth=13, max_leaf_nodes=1, min_samples_leaf=2, splitter=random;, score=nan total time=   0.0s\n",
            "[CV 1/3] END max_depth=13, max_leaf_nodes=1, min_samples_leaf=3, splitter=best;, score=nan total time=   0.0s\n",
            "[CV 2/3] END max_depth=13, max_leaf_nodes=1, min_samples_leaf=3, splitter=best;, score=nan total time=   0.0s\n",
            "[CV 3/3] END max_depth=13, max_leaf_nodes=1, min_samples_leaf=3, splitter=best;, score=nan total time=   0.0s\n",
            "[CV 1/3] END max_depth=13, max_leaf_nodes=1, min_samples_leaf=3, splitter=random;, score=nan total time=   0.0s\n",
            "[CV 2/3] END max_depth=13, max_leaf_nodes=1, min_samples_leaf=3, splitter=random;, score=nan total time=   0.0s\n",
            "[CV 3/3] END max_depth=13, max_leaf_nodes=1, min_samples_leaf=3, splitter=random;, score=nan total time=   0.0s\n",
            "[CV 1/3] END max_depth=13, max_leaf_nodes=1, min_samples_leaf=4, splitter=best;, score=nan total time=   0.0s\n",
            "[CV 2/3] END max_depth=13, max_leaf_nodes=1, min_samples_leaf=4, splitter=best;, score=nan total time=   0.0s\n",
            "[CV 3/3] END max_depth=13, max_leaf_nodes=1, min_samples_leaf=4, splitter=best;, score=nan total time=   0.0s\n",
            "[CV 1/3] END max_depth=13, max_leaf_nodes=1, min_samples_leaf=4, splitter=random;, score=nan total time=   0.0s\n",
            "[CV 2/3] END max_depth=13, max_leaf_nodes=1, min_samples_leaf=4, splitter=random;, score=nan total time=   0.0s\n",
            "[CV 3/3] END max_depth=13, max_leaf_nodes=1, min_samples_leaf=4, splitter=random;, score=nan total time=   0.0s\n",
            "[CV 1/3] END max_depth=13, max_leaf_nodes=1, min_samples_leaf=5, splitter=best;, score=nan total time=   0.0s\n",
            "[CV 2/3] END max_depth=13, max_leaf_nodes=1, min_samples_leaf=5, splitter=best;, score=nan total time=   0.0s\n",
            "[CV 3/3] END max_depth=13, max_leaf_nodes=1, min_samples_leaf=5, splitter=best;, score=nan total time=   0.0s\n",
            "[CV 1/3] END max_depth=13, max_leaf_nodes=1, min_samples_leaf=5, splitter=random;, score=nan total time=   0.0s\n",
            "[CV 2/3] END max_depth=13, max_leaf_nodes=1, min_samples_leaf=5, splitter=random;, score=nan total time=   0.0s\n",
            "[CV 3/3] END max_depth=13, max_leaf_nodes=1, min_samples_leaf=5, splitter=random;, score=nan total time=   0.0s\n",
            "[CV 1/3] END max_depth=13, max_leaf_nodes=1, min_samples_leaf=6, splitter=best;, score=nan total time=   0.0s\n",
            "[CV 2/3] END max_depth=13, max_leaf_nodes=1, min_samples_leaf=6, splitter=best;, score=nan total time=   0.0s\n",
            "[CV 3/3] END max_depth=13, max_leaf_nodes=1, min_samples_leaf=6, splitter=best;, score=nan total time=   0.0s\n",
            "[CV 1/3] END max_depth=13, max_leaf_nodes=1, min_samples_leaf=6, splitter=random;, score=nan total time=   0.0s\n",
            "[CV 2/3] END max_depth=13, max_leaf_nodes=1, min_samples_leaf=6, splitter=random;, score=nan total time=   0.0s\n",
            "[CV 3/3] END max_depth=13, max_leaf_nodes=1, min_samples_leaf=6, splitter=random;, score=nan total time=   0.0s\n",
            "[CV 1/3] END max_depth=13, max_leaf_nodes=2, min_samples_leaf=1, splitter=best;, score=-0.178 total time=   0.0s\n",
            "[CV 2/3] END max_depth=13, max_leaf_nodes=2, min_samples_leaf=1, splitter=best;, score=-0.191 total time=   0.0s\n",
            "[CV 3/3] END max_depth=13, max_leaf_nodes=2, min_samples_leaf=1, splitter=best;, score=-0.177 total time=   0.0s\n",
            "[CV 1/3] END max_depth=13, max_leaf_nodes=2, min_samples_leaf=1, splitter=random;, score=-0.206 total time=   0.0s\n",
            "[CV 2/3] END max_depth=13, max_leaf_nodes=2, min_samples_leaf=1, splitter=random;, score=-0.216 total time=   0.0s\n",
            "[CV 3/3] END max_depth=13, max_leaf_nodes=2, min_samples_leaf=1, splitter=random;, score=-0.202 total time=   0.0s\n",
            "[CV 1/3] END max_depth=13, max_leaf_nodes=2, min_samples_leaf=2, splitter=best;, score=-0.178 total time=   0.0s\n",
            "[CV 2/3] END max_depth=13, max_leaf_nodes=2, min_samples_leaf=2, splitter=best;, score=-0.191 total time=   0.0s\n",
            "[CV 3/3] END max_depth=13, max_leaf_nodes=2, min_samples_leaf=2, splitter=best;, score=-0.177 total time=   0.0s\n",
            "[CV 1/3] END max_depth=13, max_leaf_nodes=2, min_samples_leaf=2, splitter=random;, score=-0.206 total time=   0.0s\n",
            "[CV 2/3] END max_depth=13, max_leaf_nodes=2, min_samples_leaf=2, splitter=random;, score=-0.216 total time=   0.0s\n",
            "[CV 3/3] END max_depth=13, max_leaf_nodes=2, min_samples_leaf=2, splitter=random;, score=-0.202 total time=   0.0s\n",
            "[CV 1/3] END max_depth=13, max_leaf_nodes=2, min_samples_leaf=3, splitter=best;, score=-0.178 total time=   0.0s\n",
            "[CV 2/3] END max_depth=13, max_leaf_nodes=2, min_samples_leaf=3, splitter=best;, score=-0.191 total time=   0.0s\n",
            "[CV 3/3] END max_depth=13, max_leaf_nodes=2, min_samples_leaf=3, splitter=best;, score=-0.177 total time=   0.0s\n",
            "[CV 1/3] END max_depth=13, max_leaf_nodes=2, min_samples_leaf=3, splitter=random;, score=-0.206 total time=   0.0s\n",
            "[CV 2/3] END max_depth=13, max_leaf_nodes=2, min_samples_leaf=3, splitter=random;, score=-0.216 total time=   0.0s\n",
            "[CV 3/3] END max_depth=13, max_leaf_nodes=2, min_samples_leaf=3, splitter=random;, score=-0.202 total time=   0.0s\n",
            "[CV 1/3] END max_depth=13, max_leaf_nodes=2, min_samples_leaf=4, splitter=best;, score=-0.178 total time=   0.0s\n",
            "[CV 2/3] END max_depth=13, max_leaf_nodes=2, min_samples_leaf=4, splitter=best;, score=-0.191 total time=   0.0s\n",
            "[CV 3/3] END max_depth=13, max_leaf_nodes=2, min_samples_leaf=4, splitter=best;, score=-0.177 total time=   0.0s\n",
            "[CV 1/3] END max_depth=13, max_leaf_nodes=2, min_samples_leaf=4, splitter=random;, score=-0.206 total time=   0.0s\n",
            "[CV 2/3] END max_depth=13, max_leaf_nodes=2, min_samples_leaf=4, splitter=random;, score=-0.216 total time=   0.0s\n",
            "[CV 3/3] END max_depth=13, max_leaf_nodes=2, min_samples_leaf=4, splitter=random;, score=-0.202 total time=   0.0s\n",
            "[CV 1/3] END max_depth=13, max_leaf_nodes=2, min_samples_leaf=5, splitter=best;, score=-0.178 total time=   0.0s\n",
            "[CV 2/3] END max_depth=13, max_leaf_nodes=2, min_samples_leaf=5, splitter=best;, score=-0.191 total time=   0.0s\n",
            "[CV 3/3] END max_depth=13, max_leaf_nodes=2, min_samples_leaf=5, splitter=best;, score=-0.177 total time=   0.0s\n",
            "[CV 1/3] END max_depth=13, max_leaf_nodes=2, min_samples_leaf=5, splitter=random;, score=-0.206 total time=   0.0s\n",
            "[CV 2/3] END max_depth=13, max_leaf_nodes=2, min_samples_leaf=5, splitter=random;, score=-0.216 total time=   0.0s\n",
            "[CV 3/3] END max_depth=13, max_leaf_nodes=2, min_samples_leaf=5, splitter=random;, score=-0.202 total time=   0.0s\n",
            "[CV 1/3] END max_depth=13, max_leaf_nodes=2, min_samples_leaf=6, splitter=best;, score=-0.178 total time=   0.0s\n",
            "[CV 2/3] END max_depth=13, max_leaf_nodes=2, min_samples_leaf=6, splitter=best;, score=-0.191 total time=   0.0s\n",
            "[CV 3/3] END max_depth=13, max_leaf_nodes=2, min_samples_leaf=6, splitter=best;, score=-0.177 total time=   0.0s\n",
            "[CV 1/3] END max_depth=13, max_leaf_nodes=2, min_samples_leaf=6, splitter=random;, score=-0.206 total time=   0.0s\n",
            "[CV 2/3] END max_depth=13, max_leaf_nodes=2, min_samples_leaf=6, splitter=random;, score=-0.216 total time=   0.0s\n",
            "[CV 3/3] END max_depth=13, max_leaf_nodes=2, min_samples_leaf=6, splitter=random;, score=-0.202 total time=   0.0s\n",
            "[CV 1/3] END max_depth=13, max_leaf_nodes=3, min_samples_leaf=1, splitter=best;, score=-0.178 total time=   0.0s\n",
            "[CV 2/3] END max_depth=13, max_leaf_nodes=3, min_samples_leaf=1, splitter=best;, score=-0.191 total time=   0.0s\n",
            "[CV 3/3] END max_depth=13, max_leaf_nodes=3, min_samples_leaf=1, splitter=best;, score=-0.183 total time=   0.0s\n",
            "[CV 1/3] END max_depth=13, max_leaf_nodes=3, min_samples_leaf=1, splitter=random;, score=-0.179 total time=   0.0s\n",
            "[CV 2/3] END max_depth=13, max_leaf_nodes=3, min_samples_leaf=1, splitter=random;, score=-0.185 total time=   0.0s\n",
            "[CV 3/3] END max_depth=13, max_leaf_nodes=3, min_samples_leaf=1, splitter=random;, score=-0.183 total time=   0.0s\n",
            "[CV 1/3] END max_depth=13, max_leaf_nodes=3, min_samples_leaf=2, splitter=best;, score=-0.178 total time=   0.0s\n",
            "[CV 2/3] END max_depth=13, max_leaf_nodes=3, min_samples_leaf=2, splitter=best;, score=-0.191 total time=   0.0s\n",
            "[CV 3/3] END max_depth=13, max_leaf_nodes=3, min_samples_leaf=2, splitter=best;, score=-0.183 total time=   0.0s\n",
            "[CV 1/3] END max_depth=13, max_leaf_nodes=3, min_samples_leaf=2, splitter=random;, score=-0.179 total time=   0.0s\n",
            "[CV 2/3] END max_depth=13, max_leaf_nodes=3, min_samples_leaf=2, splitter=random;, score=-0.185 total time=   0.0s\n",
            "[CV 3/3] END max_depth=13, max_leaf_nodes=3, min_samples_leaf=2, splitter=random;, score=-0.183 total time=   0.0s\n",
            "[CV 1/3] END max_depth=13, max_leaf_nodes=3, min_samples_leaf=3, splitter=best;, score=-0.178 total time=   0.0s\n",
            "[CV 2/3] END max_depth=13, max_leaf_nodes=3, min_samples_leaf=3, splitter=best;, score=-0.191 total time=   0.0s\n",
            "[CV 3/3] END max_depth=13, max_leaf_nodes=3, min_samples_leaf=3, splitter=best;, score=-0.183 total time=   0.0s\n",
            "[CV 1/3] END max_depth=13, max_leaf_nodes=3, min_samples_leaf=3, splitter=random;, score=-0.179 total time=   0.0s\n",
            "[CV 2/3] END max_depth=13, max_leaf_nodes=3, min_samples_leaf=3, splitter=random;, score=-0.185 total time=   0.0s\n",
            "[CV 3/3] END max_depth=13, max_leaf_nodes=3, min_samples_leaf=3, splitter=random;, score=-0.183 total time=   0.0s\n",
            "[CV 1/3] END max_depth=13, max_leaf_nodes=3, min_samples_leaf=4, splitter=best;, score=-0.178 total time=   0.0s\n",
            "[CV 2/3] END max_depth=13, max_leaf_nodes=3, min_samples_leaf=4, splitter=best;, score=-0.191 total time=   0.0s\n",
            "[CV 3/3] END max_depth=13, max_leaf_nodes=3, min_samples_leaf=4, splitter=best;, score=-0.183 total time=   0.0s\n",
            "[CV 1/3] END max_depth=13, max_leaf_nodes=3, min_samples_leaf=4, splitter=random;, score=-0.179 total time=   0.0s\n",
            "[CV 2/3] END max_depth=13, max_leaf_nodes=3, min_samples_leaf=4, splitter=random;, score=-0.185 total time=   0.0s\n",
            "[CV 3/3] END max_depth=13, max_leaf_nodes=3, min_samples_leaf=4, splitter=random;, score=-0.183 total time=   0.0s\n",
            "[CV 1/3] END max_depth=13, max_leaf_nodes=3, min_samples_leaf=5, splitter=best;, score=-0.178 total time=   0.0s\n",
            "[CV 2/3] END max_depth=13, max_leaf_nodes=3, min_samples_leaf=5, splitter=best;, score=-0.191 total time=   0.0s\n",
            "[CV 3/3] END max_depth=13, max_leaf_nodes=3, min_samples_leaf=5, splitter=best;, score=-0.183 total time=   0.0s\n",
            "[CV 1/3] END max_depth=13, max_leaf_nodes=3, min_samples_leaf=5, splitter=random;, score=-0.179 total time=   0.0s\n",
            "[CV 2/3] END max_depth=13, max_leaf_nodes=3, min_samples_leaf=5, splitter=random;, score=-0.185 total time=   0.0s\n",
            "[CV 3/3] END max_depth=13, max_leaf_nodes=3, min_samples_leaf=5, splitter=random;, score=-0.183 total time=   0.0s\n",
            "[CV 1/3] END max_depth=13, max_leaf_nodes=3, min_samples_leaf=6, splitter=best;, score=-0.178 total time=   0.0s\n",
            "[CV 2/3] END max_depth=13, max_leaf_nodes=3, min_samples_leaf=6, splitter=best;, score=-0.191 total time=   0.0s\n",
            "[CV 3/3] END max_depth=13, max_leaf_nodes=3, min_samples_leaf=6, splitter=best;, score=-0.183 total time=   0.0s\n",
            "[CV 1/3] END max_depth=13, max_leaf_nodes=3, min_samples_leaf=6, splitter=random;, score=-0.179 total time=   0.0s\n",
            "[CV 2/3] END max_depth=13, max_leaf_nodes=3, min_samples_leaf=6, splitter=random;, score=-0.185 total time=   0.0s\n",
            "[CV 3/3] END max_depth=13, max_leaf_nodes=3, min_samples_leaf=6, splitter=random;, score=-0.183 total time=   0.0s\n",
            "[CV 1/3] END max_depth=13, max_leaf_nodes=4, min_samples_leaf=1, splitter=best;, score=-0.102 total time=   0.0s\n",
            "[CV 2/3] END max_depth=13, max_leaf_nodes=4, min_samples_leaf=1, splitter=best;, score=-0.114 total time=   0.0s\n",
            "[CV 3/3] END max_depth=13, max_leaf_nodes=4, min_samples_leaf=1, splitter=best;, score=-0.107 total time=   0.0s\n",
            "[CV 1/3] END max_depth=13, max_leaf_nodes=4, min_samples_leaf=1, splitter=random;, score=-0.135 total time=   0.0s\n",
            "[CV 2/3] END max_depth=13, max_leaf_nodes=4, min_samples_leaf=1, splitter=random;, score=-0.141 total time=   0.0s\n",
            "[CV 3/3] END max_depth=13, max_leaf_nodes=4, min_samples_leaf=1, splitter=random;, score=-0.136 total time=   0.0s\n",
            "[CV 1/3] END max_depth=13, max_leaf_nodes=4, min_samples_leaf=2, splitter=best;, score=-0.102 total time=   0.0s\n",
            "[CV 2/3] END max_depth=13, max_leaf_nodes=4, min_samples_leaf=2, splitter=best;, score=-0.114 total time=   0.0s\n",
            "[CV 3/3] END max_depth=13, max_leaf_nodes=4, min_samples_leaf=2, splitter=best;, score=-0.107 total time=   0.0s\n",
            "[CV 1/3] END max_depth=13, max_leaf_nodes=4, min_samples_leaf=2, splitter=random;, score=-0.135 total time=   0.0s\n",
            "[CV 2/3] END max_depth=13, max_leaf_nodes=4, min_samples_leaf=2, splitter=random;, score=-0.141 total time=   0.0s\n",
            "[CV 3/3] END max_depth=13, max_leaf_nodes=4, min_samples_leaf=2, splitter=random;, score=-0.136 total time=   0.0s\n",
            "[CV 1/3] END max_depth=13, max_leaf_nodes=4, min_samples_leaf=3, splitter=best;, score=-0.102 total time=   0.0s\n",
            "[CV 2/3] END max_depth=13, max_leaf_nodes=4, min_samples_leaf=3, splitter=best;, score=-0.114 total time=   0.0s\n",
            "[CV 3/3] END max_depth=13, max_leaf_nodes=4, min_samples_leaf=3, splitter=best;, score=-0.107 total time=   0.0s\n",
            "[CV 1/3] END max_depth=13, max_leaf_nodes=4, min_samples_leaf=3, splitter=random;, score=-0.135 total time=   0.0s\n",
            "[CV 2/3] END max_depth=13, max_leaf_nodes=4, min_samples_leaf=3, splitter=random;, score=-0.141 total time=   0.0s\n",
            "[CV 3/3] END max_depth=13, max_leaf_nodes=4, min_samples_leaf=3, splitter=random;, score=-0.136 total time=   0.0s\n",
            "[CV 1/3] END max_depth=13, max_leaf_nodes=4, min_samples_leaf=4, splitter=best;, score=-0.102 total time=   0.0s\n",
            "[CV 2/3] END max_depth=13, max_leaf_nodes=4, min_samples_leaf=4, splitter=best;, score=-0.114 total time=   0.0s\n",
            "[CV 3/3] END max_depth=13, max_leaf_nodes=4, min_samples_leaf=4, splitter=best;, score=-0.107 total time=   0.0s\n",
            "[CV 1/3] END max_depth=13, max_leaf_nodes=4, min_samples_leaf=4, splitter=random;, score=-0.135 total time=   0.0s\n",
            "[CV 2/3] END max_depth=13, max_leaf_nodes=4, min_samples_leaf=4, splitter=random;, score=-0.141 total time=   0.0s\n",
            "[CV 3/3] END max_depth=13, max_leaf_nodes=4, min_samples_leaf=4, splitter=random;, score=-0.136 total time=   0.0s\n",
            "[CV 1/3] END max_depth=13, max_leaf_nodes=4, min_samples_leaf=5, splitter=best;, score=-0.102 total time=   0.0s\n",
            "[CV 2/3] END max_depth=13, max_leaf_nodes=4, min_samples_leaf=5, splitter=best;, score=-0.114 total time=   0.0s\n",
            "[CV 3/3] END max_depth=13, max_leaf_nodes=4, min_samples_leaf=5, splitter=best;, score=-0.107 total time=   0.0s\n",
            "[CV 1/3] END max_depth=13, max_leaf_nodes=4, min_samples_leaf=5, splitter=random;, score=-0.135 total time=   0.0s\n",
            "[CV 2/3] END max_depth=13, max_leaf_nodes=4, min_samples_leaf=5, splitter=random;, score=-0.141 total time=   0.0s\n",
            "[CV 3/3] END max_depth=13, max_leaf_nodes=4, min_samples_leaf=5, splitter=random;, score=-0.136 total time=   0.0s\n",
            "[CV 1/3] END max_depth=13, max_leaf_nodes=4, min_samples_leaf=6, splitter=best;, score=-0.102 total time=   0.0s\n",
            "[CV 2/3] END max_depth=13, max_leaf_nodes=4, min_samples_leaf=6, splitter=best;, score=-0.114 total time=   0.0s\n",
            "[CV 3/3] END max_depth=13, max_leaf_nodes=4, min_samples_leaf=6, splitter=best;, score=-0.107 total time=   0.0s\n",
            "[CV 1/3] END max_depth=13, max_leaf_nodes=4, min_samples_leaf=6, splitter=random;, score=-0.135 total time=   0.0s\n",
            "[CV 2/3] END max_depth=13, max_leaf_nodes=4, min_samples_leaf=6, splitter=random;, score=-0.141 total time=   0.0s\n",
            "[CV 3/3] END max_depth=13, max_leaf_nodes=4, min_samples_leaf=6, splitter=random;, score=-0.136 total time=   0.0s\n"
          ]
        },
        {
          "output_type": "stream",
          "name": "stderr",
          "text": [
            "/usr/local/lib/python3.7/dist-packages/sklearn/model_selection/_validation.py:372: FitFailedWarning: \n",
            "180 fits failed out of a total of 900.\n",
            "The score on these train-test partitions for these parameters will be set to nan.\n",
            "If these failures are not expected, you can try to debug them by setting error_score='raise'.\n",
            "\n",
            "Below are more details about the failures:\n",
            "--------------------------------------------------------------------------------\n",
            "180 fits failed with the following error:\n",
            "Traceback (most recent call last):\n",
            "  File \"/usr/local/lib/python3.7/dist-packages/sklearn/model_selection/_validation.py\", line 680, in _fit_and_score\n",
            "    estimator.fit(X_train, y_train, **fit_params)\n",
            "  File \"/usr/local/lib/python3.7/dist-packages/sklearn/tree/_classes.py\", line 942, in fit\n",
            "    X_idx_sorted=X_idx_sorted,\n",
            "  File \"/usr/local/lib/python3.7/dist-packages/sklearn/tree/_classes.py\", line 316, in fit\n",
            "    max_leaf_nodes\n",
            "ValueError: max_leaf_nodes 1 must be either None or larger than 1\n",
            "\n",
            "  warnings.warn(some_fits_failed_message, FitFailedWarning)\n",
            "/usr/local/lib/python3.7/dist-packages/sklearn/model_selection/_search.py:972: UserWarning: One or more of the test scores are non-finite: [-0.18192164 -0.20811445 -0.18192164 -0.20811445 -0.18192164 -0.20811445\n",
            " -0.18192164 -0.20811445 -0.18192164 -0.20811445 -0.18192164 -0.20811445\n",
            "         nan         nan         nan         nan         nan         nan\n",
            "         nan         nan         nan         nan         nan         nan\n",
            " -0.18192164 -0.20811445 -0.18192164 -0.20811445 -0.18192164 -0.20811445\n",
            " -0.18192164 -0.20811445 -0.18192164 -0.20811445 -0.18192164 -0.20811445\n",
            " -0.18192164 -0.20811445 -0.18192164 -0.20811445 -0.18192164 -0.20811445\n",
            " -0.18192164 -0.20811445 -0.18192164 -0.20811445 -0.18192164 -0.20811445\n",
            " -0.18192164 -0.20811445 -0.18192164 -0.20811445 -0.18192164 -0.20811445\n",
            " -0.18192164 -0.20811445 -0.18192164 -0.20811445 -0.18192164 -0.20811445\n",
            " -0.10781973 -0.14763268 -0.10781973 -0.14763268 -0.10781973 -0.14763268\n",
            " -0.10781973 -0.14763268 -0.10781973 -0.14763268 -0.10781973 -0.14763268\n",
            "         nan         nan         nan         nan         nan         nan\n",
            "         nan         nan         nan         nan         nan         nan\n",
            " -0.18192164 -0.20811445 -0.18192164 -0.20811445 -0.18192164 -0.20811445\n",
            " -0.18192164 -0.20811445 -0.18192164 -0.20811445 -0.18192164 -0.20811445\n",
            " -0.18373168 -0.18220787 -0.18373168 -0.18220787 -0.18373168 -0.18220787\n",
            " -0.18373168 -0.18220787 -0.18373168 -0.18220787 -0.18373168 -0.18220787\n",
            " -0.10781973 -0.13715579 -0.10781973 -0.13715579 -0.10781973 -0.13715579\n",
            " -0.10781973 -0.13715579 -0.10781973 -0.13715579 -0.10781973 -0.13715579\n",
            " -0.08619867 -0.12372659 -0.08619867 -0.11715328 -0.08772267 -0.10524852\n",
            " -0.08810362 -0.10515328 -0.08857987 -0.11353532 -0.08857987 -0.10839247\n",
            "         nan         nan         nan         nan         nan         nan\n",
            "         nan         nan         nan         nan         nan         nan\n",
            " -0.18192164 -0.20811445 -0.18192164 -0.20811445 -0.18192164 -0.20811445\n",
            " -0.18192164 -0.20811445 -0.18192164 -0.20811445 -0.18192164 -0.20811445\n",
            " -0.18373168 -0.18220787 -0.18373168 -0.18220787 -0.18373168 -0.18220787\n",
            " -0.18373168 -0.18220787 -0.18373168 -0.18220787 -0.18373168 -0.18220787\n",
            " -0.10781973 -0.13715579 -0.10781973 -0.13715579 -0.10781973 -0.13715579\n",
            " -0.10781973 -0.13715579 -0.10781973 -0.13715579 -0.10781973 -0.13715579\n",
            " -0.09096085 -0.09915206 -0.09057987 -0.1009621  -0.09010365 -0.10820071\n",
            " -0.08972278 -0.10258174 -0.08905614 -0.10400964 -0.08981804 -0.0997246\n",
            "         nan         nan         nan         nan         nan         nan\n",
            "         nan         nan         nan         nan         nan         nan\n",
            " -0.18192164 -0.20811445 -0.18192164 -0.20811445 -0.18192164 -0.20811445\n",
            " -0.18192164 -0.20811445 -0.18192164 -0.20811445 -0.18192164 -0.20811445\n",
            " -0.18373168 -0.18220787 -0.18373168 -0.18220787 -0.18373168 -0.18220787\n",
            " -0.18373168 -0.18220787 -0.18373168 -0.18220787 -0.18373168 -0.18220787\n",
            " -0.10781973 -0.13715579 -0.10781973 -0.13715579 -0.10781973 -0.13715579\n",
            " -0.10781973 -0.13715579 -0.10781973 -0.13715579 -0.10781973 -0.13715579\n",
            " -0.09077029 -0.09610433 -0.09286566 -0.09762844 -0.09315127 -0.09867562\n",
            " -0.09162727 -0.09858022 -0.09267472 -0.09705674 -0.09438904 -0.10172389\n",
            "         nan         nan         nan         nan         nan         nan\n",
            "         nan         nan         nan         nan         nan         nan\n",
            " -0.18192164 -0.20811445 -0.18192164 -0.20811445 -0.18192164 -0.20811445\n",
            " -0.18192164 -0.20811445 -0.18192164 -0.20811445 -0.18192164 -0.20811445\n",
            " -0.18373168 -0.18220787 -0.18373168 -0.18220787 -0.18373168 -0.18220787\n",
            " -0.18373168 -0.18220787 -0.18373168 -0.18220787 -0.18373168 -0.18220787\n",
            " -0.10781973 -0.13715579 -0.10781973 -0.13715579 -0.10781973 -0.13715579\n",
            " -0.10781973 -0.13715579 -0.10781973 -0.13715579 -0.10781973 -0.13715579]\n",
            "  category=UserWarning,\n"
          ]
        },
        {
          "output_type": "execute_result",
          "data": {
            "text/plain": [
              "GridSearchCV(cv=3,\n",
              "             estimator=DecisionTreeClassifier(max_depth=20, random_state=10),\n",
              "             param_grid={'max_depth': [1, 3, 5, 8, 13],\n",
              "                         'max_leaf_nodes': [None, 1, 2, 3, 4],\n",
              "                         'min_samples_leaf': [1, 2, 3, 4, 5, 6],\n",
              "                         'splitter': ['best', 'random']},\n",
              "             scoring='neg_mean_squared_error', verbose=3)"
            ]
          },
          "metadata": {},
          "execution_count": 275
        }
      ]
    },
    {
      "cell_type": "code",
      "source": [
        "tuning_model.best_params_"
      ],
      "metadata": {
        "colab": {
          "base_uri": "https://localhost:8080/"
        },
        "id": "HZ6QWun_24Y8",
        "outputId": "2e36bfaa-d00b-419e-f1f6-4cd6a366d994"
      },
      "execution_count": 276,
      "outputs": [
        {
          "output_type": "execute_result",
          "data": {
            "text/plain": [
              "{'max_depth': 5,\n",
              " 'max_leaf_nodes': None,\n",
              " 'min_samples_leaf': 1,\n",
              " 'splitter': 'best'}"
            ]
          },
          "metadata": {},
          "execution_count": 276
        }
      ]
    },
    {
      "cell_type": "code",
      "source": [
        "# importing libraries\n",
        "from sklearn.tree import DecisionTreeRegressor\n",
        "from sklearn.tree import DecisionTreeClassifier\n",
        "from sklearn.model_selection import train_test_split\n",
        "import numpy as np\n",
        "from sklearn.metrics import mean_squared_error\n",
        "\n",
        "SEED = 10\n",
        "np.random.seed(SEED)\n",
        "\n",
        "# spliting\n",
        "X_train, X_test, y_train, y_test = train_test_split(u,t,test_size=0.25)\n",
        "\n",
        "\n",
        "# model\n",
        "model = DecisionTreeClassifier(random_state=SEED, max_depth=5, max_leaf_nodes=None, min_samples_leaf=1, splitter = 'best')\n",
        "model.fit(X_train, y_train)\n",
        "\n",
        "DecisionTreeScore = model.score(X_test, y_test)\n",
        "\n",
        "print('The DecisionTree had a score of {}%'.format((DecisionTreeScore*100).round(2)))"
      ],
      "metadata": {
        "colab": {
          "base_uri": "https://localhost:8080/"
        },
        "id": "5JlUIfKV4rdW",
        "outputId": "22de382c-cd02-484e-d1e3-f0fc1e17d417"
      },
      "execution_count": 277,
      "outputs": [
        {
          "output_type": "stream",
          "name": "stdout",
          "text": [
            "The DecisionTree had a score of 91.09%\n"
          ]
        }
      ]
    },
    {
      "cell_type": "code",
      "source": [
        "from sklearn.model_selection import cross_validate\n",
        "from sklearn.model_selection import KFold\n",
        "\n",
        "cv = KFold(n_splits = 10, shuffle = True)\n",
        "results_kf = cross_validate(model, scaled, t, cv = cv, return_train_score=False)\n",
        "results_cross = cross_validate(model, scaled, t, cv = 3, return_train_score=False)\n",
        "\n",
        "imprime_resultados(results_cross)\n",
        "print('-----------')\n",
        "imprime_resultados(results_kf)"
      ],
      "metadata": {
        "colab": {
          "base_uri": "https://localhost:8080/"
        },
        "id": "X3bczZTn465A",
        "outputId": "6a20327b-c117-40bf-c6d6-6f195a17fc54"
      },
      "execution_count": 278,
      "outputs": [
        {
          "output_type": "stream",
          "name": "stdout",
          "text": [
            "Average accuracy: 91.57\n",
            "Accuracy interval: [91.13, 92.02]\n",
            "-----------\n",
            "Average accuracy: 91.57\n",
            "Accuracy interval: [89.99, 93.14]\n"
          ]
        }
      ]
    },
    {
      "cell_type": "code",
      "source": [
        "y_pred_proba = model.predict_proba(X_test)[::,1]\n",
        "auc = metrics.roc_auc_score(y_test, y_pred_proba)\n",
        "\n",
        "false_positive_rate, true_positive_rate, thresolds = metrics.roc_curve(y_test, y_pred_proba)\n",
        "\n",
        "plt.figure(figsize=(10, 6), dpi=100)\n",
        "plt.axis('scaled')\n",
        "plt.xlim([0, 1])\n",
        "plt.ylim([0, 1])\n",
        "plt.title(\"AUC & ROC Curve\")\n",
        "plt.plot(false_positive_rate, true_positive_rate, 'g')\n",
        "plt.fill_between(false_positive_rate, true_positive_rate, facecolor='lightgreen', alpha=0.7)\n",
        "plt.text(0.95, 0.05, 'AUC = %0.4f' % auc, ha='right', fontsize=12, weight='bold', color='blue')\n",
        "plt.xlabel(\"False Positive Rate\")\n",
        "plt.ylabel(\"True Positive Rate\")\n",
        "plt.show()"
      ],
      "metadata": {
        "colab": {
          "base_uri": "https://localhost:8080/",
          "height": 554
        },
        "id": "0R_KjYN_5bpq",
        "outputId": "29b51d4a-18bd-44f3-d6d3-9c75daaced12"
      },
      "execution_count": 279,
      "outputs": [
        {
          "output_type": "display_data",
          "data": {
            "image/png": "[encoded data removed]",
            "text/plain": [
              "<Figure size 1000x600 with 1 Axes>"
            ]
          },
          "metadata": {
            "needs_background": "light"
          }
        }
      ]
    }
  ]
}